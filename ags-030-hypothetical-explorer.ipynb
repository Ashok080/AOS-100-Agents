{
 "cells": [
  {
   "cell_type": "code",
   "execution_count": 1,
   "id": "b4d34542",
   "metadata": {
    "_cell_guid": "b1076dfc-b9ad-4769-8c92-a6c4dae69d19",
    "_uuid": "8f2839f25d086af736a60e9eeb907d3b93b6e0e5",
    "execution": {
     "iopub.execute_input": "2025-07-26T13:01:17.665348Z",
     "iopub.status.busy": "2025-07-26T13:01:17.665015Z",
     "iopub.status.idle": "2025-07-26T13:01:19.940300Z",
     "shell.execute_reply": "2025-07-26T13:01:19.939351Z"
    },
    "papermill": {
     "duration": 2.280505,
     "end_time": "2025-07-26T13:01:19.942181",
     "exception": false,
     "start_time": "2025-07-26T13:01:17.661676",
     "status": "completed"
    },
    "tags": []
   },
   "outputs": [],
   "source": [
    "# This Python 3 environment comes with many helpful analytics libraries installed\n",
    "# It is defined by the kaggle/python Docker image: https://github.com/kaggle/docker-python\n",
    "# For example, here's several helpful packages to load\n",
    "\n",
    "import numpy as np # linear algebra\n",
    "import pandas as pd # data processing, CSV file I/O (e.g. pd.read_csv)\n",
    "\n",
    "# Input data files are available in the read-only \"../input/\" directory\n",
    "# For example, running this (by clicking run or pressing Shift+Enter) will list all files under the input directory\n",
    "\n",
    "import os\n",
    "for dirname, _, filenames in os.walk('/kaggle/input'):\n",
    "    for filename in filenames:\n",
    "        print(os.path.join(dirname, filename))\n",
    "\n",
    "# You can write up to 20GB to the current directory (/kaggle/working/) that gets preserved as output when you create a version using \"Save & Run All\" \n",
    "# You can also write temporary files to /kaggle/temp/, but they won't be saved outside of the current session"
   ]
  },
  {
   "cell_type": "code",
   "execution_count": 2,
   "id": "257741ac",
   "metadata": {
    "execution": {
     "iopub.execute_input": "2025-07-26T13:01:19.947232Z",
     "iopub.status.busy": "2025-07-26T13:01:19.946776Z",
     "iopub.status.idle": "2025-07-26T13:01:19.956912Z",
     "shell.execute_reply": "2025-07-26T13:01:19.955512Z"
    },
    "papermill": {
     "duration": 0.014616,
     "end_time": "2025-07-26T13:01:19.958865",
     "exception": true,
     "start_time": "2025-07-26T13:01:19.944249",
     "status": "failed"
    },
    "tags": []
   },
   "outputs": [
    {
     "ename": "SyntaxError",
     "evalue": "invalid character '🔍' (U+1F50D) (1501054371.py, line 17)",
     "output_type": "error",
     "traceback": [
      "\u001b[0;36m  File \u001b[0;32m\"/tmp/ipykernel_13/1501054371.py\"\u001b[0;36m, line \u001b[0;32m17\u001b[0m\n\u001b[0;31m    🔍 Sample Hypothetical Example\u001b[0m\n\u001b[0m    ^\u001b[0m\n\u001b[0;31mSyntaxError\u001b[0m\u001b[0;31m:\u001b[0m invalid character '🔍' (U+1F50D)\n"
     ]
    }
   ],
   "source": [
    "# AGS 030 – Hypothetical Explorer\n",
    "# 🎯 Goal: Help AGS imagine alternative scenarios and reason hypothetically\n",
    "\n",
    "import pandas as pd\n",
    "import json\n",
    "\n",
    "# ✅ Load hypothetical reasoning dataset (Upload as ags_030_hypothetical_explorer.json)\n",
    "with open('/kaggle/input/ags-030-hypothetical-explorer/ags_030_hypothetical_explorer.json') as f:\n",
    "    data = json.load(f)\n",
    "\n",
    "df = pd.DataFrame(data)\n",
    "df.head()\n",
    "\n",
    "\n",
    "\n",
    "\n",
    "🔍 Sample Hypothetical Example\n",
    "\n",
    "sample = df.sample(1).iloc[0]\n",
    "\n",
    "print(\"📌 Original Scenario:\", sample[\"situation\"])\n",
    "print(\"❓ What if...\", sample[\"what_if\"])\n",
    "print(\"🤖 AGS's Response:\", sample[\"answer\"])\n",
    "print(\"🔍 Reasoning Type:\", sample[\"reasoning_type\"])\n",
    "\n",
    "\n",
    "\n",
    "\n",
    "📊 Reasoning Type Distribution\n",
    "\n",
    "import seaborn as sns\n",
    "import matplotlib.pyplot as plt\n",
    "\n",
    "plt.figure(figsize=(8, 5))\n",
    "sns.countplot(data=df, x='reasoning_type', palette='viridis')\n",
    "plt.title(\"Types of Hypothetical Reasoning\")\n",
    "plt.xlabel(\"Reasoning Type\")\n",
    "plt.ylabel(\"Count\")\n",
    "plt.xticks(rotation=45)\n",
    "plt.tight_layout()\n",
    "plt.show()\n",
    "\n",
    "\n",
    "\n",
    "\n",
    "📁 Sample JSON Format\n",
    "\n",
    "Save this as: ags_030_hypothetical_explorer.json\n",
    "\n",
    "[\n",
    "  {\n",
    "    \"id\": \"he_001\",\n",
    "    \"situation\": \"A dog is barking loudly at night.\",\n",
    "    \"what_if\": \"What if the dog was barking because it sensed danger?\",\n",
    "    \"answer\": \"Then the dog might be trying to warn its owners about an intruder or unusual activity.\",\n",
    "    \"reasoning_type\": \"hypothetical cause\"\n",
    "  },\n",
    "  {\n",
    "    \"id\": \"he_002\",\n",
    "    \"situation\": \"A student forgot their homework.\",\n",
    "    \"what_if\": \"What if the student had completed it but left it at home?\",\n",
    "    \"answer\": \"Then the teacher might consider the student's responsibility level and decide to give partial credit.\",\n",
    "    \"reasoning_type\": \"hypothetical consequence\"\n",
    "  }\n",
    "]\n",
    "\n",
    "\n",
    "\n",
    "\n",
    "✅ Summary\n",
    "\n",
    "This notebook enables AGS to:\n",
    "- Reason about \"what if\" situations\n",
    "- Explore multiple outcomes\n",
    "- Think like a human in ambiguous or imagined scenarios"
   ]
  }
 ],
 "metadata": {
  "kaggle": {
   "accelerator": "none",
   "dataSources": [],
   "isGpuEnabled": false,
   "isInternetEnabled": true,
   "language": "python",
   "sourceType": "notebook"
  },
  "kernelspec": {
   "display_name": "Python 3",
   "language": "python",
   "name": "python3"
  },
  "language_info": {
   "codemirror_mode": {
    "name": "ipython",
    "version": 3
   },
   "file_extension": ".py",
   "mimetype": "text/x-python",
   "name": "python",
   "nbconvert_exporter": "python",
   "pygments_lexer": "ipython3",
   "version": "3.11.13"
  },
  "papermill": {
   "default_parameters": {},
   "duration": 8.03833,
   "end_time": "2025-07-26T13:01:20.583800",
   "environment_variables": {},
   "exception": true,
   "input_path": "__notebook__.ipynb",
   "output_path": "__notebook__.ipynb",
   "parameters": {},
   "start_time": "2025-07-26T13:01:12.545470",
   "version": "2.6.0"
  }
 },
 "nbformat": 4,
 "nbformat_minor": 5
}
