{
 "cells": [
  {
   "cell_type": "code",
   "execution_count": 1,
   "id": "0c06836b",
   "metadata": {
    "_cell_guid": "b1076dfc-b9ad-4769-8c92-a6c4dae69d19",
    "_uuid": "8f2839f25d086af736a60e9eeb907d3b93b6e0e5",
    "execution": {
     "iopub.execute_input": "2025-07-26T15:20:48.688822Z",
     "iopub.status.busy": "2025-07-26T15:20:48.688508Z",
     "iopub.status.idle": "2025-07-26T15:20:50.320255Z",
     "shell.execute_reply": "2025-07-26T15:20:50.319397Z"
    },
    "papermill": {
     "duration": 1.63568,
     "end_time": "2025-07-26T15:20:50.321657",
     "exception": false,
     "start_time": "2025-07-26T15:20:48.685977",
     "status": "completed"
    },
    "tags": []
   },
   "outputs": [],
   "source": [
    "# This Python 3 environment comes with many helpful analytics libraries installed\n",
    "# It is defined by the kaggle/python Docker image: https://github.com/kaggle/docker-python\n",
    "# For example, here's several helpful packages to load\n",
    "\n",
    "import numpy as np # linear algebra\n",
    "import pandas as pd # data processing, CSV file I/O (e.g. pd.read_csv)\n",
    "\n",
    "# Input data files are available in the read-only \"../input/\" directory\n",
    "# For example, running this (by clicking run or pressing Shift+Enter) will list all files under the input directory\n",
    "\n",
    "import os\n",
    "for dirname, _, filenames in os.walk('/kaggle/input'):\n",
    "    for filename in filenames:\n",
    "        print(os.path.join(dirname, filename))\n",
    "\n",
    "# You can write up to 20GB to the current directory (/kaggle/working/) that gets preserved as output when you create a version using \"Save & Run All\" \n",
    "# You can also write temporary files to /kaggle/temp/, but they won't be saved outside of the current session"
   ]
  },
  {
   "cell_type": "code",
   "execution_count": 2,
   "id": "c41959e8",
   "metadata": {
    "execution": {
     "iopub.execute_input": "2025-07-26T15:20:50.325183Z",
     "iopub.status.busy": "2025-07-26T15:20:50.324812Z",
     "iopub.status.idle": "2025-07-26T15:20:50.408015Z",
     "shell.execute_reply": "2025-07-26T15:20:50.406812Z"
    },
    "papermill": {
     "duration": 0.086104,
     "end_time": "2025-07-26T15:20:50.409235",
     "exception": true,
     "start_time": "2025-07-26T15:20:50.323131",
     "status": "failed"
    },
    "tags": []
   },
   "outputs": [
    {
     "ename": "ModuleNotFoundError",
     "evalue": "No module named 'AGS'",
     "output_type": "error",
     "traceback": [
      "\u001b[0;31m---------------------------------------------------------------------------\u001b[0m",
      "\u001b[0;31mModuleNotFoundError\u001b[0m                       Traceback (most recent call last)",
      "\u001b[0;32m/tmp/ipykernel_13/588717882.py\u001b[0m in \u001b[0;36m<cell line: 0>\u001b[0;34m()\u001b[0m\n\u001b[1;32m      5\u001b[0m \"\"\"\n\u001b[1;32m      6\u001b[0m \u001b[0;34m\u001b[0m\u001b[0m\n\u001b[0;32m----> 7\u001b[0;31m \u001b[0;32mfrom\u001b[0m \u001b[0mAGS\u001b[0m\u001b[0;34m.\u001b[0m\u001b[0mreasoning\u001b[0m \u001b[0;32mimport\u001b[0m \u001b[0mDeductiveReasoner\u001b[0m\u001b[0;34m\u001b[0m\u001b[0;34m\u001b[0m\u001b[0m\n\u001b[0m\u001b[1;32m      8\u001b[0m \u001b[0;32mfrom\u001b[0m \u001b[0mAGS\u001b[0m\u001b[0;34m.\u001b[0m\u001b[0mmemory\u001b[0m \u001b[0;32mimport\u001b[0m \u001b[0mAgentMemory\u001b[0m\u001b[0;34m\u001b[0m\u001b[0;34m\u001b[0m\u001b[0m\n\u001b[1;32m      9\u001b[0m \u001b[0;34m\u001b[0m\u001b[0m\n",
      "\u001b[0;31mModuleNotFoundError\u001b[0m: No module named 'AGS'"
     ]
    }
   ],
   "source": [
    "# AGS 051 – Logical Deduction from Symbolic Rules\n",
    "\n",
    "\"\"\"\n",
    "This notebook teaches AGS to perform deductive reasoning using symbolic logic rules (e.g., modus ponens).\n",
    "\"\"\"\n",
    "\n",
    "from AGS.reasoning import DeductiveReasoner\n",
    "from AGS.memory import AgentMemory\n",
    "\n",
    "# Initialize modules\n",
    "deductor = DeductiveReasoner()\n",
    "memory = AgentMemory()\n",
    "\n",
    "# Define symbolic rules\n",
    "rules = [\n",
    "    {\"if\": \"It is raining\", \"then\": \"The ground will be wet\"},\n",
    "    {\"if\": \"The ground is wet\", \"then\": \"People may carry umbrellas\"},\n",
    "    {\"if\": \"People carry umbrellas\", \"then\": \"Shops will sell more umbrellas\"},\n",
    "]\n",
    "\n",
    "# Initial fact\n",
    "facts = [\"It is raining\"]\n",
    "\n",
    "# Apply deduction\n",
    "deduced = deductor.apply_rules(facts, rules)\n",
    "\n",
    "# Show result\n",
    "print(\"Initial Fact:\", facts)\n",
    "print(\"Deduced Facts:\", deduced)\n",
    "\n",
    "# Store into memory\n",
    "for fact in deduced:\n",
    "    memory.store(\"Logical deduction\", fact, reasoning=\"deduction\")\n",
    "\n",
    "# More rules\n",
    "rules2 = [\n",
    "    {\"if\": \"All humans are mortal\", \"then\": \"Socrates is mortal\"},\n",
    "    {\"if\": \"Socrates is mortal\", \"then\": \"He will die eventually\"},\n",
    "]\n",
    "facts2 = [\"All humans are mortal\"]\n",
    "\n",
    "# Deduce\n",
    "deduced2 = deductor.apply_rules(facts2, rules2)\n",
    "print(\"Deduced from symbolic logic:\", deduced2)"
   ]
  }
 ],
 "metadata": {
  "kaggle": {
   "accelerator": "none",
   "dataSources": [],
   "isGpuEnabled": false,
   "isInternetEnabled": true,
   "language": "python",
   "sourceType": "notebook"
  },
  "kernelspec": {
   "display_name": "Python 3",
   "language": "python",
   "name": "python3"
  },
  "language_info": {
   "codemirror_mode": {
    "name": "ipython",
    "version": 3
   },
   "file_extension": ".py",
   "mimetype": "text/x-python",
   "name": "python",
   "nbconvert_exporter": "python",
   "pygments_lexer": "ipython3",
   "version": "3.11.13"
  },
  "papermill": {
   "default_parameters": {},
   "duration": 6.199542,
   "end_time": "2025-07-26T15:20:50.829170",
   "environment_variables": {},
   "exception": true,
   "input_path": "__notebook__.ipynb",
   "output_path": "__notebook__.ipynb",
   "parameters": {},
   "start_time": "2025-07-26T15:20:44.629628",
   "version": "2.6.0"
  }
 },
 "nbformat": 4,
 "nbformat_minor": 5
}
