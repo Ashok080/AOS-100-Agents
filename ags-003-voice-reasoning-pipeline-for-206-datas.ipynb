{
 "cells": [
  {
   "cell_type": "code",
   "execution_count": 1,
   "id": "c07f024c",
   "metadata": {
    "_cell_guid": "b1076dfc-b9ad-4769-8c92-a6c4dae69d19",
    "_uuid": "8f2839f25d086af736a60e9eeb907d3b93b6e0e5",
    "execution": {
     "iopub.execute_input": "2025-07-26T11:13:45.042096Z",
     "iopub.status.busy": "2025-07-26T11:13:45.041616Z",
     "iopub.status.idle": "2025-07-26T11:13:47.050699Z",
     "shell.execute_reply": "2025-07-26T11:13:47.049718Z"
    },
    "papermill": {
     "duration": 2.015185,
     "end_time": "2025-07-26T11:13:47.052597",
     "exception": false,
     "start_time": "2025-07-26T11:13:45.037412",
     "status": "completed"
    },
    "tags": []
   },
   "outputs": [],
   "source": [
    "# This Python 3 environment comes with many helpful analytics libraries installed\n",
    "# It is defined by the kaggle/python Docker image: https://github.com/kaggle/docker-python\n",
    "# For example, here's several helpful packages to load\n",
    "\n",
    "import numpy as np # linear algebra\n",
    "import pandas as pd # data processing, CSV file I/O (e.g. pd.read_csv)\n",
    "\n",
    "# Input data files are available in the read-only \"../input/\" directory\n",
    "# For example, running this (by clicking run or pressing Shift+Enter) will list all files under the input directory\n",
    "\n",
    "import os\n",
    "for dirname, _, filenames in os.walk('/kaggle/input'):\n",
    "    for filename in filenames:\n",
    "        print(os.path.join(dirname, filename))\n",
    "\n",
    "# You can write up to 20GB to the current directory (/kaggle/working/) that gets preserved as output when you create a version using \"Save & Run All\" \n",
    "# You can also write temporary files to /kaggle/temp/, but they won't be saved outside of the current session"
   ]
  },
  {
   "cell_type": "code",
   "execution_count": 2,
   "id": "468240e2",
   "metadata": {
    "execution": {
     "iopub.execute_input": "2025-07-26T11:13:47.059297Z",
     "iopub.status.busy": "2025-07-26T11:13:47.058835Z",
     "iopub.status.idle": "2025-07-26T11:13:47.149142Z",
     "shell.execute_reply": "2025-07-26T11:13:47.147774Z"
    },
    "papermill": {
     "duration": 0.095253,
     "end_time": "2025-07-26T11:13:47.150748",
     "exception": true,
     "start_time": "2025-07-26T11:13:47.055495",
     "status": "failed"
    },
    "tags": []
   },
   "outputs": [
    {
     "ename": "ModuleNotFoundError",
     "evalue": "No module named 'AGS'",
     "output_type": "error",
     "traceback": [
      "\u001b[0;31m---------------------------------------------------------------------------\u001b[0m",
      "\u001b[0;31mModuleNotFoundError\u001b[0m                       Traceback (most recent call last)",
      "\u001b[0;32m/tmp/ipykernel_13/1380684218.py\u001b[0m in \u001b[0;36m<cell line: 0>\u001b[0;34m()\u001b[0m\n\u001b[0;32m----> 1\u001b[0;31m \u001b[0;32mfrom\u001b[0m \u001b[0mAGS\u001b[0m\u001b[0;34m.\u001b[0m\u001b[0mmemory\u001b[0m \u001b[0;32mimport\u001b[0m \u001b[0mAGSMemory\u001b[0m\u001b[0;34m\u001b[0m\u001b[0;34m\u001b[0m\u001b[0m\n\u001b[0m\u001b[1;32m      2\u001b[0m \u001b[0;32mfrom\u001b[0m \u001b[0mAGS\u001b[0m\u001b[0;34m.\u001b[0m\u001b[0mreasoning\u001b[0m \u001b[0;32mimport\u001b[0m \u001b[0mAGSReasoner\u001b[0m\u001b[0;34m\u001b[0m\u001b[0;34m\u001b[0m\u001b[0m\n\u001b[1;32m      3\u001b[0m \u001b[0;32mfrom\u001b[0m \u001b[0mAGS\u001b[0m\u001b[0;34m.\u001b[0m\u001b[0mretrieval\u001b[0m \u001b[0;32mimport\u001b[0m \u001b[0mAGSRetriever\u001b[0m\u001b[0;34m\u001b[0m\u001b[0;34m\u001b[0m\u001b[0m\n\u001b[1;32m      4\u001b[0m \u001b[0;32mfrom\u001b[0m \u001b[0mAGS\u001b[0m\u001b[0;34m.\u001b[0m\u001b[0mvoice\u001b[0m \u001b[0;32mimport\u001b[0m \u001b[0mVoiceProcessor\u001b[0m\u001b[0;34m\u001b[0m\u001b[0;34m\u001b[0m\u001b[0m\n\u001b[1;32m      5\u001b[0m \u001b[0;32mfrom\u001b[0m \u001b[0mAGS\u001b[0m\u001b[0;34m.\u001b[0m\u001b[0mconfig\u001b[0m \u001b[0;32mimport\u001b[0m \u001b[0mAGSConfig\u001b[0m\u001b[0;34m\u001b[0m\u001b[0;34m\u001b[0m\u001b[0m\n",
      "\u001b[0;31mModuleNotFoundError\u001b[0m: No module named 'AGS'"
     ]
    }
   ],
   "source": [
    "from AGS.memory import AGSMemory\n",
    "from AGS.reasoning import AGSReasoner\n",
    "from AGS.retrieval import AGSRetriever\n",
    "from AGS.voice import VoiceProcessor\n",
    "from AGS.config import AGSConfig\n",
    "import json, os\n",
    "\n",
    "# Load config and initialize components\n",
    "AGSConfig().load_env()\n",
    "reasoner = AGSReasoner()\n",
    "voice = VoiceProcessor()\n",
    "\n",
    "DATASET_DIR = \"datasets\"\n",
    "OUTPUT_DIR = \"output\"\n",
    "os.makedirs(OUTPUT_DIR, exist_ok=True)\n",
    "\n",
    "dataset_files = sorted([f for f in os.listdir(DATASET_DIR) if f.endswith(\".json\")])\n",
    "\n",
    "for idx, filename in enumerate(dataset_files, 1):\n",
    "    with open(os.path.join(DATASET_DIR, filename)) as f:\n",
    "        data = json.load(f)\n",
    "\n",
    "    # Extract user query\n",
    "    user_query = data.get(\"question\") or data.get(\"prompt\") or str(data)\n",
    "\n",
    "    # 🤖 Reasoning output\n",
    "    explanation = reasoner.explain_code(user_query)\n",
    "\n",
    "    # 🔊 Voice output\n",
    "    audio_url = voice.speak(explanation)\n",
    "\n",
    "    # Save output\n",
    "    output_data = {\n",
    "        \"input\": data,\n",
    "        \"reasoning\": explanation,\n",
    "        \"voice\": audio_url\n",
    "    }\n",
    "\n",
    "    with open(f\"{OUTPUT_DIR}/{filename.replace('.json', '_response.json')}\", \"w\") as out_f:\n",
    "        json.dump(output_data, out_f, indent=2)\n",
    "\n",
    "    print(f\"✅ Processed {idx:03}: {filename}\")"
   ]
  },
  {
   "cell_type": "code",
   "execution_count": null,
   "id": "d9ac2baa",
   "metadata": {
    "execution": {
     "iopub.execute_input": "2025-07-26T11:12:57.273267Z",
     "iopub.status.busy": "2025-07-26T11:12:57.273001Z",
     "iopub.status.idle": "2025-07-26T11:12:57.283698Z",
     "shell.execute_reply": "2025-07-26T11:12:57.282827Z",
     "shell.execute_reply.started": "2025-07-26T11:12:57.273247Z"
    },
    "papermill": {
     "duration": null,
     "end_time": null,
     "exception": null,
     "start_time": null,
     "status": "pending"
    },
    "tags": []
   },
   "outputs": [],
   "source": [
    "import os\n",
    "from dotenv import load_dotenv\n",
    "\n",
    "class AGSConfig:\n",
    "    def load_env(self):\n",
    "        load_dotenv()\n",
    "        self.OPENAI_API_KEY = os.getenv(\"OPENAI_API_KEY\")\n",
    "        self.ELEVENLABS_API_KEY = os.getenv(\"ELEVENLABS_API_KEY\")\n",
    "        self.ELEVENLABS_VOICE_ID = os.getenv(\"ELEVENLABS_VOICE_ID\")"
   ]
  },
  {
   "cell_type": "code",
   "execution_count": null,
   "id": "4eca4b90",
   "metadata": {
    "execution": {
     "iopub.execute_input": "2025-07-26T11:13:00.067641Z",
     "iopub.status.busy": "2025-07-26T11:13:00.066998Z",
     "iopub.status.idle": "2025-07-26T11:13:01.776174Z",
     "shell.execute_reply": "2025-07-26T11:13:01.775369Z",
     "shell.execute_reply.started": "2025-07-26T11:13:00.067607Z"
    },
    "papermill": {
     "duration": null,
     "end_time": null,
     "exception": null,
     "start_time": null,
     "status": "pending"
    },
    "tags": []
   },
   "outputs": [],
   "source": [
    "import openai\n",
    "import os\n",
    "\n",
    "class AGSReasoner:\n",
    "    def __init__(self):\n",
    "        openai.api_key = os.getenv(\"OPENAI_API_KEY\")\n",
    "\n",
    "    def explain_code(self, prompt):\n",
    "        messages = [\n",
    "            {\"role\": \"system\", \"content\": \"You're a reasoning AI that explains logic clearly.\"},\n",
    "            {\"role\": \"user\", \"content\": prompt}\n",
    "        ]\n",
    "        response = openai.ChatCompletion.create(\n",
    "            model=\"gpt-4o\",\n",
    "            messages=messages,\n",
    "            temperature=0.5\n",
    "        )\n",
    "        return response.choices[0].message[\"content\"]"
   ]
  },
  {
   "cell_type": "code",
   "execution_count": null,
   "id": "d549b814",
   "metadata": {
    "execution": {
     "iopub.execute_input": "2025-07-26T11:13:02.717678Z",
     "iopub.status.busy": "2025-07-26T11:13:02.716960Z",
     "iopub.status.idle": "2025-07-26T11:13:02.837405Z",
     "shell.execute_reply": "2025-07-26T11:13:02.836699Z",
     "shell.execute_reply.started": "2025-07-26T11:13:02.717651Z"
    },
    "papermill": {
     "duration": null,
     "end_time": null,
     "exception": null,
     "start_time": null,
     "status": "pending"
    },
    "tags": []
   },
   "outputs": [],
   "source": [
    "import requests\n",
    "import os\n",
    "\n",
    "class VoiceProcessor:\n",
    "    def __init__(self):\n",
    "        self.api_key = os.getenv(\"ELEVENLABS_API_KEY\")\n",
    "        self.voice_id = os.getenv(\"ELEVENLABS_VOICE_ID\")\n",
    "\n",
    "    def speak(self, text):\n",
    "        url = f\"https://api.elevenlabs.io/v1/text-to-speech/{self.voice_id}\"\n",
    "        headers = {\n",
    "            \"xi-api-key\": self.api_key,\n",
    "            \"Content-Type\": \"application/json\"\n",
    "        }\n",
    "        data = {\n",
    "            \"text\": text,\n",
    "            \"model_id\": \"eleven_monolingual_v1\",\n",
    "            \"voice_settings\": {\"stability\": 0.5, \"similarity_boost\": 0.75}\n",
    "        }\n",
    "\n",
    "        response = requests.post(url, json=data, headers=headers)\n",
    "        if response.status_code == 200:\n",
    "            out_path = f\"output/audio_{hash(text)}.mp3\"\n",
    "            with open(out_path, \"wb\") as f:\n",
    "                f.write(response.content)\n",
    "            return out_path\n",
    "        else:\n",
    "            return \"Voice generation failed.\""
   ]
  },
  {
   "cell_type": "code",
   "execution_count": null,
   "id": "b2d44be9",
   "metadata": {
    "execution": {
     "iopub.execute_input": "2025-07-26T11:13:06.230657Z",
     "iopub.status.busy": "2025-07-26T11:13:06.229740Z",
     "iopub.status.idle": "2025-07-26T11:13:09.837177Z",
     "shell.execute_reply": "2025-07-26T11:13:09.836265Z",
     "shell.execute_reply.started": "2025-07-26T11:13:06.230622Z"
    },
    "papermill": {
     "duration": null,
     "end_time": null,
     "exception": null,
     "start_time": null,
     "status": "pending"
    },
    "tags": []
   },
   "outputs": [],
   "source": [
    "pip install openai python-dotenv requests"
   ]
  },
  {
   "cell_type": "code",
   "execution_count": null,
   "id": "3aa526b7",
   "metadata": {
    "execution": {
     "iopub.execute_input": "2025-07-26T11:13:13.177072Z",
     "iopub.status.busy": "2025-07-26T11:13:13.176742Z",
     "iopub.status.idle": "2025-07-26T11:13:13.238194Z",
     "shell.execute_reply": "2025-07-26T11:13:13.237096Z",
     "shell.execute_reply.started": "2025-07-26T11:13:13.177040Z"
    },
    "papermill": {
     "duration": null,
     "end_time": null,
     "exception": null,
     "start_time": null,
     "status": "pending"
    },
    "tags": []
   },
   "outputs": [],
   "source": [
    "from AGS.memory import AGSMemory\n",
    "from AGS.reasoning import AGSReasoner\n",
    "from AGS.voice import VoiceProcessor\n",
    "from AGS.config import AGSConfig"
   ]
  }
 ],
 "metadata": {
  "kaggle": {
   "accelerator": "none",
   "dataSources": [],
   "dockerImageVersionId": 31089,
   "isGpuEnabled": false,
   "isInternetEnabled": true,
   "language": "python",
   "sourceType": "notebook"
  },
  "kernelspec": {
   "display_name": "Python 3",
   "language": "python",
   "name": "python3"
  },
  "language_info": {
   "codemirror_mode": {
    "name": "ipython",
    "version": 3
   },
   "file_extension": ".py",
   "mimetype": "text/x-python",
   "name": "python",
   "nbconvert_exporter": "python",
   "pygments_lexer": "ipython3",
   "version": "3.11.13"
  },
  "papermill": {
   "default_parameters": {},
   "duration": 8.868366,
   "end_time": "2025-07-26T11:13:47.676206",
   "environment_variables": {},
   "exception": true,
   "input_path": "__notebook__.ipynb",
   "output_path": "__notebook__.ipynb",
   "parameters": {},
   "start_time": "2025-07-26T11:13:38.807840",
   "version": "2.6.0"
  }
 },
 "nbformat": 4,
 "nbformat_minor": 5
}
