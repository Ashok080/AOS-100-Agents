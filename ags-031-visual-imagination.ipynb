{
 "cells": [
  {
   "cell_type": "code",
   "execution_count": 1,
   "id": "d8bdc1ee",
   "metadata": {
    "_cell_guid": "b1076dfc-b9ad-4769-8c92-a6c4dae69d19",
    "_uuid": "8f2839f25d086af736a60e9eeb907d3b93b6e0e5",
    "execution": {
     "iopub.execute_input": "2025-07-26T13:05:29.909540Z",
     "iopub.status.busy": "2025-07-26T13:05:29.909111Z",
     "iopub.status.idle": "2025-07-26T13:05:31.652426Z",
     "shell.execute_reply": "2025-07-26T13:05:31.651584Z"
    },
    "papermill": {
     "duration": 1.748284,
     "end_time": "2025-07-26T13:05:31.654146",
     "exception": false,
     "start_time": "2025-07-26T13:05:29.905862",
     "status": "completed"
    },
    "tags": []
   },
   "outputs": [],
   "source": [
    "# This Python 3 environment comes with many helpful analytics libraries installed\n",
    "# It is defined by the kaggle/python Docker image: https://github.com/kaggle/docker-python\n",
    "# For example, here's several helpful packages to load\n",
    "\n",
    "import numpy as np # linear algebra\n",
    "import pandas as pd # data processing, CSV file I/O (e.g. pd.read_csv)\n",
    "\n",
    "# Input data files are available in the read-only \"../input/\" directory\n",
    "# For example, running this (by clicking run or pressing Shift+Enter) will list all files under the input directory\n",
    "\n",
    "import os\n",
    "for dirname, _, filenames in os.walk('/kaggle/input'):\n",
    "    for filename in filenames:\n",
    "        print(os.path.join(dirname, filename))\n",
    "\n",
    "# You can write up to 20GB to the current directory (/kaggle/working/) that gets preserved as output when you create a version using \"Save & Run All\" \n",
    "# You can also write temporary files to /kaggle/temp/, but they won't be saved outside of the current session"
   ]
  },
  {
   "cell_type": "code",
   "execution_count": 2,
   "id": "7de4f122",
   "metadata": {
    "execution": {
     "iopub.execute_input": "2025-07-26T13:05:31.659156Z",
     "iopub.status.busy": "2025-07-26T13:05:31.658760Z",
     "iopub.status.idle": "2025-07-26T13:05:31.667589Z",
     "shell.execute_reply": "2025-07-26T13:05:31.666395Z"
    },
    "papermill": {
     "duration": 0.012539,
     "end_time": "2025-07-26T13:05:31.668799",
     "exception": true,
     "start_time": "2025-07-26T13:05:31.656260",
     "status": "failed"
    },
    "tags": []
   },
   "outputs": [
    {
     "ename": "SyntaxError",
     "evalue": "invalid character '🖼' (U+1F5BC) (3835554324.py, line 17)",
     "output_type": "error",
     "traceback": [
      "\u001b[0;36m  File \u001b[0;32m\"/tmp/ipykernel_13/3835554324.py\"\u001b[0;36m, line \u001b[0;32m17\u001b[0m\n\u001b[0;31m    🖼️ View Sample Entry\u001b[0m\n\u001b[0m    ^\u001b[0m\n\u001b[0;31mSyntaxError\u001b[0m\u001b[0;31m:\u001b[0m invalid character '🖼' (U+1F5BC)\n"
     ]
    }
   ],
   "source": [
    "# AGS 031 – Visual Imagination\n",
    "# 🎯 Goal: Help AGS imagine visual scenes and respond with descriptive or reasoning outputs\n",
    "\n",
    "import pandas as pd\n",
    "import json\n",
    "\n",
    "# ✅ Load the visual imagination dataset (Upload as ags_031_visual_imagination.json)\n",
    "with open('/kaggle/input/ags-031-visual-imagination/ags_031_visual_imagination.json') as f:\n",
    "    data = json.load(f)\n",
    "\n",
    "df = pd.DataFrame(data)\n",
    "df.head()\n",
    "\n",
    "\n",
    "\n",
    "\n",
    "🖼️ View Sample Entry\n",
    "\n",
    "sample = df.sample(1).iloc[0]\n",
    "\n",
    "print(\"🧠 Prompt:\", sample[\"prompt\"])\n",
    "print(\"🎨 Imagination (Text Description):\", sample[\"description\"])\n",
    "print(\"🧩 Reasoning Type:\", sample[\"reasoning_type\"])\n",
    "\n",
    "\n",
    "\n",
    "\n",
    "📊 Description Length Distribution\n",
    "\n",
    "df['length'] = df['description'].apply(len)\n",
    "\n",
    "import matplotlib.pyplot as plt\n",
    "\n",
    "plt.figure(figsize=(8, 4))\n",
    "plt.hist(df['length'], bins=30, color='salmon')\n",
    "plt.title(\"Distribution of Description Lengths\")\n",
    "plt.xlabel(\"Character Length\")\n",
    "plt.ylabel(\"Number of Samples\")\n",
    "plt.grid(True)\n",
    "plt.tight_layout()\n",
    "plt.show()\n",
    "\n",
    "\n",
    "\n",
    "\n",
    "🧠 Example JSON Format\n",
    "\n",
    "Save this as: ags_031_visual_imagination.json\n",
    "\n",
    "[\n",
    "  {\n",
    "    \"id\": \"vi_001\",\n",
    "    \"prompt\": \"Imagine a cat sitting on a windowsill during a rainy day.\",\n",
    "    \"description\": \"A fluffy orange cat sits curled up on a white windowsill, raindrops trickling down the glass behind it. Outside, grey clouds loom, and puddles ripple with falling drops.\",\n",
    "    \"reasoning_type\": \"visual imagination\"\n",
    "  },\n",
    "  {\n",
    "    \"id\": \"vi_002\",\n",
    "    \"prompt\": \"Visualize a busy street market at sunset.\",\n",
    "    \"description\": \"Stalls brimming with fruits and spices line the narrow road, golden sunlight casting long shadows. The air is filled with chatter and the scent of food sizzling on grills.\",\n",
    "    \"reasoning_type\": \"visual imagination\"\n",
    "  }\n",
    "]"
   ]
  }
 ],
 "metadata": {
  "kaggle": {
   "accelerator": "none",
   "dataSources": [],
   "dockerImageVersionId": 31089,
   "isGpuEnabled": false,
   "isInternetEnabled": true,
   "language": "python",
   "sourceType": "notebook"
  },
  "kernelspec": {
   "display_name": "Python 3",
   "language": "python",
   "name": "python3"
  },
  "language_info": {
   "codemirror_mode": {
    "name": "ipython",
    "version": 3
   },
   "file_extension": ".py",
   "mimetype": "text/x-python",
   "name": "python",
   "nbconvert_exporter": "python",
   "pygments_lexer": "ipython3",
   "version": "3.11.13"
  },
  "papermill": {
   "default_parameters": {},
   "duration": 6.824262,
   "end_time": "2025-07-26T13:05:32.190383",
   "environment_variables": {},
   "exception": true,
   "input_path": "__notebook__.ipynb",
   "output_path": "__notebook__.ipynb",
   "parameters": {},
   "start_time": "2025-07-26T13:05:25.366121",
   "version": "2.6.0"
  }
 },
 "nbformat": 4,
 "nbformat_minor": 5
}
