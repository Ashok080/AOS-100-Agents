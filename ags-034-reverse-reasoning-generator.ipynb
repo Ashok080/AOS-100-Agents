{
 "cells": [
  {
   "cell_type": "code",
   "execution_count": 1,
   "id": "096f1615",
   "metadata": {
    "_cell_guid": "b1076dfc-b9ad-4769-8c92-a6c4dae69d19",
    "_uuid": "8f2839f25d086af736a60e9eeb907d3b93b6e0e5",
    "execution": {
     "iopub.execute_input": "2025-07-26T13:13:55.445040Z",
     "iopub.status.busy": "2025-07-26T13:13:55.444589Z",
     "iopub.status.idle": "2025-07-26T13:13:57.404741Z",
     "shell.execute_reply": "2025-07-26T13:13:57.403741Z"
    },
    "papermill": {
     "duration": 1.965758,
     "end_time": "2025-07-26T13:13:57.406906",
     "exception": false,
     "start_time": "2025-07-26T13:13:55.441148",
     "status": "completed"
    },
    "tags": []
   },
   "outputs": [],
   "source": [
    "# This Python 3 environment comes with many helpful analytics libraries installed\n",
    "# It is defined by the kaggle/python Docker image: https://github.com/kaggle/docker-python\n",
    "# For example, here's several helpful packages to load\n",
    "\n",
    "import numpy as np # linear algebra\n",
    "import pandas as pd # data processing, CSV file I/O (e.g. pd.read_csv)\n",
    "\n",
    "# Input data files are available in the read-only \"../input/\" directory\n",
    "# For example, running this (by clicking run or pressing Shift+Enter) will list all files under the input directory\n",
    "\n",
    "import os\n",
    "for dirname, _, filenames in os.walk('/kaggle/input'):\n",
    "    for filename in filenames:\n",
    "        print(os.path.join(dirname, filename))\n",
    "\n",
    "# You can write up to 20GB to the current directory (/kaggle/working/) that gets preserved as output when you create a version using \"Save & Run All\" \n",
    "# You can also write temporary files to /kaggle/temp/, but they won't be saved outside of the current session"
   ]
  },
  {
   "cell_type": "code",
   "execution_count": 2,
   "id": "b35ced90",
   "metadata": {
    "execution": {
     "iopub.execute_input": "2025-07-26T13:13:57.412394Z",
     "iopub.status.busy": "2025-07-26T13:13:57.411955Z",
     "iopub.status.idle": "2025-07-26T13:13:57.421566Z",
     "shell.execute_reply": "2025-07-26T13:13:57.420000Z"
    },
    "papermill": {
     "duration": 0.014182,
     "end_time": "2025-07-26T13:13:57.423349",
     "exception": true,
     "start_time": "2025-07-26T13:13:57.409167",
     "status": "failed"
    },
    "tags": []
   },
   "outputs": [
    {
     "ename": "SyntaxError",
     "evalue": "invalid character '🔄' (U+1F504) (4273712726.py, line 17)",
     "output_type": "error",
     "traceback": [
      "\u001b[0;36m  File \u001b[0;32m\"/tmp/ipykernel_13/4273712726.py\"\u001b[0;36m, line \u001b[0;32m17\u001b[0m\n\u001b[0;31m    🔄 Show One Reverse Reasoning Example\u001b[0m\n\u001b[0m    ^\u001b[0m\n\u001b[0;31mSyntaxError\u001b[0m\u001b[0;31m:\u001b[0m invalid character '🔄' (U+1F504)\n"
     ]
    }
   ],
   "source": [
    "# AGS 034 – Reverse Reasoning Generator\n",
    "# 🎯 Goal: Given an answer, generate a question and situation that leads to that conclusion (reverse chain-of-thought)\n",
    "\n",
    "import pandas as pd\n",
    "import json\n",
    "\n",
    "# ✅ Load dataset (Upload as ags_034_reverse_reasoning.json)\n",
    "with open('/kaggle/input/ags-034-reverse-reasoning/ags_034_reverse_reasoning.json') as f:\n",
    "    data = json.load(f)\n",
    "\n",
    "df = pd.DataFrame(data)\n",
    "df.head()\n",
    "\n",
    "\n",
    "\n",
    "\n",
    "🔄 Show One Reverse Reasoning Example\n",
    "\n",
    "sample = df.sample(1).iloc[0]\n",
    "print(\"🟢 Answer:\", sample[\"answer\"])\n",
    "print(\"❓ Question:\", sample[\"question\"])\n",
    "print(\"📘 Situation:\", sample[\"situation\"])\n",
    "print(\"🧠 Reasoning Type:\", sample[\"reasoning_type\"])\n",
    "\n",
    "\n",
    "\n",
    "\n",
    "📊 Reasoning Pattern Word Cloud (Optional)\n",
    "\n",
    "from wordcloud import WordCloud\n",
    "import matplotlib.pyplot as plt\n",
    "\n",
    "text = \" \".join(df[\"answer\"])\n",
    "wordcloud = WordCloud(width=800, height=400, background_color='white').generate(text)\n",
    "\n",
    "plt.figure(figsize=(10, 5))\n",
    "plt.imshow(wordcloud, interpolation='bilinear')\n",
    "plt.axis(\"off\")\n",
    "plt.title(\"🧠 Common Words in Answers (Reverse Reasoning)\")\n",
    "plt.show()\n",
    "\n",
    "\n",
    "\n",
    "\n",
    "💾 Example JSON Format\n",
    "\n",
    "Save as ags_034_reverse_reasoning.json:\n",
    "\n",
    "[\n",
    "  {\n",
    "    \"id\": \"rr_001\",\n",
    "    \"answer\": \"She took the umbrella because it was raining.\",\n",
    "    \"question\": \"Why did she take the umbrella?\",\n",
    "    \"situation\": \"A woman stands at her front door and sees dark clouds and droplets hitting the ground.\",\n",
    "    \"reasoning_type\": \"reverse reasoning\"\n",
    "  },\n",
    "  {\n",
    "    \"id\": \"rr_002\",\n",
    "    \"answer\": \"He ran because the dog barked.\",\n",
    "    \"question\": \"Why did he run away?\",\n",
    "    \"situation\": \"A boy walks past a fence when suddenly a large dog appears and growls.\",\n",
    "    \"reasoning_type\": \"reverse reasoning\"\n",
    "  }\n",
    "]"
   ]
  }
 ],
 "metadata": {
  "kaggle": {
   "accelerator": "none",
   "dataSources": [],
   "isGpuEnabled": false,
   "isInternetEnabled": true,
   "language": "python",
   "sourceType": "notebook"
  },
  "kernelspec": {
   "display_name": "Python 3",
   "language": "python",
   "name": "python3"
  },
  "language_info": {
   "codemirror_mode": {
    "name": "ipython",
    "version": 3
   },
   "file_extension": ".py",
   "mimetype": "text/x-python",
   "name": "python",
   "nbconvert_exporter": "python",
   "pygments_lexer": "ipython3",
   "version": "3.11.13"
  },
  "papermill": {
   "default_parameters": {},
   "duration": 7.940094,
   "end_time": "2025-07-26T13:13:58.046724",
   "environment_variables": {},
   "exception": true,
   "input_path": "__notebook__.ipynb",
   "output_path": "__notebook__.ipynb",
   "parameters": {},
   "start_time": "2025-07-26T13:13:50.106630",
   "version": "2.6.0"
  }
 },
 "nbformat": 4,
 "nbformat_minor": 5
}
