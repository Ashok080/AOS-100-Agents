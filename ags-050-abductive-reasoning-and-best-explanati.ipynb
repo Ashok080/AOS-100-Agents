{
 "cells": [
  {
   "cell_type": "code",
   "execution_count": 1,
   "id": "657e4e01",
   "metadata": {
    "_cell_guid": "b1076dfc-b9ad-4769-8c92-a6c4dae69d19",
    "_uuid": "8f2839f25d086af736a60e9eeb907d3b93b6e0e5",
    "execution": {
     "iopub.execute_input": "2025-07-26T15:18:30.430496Z",
     "iopub.status.busy": "2025-07-26T15:18:30.430217Z",
     "iopub.status.idle": "2025-07-26T15:18:32.221754Z",
     "shell.execute_reply": "2025-07-26T15:18:32.220759Z"
    },
    "papermill": {
     "duration": 1.797495,
     "end_time": "2025-07-26T15:18:32.223373",
     "exception": false,
     "start_time": "2025-07-26T15:18:30.425878",
     "status": "completed"
    },
    "tags": []
   },
   "outputs": [],
   "source": [
    "# This Python 3 environment comes with many helpful analytics libraries installed\n",
    "# It is defined by the kaggle/python Docker image: https://github.com/kaggle/docker-python\n",
    "# For example, here's several helpful packages to load\n",
    "\n",
    "import numpy as np # linear algebra\n",
    "import pandas as pd # data processing, CSV file I/O (e.g. pd.read_csv)\n",
    "\n",
    "# Input data files are available in the read-only \"../input/\" directory\n",
    "# For example, running this (by clicking run or pressing Shift+Enter) will list all files under the input directory\n",
    "\n",
    "import os\n",
    "for dirname, _, filenames in os.walk('/kaggle/input'):\n",
    "    for filename in filenames:\n",
    "        print(os.path.join(dirname, filename))\n",
    "\n",
    "# You can write up to 20GB to the current directory (/kaggle/working/) that gets preserved as output when you create a version using \"Save & Run All\" \n",
    "# You can also write temporary files to /kaggle/temp/, but they won't be saved outside of the current session"
   ]
  },
  {
   "cell_type": "code",
   "execution_count": 2,
   "id": "a1707426",
   "metadata": {
    "execution": {
     "iopub.execute_input": "2025-07-26T15:18:32.228175Z",
     "iopub.status.busy": "2025-07-26T15:18:32.227775Z",
     "iopub.status.idle": "2025-07-26T15:18:32.309541Z",
     "shell.execute_reply": "2025-07-26T15:18:32.308541Z"
    },
    "papermill": {
     "duration": 0.085568,
     "end_time": "2025-07-26T15:18:32.310798",
     "exception": true,
     "start_time": "2025-07-26T15:18:32.225230",
     "status": "failed"
    },
    "tags": []
   },
   "outputs": [
    {
     "ename": "ModuleNotFoundError",
     "evalue": "No module named 'AGS'",
     "output_type": "error",
     "traceback": [
      "\u001b[0;31m---------------------------------------------------------------------------\u001b[0m",
      "\u001b[0;31mModuleNotFoundError\u001b[0m                       Traceback (most recent call last)",
      "\u001b[0;32m/tmp/ipykernel_13/364174074.py\u001b[0m in \u001b[0;36m<cell line: 0>\u001b[0;34m()\u001b[0m\n\u001b[1;32m      6\u001b[0m \"\"\"\n\u001b[1;32m      7\u001b[0m \u001b[0;34m\u001b[0m\u001b[0m\n\u001b[0;32m----> 8\u001b[0;31m \u001b[0;32mfrom\u001b[0m \u001b[0mAGS\u001b[0m\u001b[0;34m.\u001b[0m\u001b[0mreasoning\u001b[0m \u001b[0;32mimport\u001b[0m \u001b[0mAbductiveReasoner\u001b[0m\u001b[0;34m\u001b[0m\u001b[0;34m\u001b[0m\u001b[0m\n\u001b[0m\u001b[1;32m      9\u001b[0m \u001b[0;32mfrom\u001b[0m \u001b[0mAGS\u001b[0m\u001b[0;34m.\u001b[0m\u001b[0mmemory\u001b[0m \u001b[0;32mimport\u001b[0m \u001b[0mAgentMemory\u001b[0m\u001b[0;34m\u001b[0m\u001b[0;34m\u001b[0m\u001b[0m\n\u001b[1;32m     10\u001b[0m \u001b[0;34m\u001b[0m\u001b[0m\n",
      "\u001b[0;31mModuleNotFoundError\u001b[0m: No module named 'AGS'"
     ]
    }
   ],
   "source": [
    "# AGS 050 – Abductive Reasoning and Best Explanation Inference\n",
    "\n",
    "\"\"\"\n",
    "This notebook trains AGS to perform abductive reasoning —\n",
    "inferring the most likely explanation from incomplete observations.\n",
    "\"\"\"\n",
    "\n",
    "from AGS.reasoning import AbductiveReasoner\n",
    "from AGS.memory import AgentMemory\n",
    "\n",
    "# Initialize components\n",
    "memory = AgentMemory()\n",
    "abducer = AbductiveReasoner()\n",
    "\n",
    "# Scenario: Wet grass\n",
    "# Hypotheses: It rained, sprinkler was on, dew formed\n",
    "hypotheses = {\n",
    "    \"It rained\": 0.6,\n",
    "    \"Sprinkler was on\": 0.3,\n",
    "    \"Dew formed\": 0.1\n",
    "}\n",
    "observation = \"The grass is wet\"\n",
    "\n",
    "# Abductive reasoning\n",
    "best_explanation = abducer.infer_best_explanation(observation, hypotheses)\n",
    "print(f\"Best explanation for '{observation}': {best_explanation}\")\n",
    "\n",
    "# Store result\n",
    "memory.store(observation, best_explanation, reasoning=\"abduction\")\n",
    "\n",
    "# Scenario: Alarm went off\n",
    "hypotheses2 = {\n",
    "    \"Burglary\": 0.4,\n",
    "    \"Earthquake\": 0.2,\n",
    "    \"False alarm\": 0.4\n",
    "}\n",
    "observation2 = \"Alarm sounded\"\n",
    "\n",
    "result2 = abducer.infer_best_explanation(observation2, hypotheses2)\n",
    "print(f\"Best explanation for '{observation2}': {result2}\")"
   ]
  }
 ],
 "metadata": {
  "kaggle": {
   "accelerator": "none",
   "dataSources": [],
   "isGpuEnabled": false,
   "isInternetEnabled": true,
   "language": "python",
   "sourceType": "notebook"
  },
  "kernelspec": {
   "display_name": "Python 3",
   "language": "python",
   "name": "python3"
  },
  "language_info": {
   "codemirror_mode": {
    "name": "ipython",
    "version": 3
   },
   "file_extension": ".py",
   "mimetype": "text/x-python",
   "name": "python",
   "nbconvert_exporter": "python",
   "pygments_lexer": "ipython3",
   "version": "3.11.13"
  },
  "papermill": {
   "default_parameters": {},
   "duration": 7.006645,
   "end_time": "2025-07-26T15:18:32.830714",
   "environment_variables": {},
   "exception": true,
   "input_path": "__notebook__.ipynb",
   "output_path": "__notebook__.ipynb",
   "parameters": {},
   "start_time": "2025-07-26T15:18:25.824069",
   "version": "2.6.0"
  }
 },
 "nbformat": 4,
 "nbformat_minor": 5
}
