{
 "cells": [
  {
   "cell_type": "code",
   "execution_count": 1,
   "id": "c4bf0b33",
   "metadata": {
    "_cell_guid": "b1076dfc-b9ad-4769-8c92-a6c4dae69d19",
    "_uuid": "8f2839f25d086af736a60e9eeb907d3b93b6e0e5",
    "execution": {
     "iopub.execute_input": "2025-07-26T15:28:50.557775Z",
     "iopub.status.busy": "2025-07-26T15:28:50.557001Z",
     "iopub.status.idle": "2025-07-26T15:28:52.553395Z",
     "shell.execute_reply": "2025-07-26T15:28:52.552232Z"
    },
    "papermill": {
     "duration": 2.001822,
     "end_time": "2025-07-26T15:28:52.555727",
     "exception": false,
     "start_time": "2025-07-26T15:28:50.553905",
     "status": "completed"
    },
    "tags": []
   },
   "outputs": [],
   "source": [
    "# This Python 3 environment comes with many helpful analytics libraries installed\n",
    "# It is defined by the kaggle/python Docker image: https://github.com/kaggle/docker-python\n",
    "# For example, here's several helpful packages to load\n",
    "\n",
    "import numpy as np # linear algebra\n",
    "import pandas as pd # data processing, CSV file I/O (e.g. pd.read_csv)\n",
    "\n",
    "# Input data files are available in the read-only \"../input/\" directory\n",
    "# For example, running this (by clicking run or pressing Shift+Enter) will list all files under the input directory\n",
    "\n",
    "import os\n",
    "for dirname, _, filenames in os.walk('/kaggle/input'):\n",
    "    for filename in filenames:\n",
    "        print(os.path.join(dirname, filename))\n",
    "\n",
    "# You can write up to 20GB to the current directory (/kaggle/working/) that gets preserved as output when you create a version using \"Save & Run All\" \n",
    "# You can also write temporary files to /kaggle/temp/, but they won't be saved outside of the current session"
   ]
  },
  {
   "cell_type": "code",
   "execution_count": 2,
   "id": "d4b644e6",
   "metadata": {
    "execution": {
     "iopub.execute_input": "2025-07-26T15:28:52.560688Z",
     "iopub.status.busy": "2025-07-26T15:28:52.559960Z",
     "iopub.status.idle": "2025-07-26T15:28:52.667615Z",
     "shell.execute_reply": "2025-07-26T15:28:52.666553Z"
    },
    "papermill": {
     "duration": 0.111333,
     "end_time": "2025-07-26T15:28:52.668896",
     "exception": true,
     "start_time": "2025-07-26T15:28:52.557563",
     "status": "failed"
    },
    "tags": []
   },
   "outputs": [
    {
     "ename": "ModuleNotFoundError",
     "evalue": "No module named 'AGS'",
     "output_type": "error",
     "traceback": [
      "\u001b[0;31m---------------------------------------------------------------------------\u001b[0m",
      "\u001b[0;31mModuleNotFoundError\u001b[0m                       Traceback (most recent call last)",
      "\u001b[0;32m/tmp/ipykernel_13/3806274118.py\u001b[0m in \u001b[0;36m<cell line: 0>\u001b[0;34m()\u001b[0m\n\u001b[1;32m      5\u001b[0m \"\"\"\n\u001b[1;32m      6\u001b[0m \u001b[0;34m\u001b[0m\u001b[0m\n\u001b[0;32m----> 7\u001b[0;31m \u001b[0;32mfrom\u001b[0m \u001b[0mAGS\u001b[0m\u001b[0;34m.\u001b[0m\u001b[0mreasoning\u001b[0m \u001b[0;32mimport\u001b[0m \u001b[0mCausalChainLearner\u001b[0m\u001b[0;34m\u001b[0m\u001b[0;34m\u001b[0m\u001b[0m\n\u001b[0m\u001b[1;32m      8\u001b[0m \u001b[0;32mfrom\u001b[0m \u001b[0mAGS\u001b[0m\u001b[0;34m.\u001b[0m\u001b[0mmemory\u001b[0m \u001b[0;32mimport\u001b[0m \u001b[0mEpisodicMemory\u001b[0m\u001b[0;34m\u001b[0m\u001b[0;34m\u001b[0m\u001b[0m\n\u001b[1;32m      9\u001b[0m \u001b[0;34m\u001b[0m\u001b[0m\n",
      "\u001b[0;31mModuleNotFoundError\u001b[0m: No module named 'AGS'"
     ]
    }
   ],
   "source": [
    "# AGS 054 – Learning Causal Chains from Experience\n",
    "\n",
    "\"\"\"\n",
    "This notebook helps AGS understand and learn multi-step causal relationships from experience or observation.\n",
    "\"\"\"\n",
    "\n",
    "from AGS.reasoning import CausalChainLearner\n",
    "from AGS.memory import EpisodicMemory\n",
    "\n",
    "# Initialize modules\n",
    "causal_learner = CausalChainLearner()\n",
    "memory = EpisodicMemory()\n",
    "\n",
    "# Input sequence of events\n",
    "experience = [\n",
    "    {\"event\": \"It rained heavily\", \"result\": \"The ground became wet\"},\n",
    "    {\"event\": \"The ground was wet\", \"result\": \"People slipped on the sidewalk\"},\n",
    "    {\"event\": \"People slipped\", \"result\": \"Some people got injured\"}\n",
    "]\n",
    "\n",
    "# Learn the causal chain\n",
    "causal_chain = causal_learner.learn_chain(experience)\n",
    "\n",
    "# Store in episodic memory\n",
    "memory.store_chain(\"Rain Incident Chain\", causal_chain)\n",
    "\n",
    "# Output\n",
    "print(\"Learned Causal Chain:\")\n",
    "for step in causal_chain:\n",
    "    print(f\"{step['cause']} → {step['effect']}\")"
   ]
  }
 ],
 "metadata": {
  "kaggle": {
   "accelerator": "none",
   "dataSources": [],
   "isGpuEnabled": false,
   "isInternetEnabled": true,
   "language": "python",
   "sourceType": "notebook"
  },
  "kernelspec": {
   "display_name": "Python 3",
   "language": "python",
   "name": "python3"
  },
  "language_info": {
   "codemirror_mode": {
    "name": "ipython",
    "version": 3
   },
   "file_extension": ".py",
   "mimetype": "text/x-python",
   "name": "python",
   "nbconvert_exporter": "python",
   "pygments_lexer": "ipython3",
   "version": "3.11.13"
  },
  "papermill": {
   "default_parameters": {},
   "duration": 7.722442,
   "end_time": "2025-07-26T15:28:53.189982",
   "environment_variables": {},
   "exception": true,
   "input_path": "__notebook__.ipynb",
   "output_path": "__notebook__.ipynb",
   "parameters": {},
   "start_time": "2025-07-26T15:28:45.467540",
   "version": "2.6.0"
  }
 },
 "nbformat": 4,
 "nbformat_minor": 5
}
