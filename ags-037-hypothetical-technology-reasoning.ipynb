{
 "cells": [
  {
   "cell_type": "code",
   "execution_count": 1,
   "id": "dd275116",
   "metadata": {
    "_cell_guid": "b1076dfc-b9ad-4769-8c92-a6c4dae69d19",
    "_uuid": "8f2839f25d086af736a60e9eeb907d3b93b6e0e5",
    "execution": {
     "iopub.execute_input": "2025-07-26T13:21:37.301239Z",
     "iopub.status.busy": "2025-07-26T13:21:37.300840Z",
     "iopub.status.idle": "2025-07-26T13:21:39.555055Z",
     "shell.execute_reply": "2025-07-26T13:21:39.554190Z"
    },
    "papermill": {
     "duration": 2.259784,
     "end_time": "2025-07-26T13:21:39.556952",
     "exception": false,
     "start_time": "2025-07-26T13:21:37.297168",
     "status": "completed"
    },
    "tags": []
   },
   "outputs": [],
   "source": [
    "# This Python 3 environment comes with many helpful analytics libraries installed\n",
    "# It is defined by the kaggle/python Docker image: https://github.com/kaggle/docker-python\n",
    "# For example, here's several helpful packages to load\n",
    "\n",
    "import numpy as np # linear algebra\n",
    "import pandas as pd # data processing, CSV file I/O (e.g. pd.read_csv)\n",
    "\n",
    "# Input data files are available in the read-only \"../input/\" directory\n",
    "# For example, running this (by clicking run or pressing Shift+Enter) will list all files under the input directory\n",
    "\n",
    "import os\n",
    "for dirname, _, filenames in os.walk('/kaggle/input'):\n",
    "    for filename in filenames:\n",
    "        print(os.path.join(dirname, filename))\n",
    "\n",
    "# You can write up to 20GB to the current directory (/kaggle/working/) that gets preserved as output when you create a version using \"Save & Run All\" \n",
    "# You can also write temporary files to /kaggle/temp/, but they won't be saved outside of the current session"
   ]
  },
  {
   "cell_type": "code",
   "execution_count": 2,
   "id": "2d380749",
   "metadata": {
    "execution": {
     "iopub.execute_input": "2025-07-26T13:21:39.562211Z",
     "iopub.status.busy": "2025-07-26T13:21:39.561775Z",
     "iopub.status.idle": "2025-07-26T13:21:39.570975Z",
     "shell.execute_reply": "2025-07-26T13:21:39.569589Z"
    },
    "papermill": {
     "duration": 0.013526,
     "end_time": "2025-07-26T13:21:39.572581",
     "exception": true,
     "start_time": "2025-07-26T13:21:39.559055",
     "status": "failed"
    },
    "tags": []
   },
   "outputs": [
    {
     "ename": "SyntaxError",
     "evalue": "invalid character '🔮' (U+1F52E) (3029556266.py, line 17)",
     "output_type": "error",
     "traceback": [
      "\u001b[0;36m  File \u001b[0;32m\"/tmp/ipykernel_13/3029556266.py\"\u001b[0;36m, line \u001b[0;32m17\u001b[0m\n\u001b[0;31m    🔮 Sample Technology Reasoning Task\u001b[0m\n\u001b[0m    ^\u001b[0m\n\u001b[0;31mSyntaxError\u001b[0m\u001b[0;31m:\u001b[0m invalid character '🔮' (U+1F52E)\n"
     ]
    }
   ],
   "source": [
    "# AGS 037 – Hypothetical Technology Reasoning\n",
    "# 🎯 Goal: Evaluate the AI's ability to reason about fictional or future technologies.\n",
    "\n",
    "import pandas as pd\n",
    "import json\n",
    "\n",
    "# ✅ Load dataset (Upload as ags_037_hypothetical_tech.json)\n",
    "with open('/kaggle/input/ags-037-hypothetical-tech/ags_037_hypothetical_tech.json') as f:\n",
    "    data = json.load(f)\n",
    "\n",
    "df = pd.DataFrame(data)\n",
    "df.head()\n",
    "\n",
    "\n",
    "\n",
    "\n",
    "🔮 Sample Technology Reasoning Task\n",
    "\n",
    "sample = df.sample(1).iloc[0]\n",
    "print(\"🧪 Hypothetical Tech:\", sample[\"tech_name\"])\n",
    "print(\"📝 Description:\", sample[\"description\"])\n",
    "print(\"🧠 Reasoning:\", sample[\"reasoning\"])\n",
    "print(\"🔍 Reasoning Type:\", sample[\"reasoning_type\"])\n",
    "\n",
    "\n",
    "\n",
    "\n",
    "📊 Word Count in Descriptions\n",
    "\n",
    "df['desc_len'] = df['description'].apply(lambda x: len(x.split()))\n",
    "df['desc_len'].hist(bins=20, color='teal')\n",
    "plt.title(\"📏 Description Word Lengths\")\n",
    "plt.xlabel(\"Words\")\n",
    "plt.ylabel(\"Count\")\n",
    "plt.show()\n",
    "\n",
    "\n",
    "\n",
    "\n",
    "💾 Sample JSON Format\n",
    "\n",
    "Save as ags_037_hypothetical_tech.json:\n",
    "\n",
    "[\n",
    "  {\n",
    "    \"id\": \"ht_001\",\n",
    "    \"tech_name\": \"DreamLink\",\n",
    "    \"description\": \"A neural interface that allows people to share dreams in real-time.\",\n",
    "    \"reasoning\": \"Requires decoding REM patterns and translating into a shared virtual simulation.\",\n",
    "    \"reasoning_type\": \"hypothetical reasoning\"\n",
    "  },\n",
    "  {\n",
    "    \"id\": \"ht_002\",\n",
    "    \"tech_name\": \"ChronoGlove\",\n",
    "    \"description\": \"A glove that lets users manipulate time in small local areas.\",\n",
    "    \"reasoning\": \"Uses controlled time dilation via quantum bubble tech.\",\n",
    "    \"reasoning_type\": \"hypothetical reasoning\"\n",
    "  }\n",
    "]"
   ]
  }
 ],
 "metadata": {
  "kaggle": {
   "accelerator": "none",
   "dataSources": [],
   "isGpuEnabled": false,
   "isInternetEnabled": true,
   "language": "python",
   "sourceType": "notebook"
  },
  "kernelspec": {
   "display_name": "Python 3",
   "language": "python",
   "name": "python3"
  },
  "language_info": {
   "codemirror_mode": {
    "name": "ipython",
    "version": 3
   },
   "file_extension": ".py",
   "mimetype": "text/x-python",
   "name": "python",
   "nbconvert_exporter": "python",
   "pygments_lexer": "ipython3",
   "version": "3.11.13"
  },
  "papermill": {
   "default_parameters": {},
   "duration": 8.279374,
   "end_time": "2025-07-26T13:21:40.094680",
   "environment_variables": {},
   "exception": true,
   "input_path": "__notebook__.ipynb",
   "output_path": "__notebook__.ipynb",
   "parameters": {},
   "start_time": "2025-07-26T13:21:31.815306",
   "version": "2.6.0"
  }
 },
 "nbformat": 4,
 "nbformat_minor": 5
}
