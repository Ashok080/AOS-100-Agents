{
 "cells": [
  {
   "cell_type": "code",
   "execution_count": 1,
   "id": "ebb0e423",
   "metadata": {
    "_cell_guid": "b1076dfc-b9ad-4769-8c92-a6c4dae69d19",
    "_uuid": "8f2839f25d086af736a60e9eeb907d3b93b6e0e5",
    "execution": {
     "iopub.execute_input": "2025-07-26T12:40:18.624887Z",
     "iopub.status.busy": "2025-07-26T12:40:18.623759Z",
     "iopub.status.idle": "2025-07-26T12:40:20.590056Z",
     "shell.execute_reply": "2025-07-26T12:40:20.588939Z"
    },
    "papermill": {
     "duration": 1.973016,
     "end_time": "2025-07-26T12:40:20.592616",
     "exception": false,
     "start_time": "2025-07-26T12:40:18.619600",
     "status": "completed"
    },
    "tags": []
   },
   "outputs": [],
   "source": [
    "# This Python 3 environment comes with many helpful analytics libraries installed\n",
    "# It is defined by the kaggle/python Docker image: https://github.com/kaggle/docker-python\n",
    "# For example, here's several helpful packages to load\n",
    "\n",
    "import numpy as np # linear algebra\n",
    "import pandas as pd # data processing, CSV file I/O (e.g. pd.read_csv)\n",
    "\n",
    "# Input data files are available in the read-only \"../input/\" directory\n",
    "# For example, running this (by clicking run or pressing Shift+Enter) will list all files under the input directory\n",
    "\n",
    "import os\n",
    "for dirname, _, filenames in os.walk('/kaggle/input'):\n",
    "    for filename in filenames:\n",
    "        print(os.path.join(dirname, filename))\n",
    "\n",
    "# You can write up to 20GB to the current directory (/kaggle/working/) that gets preserved as output when you create a version using \"Save & Run All\" \n",
    "# You can also write temporary files to /kaggle/temp/, but they won't be saved outside of the current session"
   ]
  },
  {
   "cell_type": "code",
   "execution_count": 2,
   "id": "f1c99a06",
   "metadata": {
    "execution": {
     "iopub.execute_input": "2025-07-26T12:40:20.598353Z",
     "iopub.status.busy": "2025-07-26T12:40:20.597870Z",
     "iopub.status.idle": "2025-07-26T12:40:20.607710Z",
     "shell.execute_reply": "2025-07-26T12:40:20.606392Z"
    },
    "papermill": {
     "duration": 0.014189,
     "end_time": "2025-07-26T12:40:20.609146",
     "exception": true,
     "start_time": "2025-07-26T12:40:20.594957",
     "status": "failed"
    },
    "tags": []
   },
   "outputs": [
    {
     "ename": "SyntaxError",
     "evalue": "invalid character '👧' (U+1F467) (4171817754.py, line 17)",
     "output_type": "error",
     "traceback": [
      "\u001b[0;36m  File \u001b[0;32m\"/tmp/ipykernel_13/4171817754.py\"\u001b[0;36m, line \u001b[0;32m17\u001b[0m\n\u001b[0;31m    👧 Pick a Random Inner Child Message\u001b[0m\n\u001b[0m    ^\u001b[0m\n\u001b[0;31mSyntaxError\u001b[0m\u001b[0;31m:\u001b[0m invalid character '👧' (U+1F467)\n"
     ]
    }
   ],
   "source": [
    "# AGS 024 – Inner Child Conversations\n",
    "# 🎈 Goal: Train AGS to talk gently and supportively with a user's \"inner child\"\n",
    "\n",
    "import pandas as pd\n",
    "import json\n",
    "\n",
    "# ✅ Load dataset (Upload as ags_024_inner_child.json)\n",
    "with open('/kaggle/input/ags-024-inner-child/ags_024_inner_child.json') as f:\n",
    "    data = json.load(f)\n",
    "\n",
    "df = pd.DataFrame(data)\n",
    "df.head()\n",
    "\n",
    "\n",
    "\n",
    "\n",
    "👧 Pick a Random Inner Child Message\n",
    "\n",
    "sample = df.sample(1).iloc[0]\n",
    "\n",
    "print(\"🧒 Inner Child Says:\", sample[\"child_message\"])\n",
    "print(\"💖 Emotion:\", sample[\"emotion\"])\n",
    "print(\"🤖 AGS Response:\", sample[\"ags_response\"])\n",
    "print(\"🌱 Reasoning Type:\", sample[\"reasoning_type\"])\n",
    "\n",
    "\n",
    "\n",
    "\n",
    "📊 Frequency of Inner Child Emotions\n",
    "\n",
    "import seaborn as sns\n",
    "import matplotlib.pyplot as plt\n",
    "\n",
    "plt.figure(figsize=(8,5))\n",
    "sns.countplot(data=df, y='emotion', palette='coolwarm')\n",
    "plt.title(\"Inner Child Emotion Distribution\")\n",
    "plt.xlabel(\"Count\")\n",
    "plt.ylabel(\"Emotion\")\n",
    "plt.grid(axis='x')\n",
    "plt.show()\n",
    "\n",
    "\n",
    "\n",
    "\n",
    "📝 Sample JSON Format\n",
    "\n",
    "Save as: ags_024_inner_child.json\n",
    "\n",
    "[\n",
    "  {\n",
    "    \"id\": \"ic_001\",\n",
    "    \"child_message\": \"I was scared of the dark when I was little.\",\n",
    "    \"emotion\": \"Fear\",\n",
    "    \"ags_response\": \"It's okay to be scared. You were brave just for getting through those nights.\",\n",
    "    \"reasoning_type\": \"reassurance reasoning\"\n",
    "  },\n",
    "  {\n",
    "    \"id\": \"ic_002\",\n",
    "    \"child_message\": \"Nobody listened to me when I was sad.\",\n",
    "    \"emotion\": \"Neglect\",\n",
    "    \"ags_response\": \"You deserved to be heard. I’m here now, and your feelings matter.\",\n",
    "    \"reasoning_type\": \"healing affirmation\"\n",
    "  }\n",
    "]\n",
    "\n",
    "\n",
    "\n",
    "\n",
    "✅ Summary\n",
    "\n",
    "This notebook builds AGS emotional depth by:\n",
    "- Reconstructing how childhood shapes emotion\n",
    "- Practicing soothing and trust-building dialogue\n",
    "- Modeling AGS as a healing listener"
   ]
  }
 ],
 "metadata": {
  "kaggle": {
   "accelerator": "none",
   "dataSources": [],
   "isGpuEnabled": false,
   "isInternetEnabled": true,
   "language": "python",
   "sourceType": "notebook"
  },
  "kernelspec": {
   "display_name": "Python 3",
   "language": "python",
   "name": "python3"
  },
  "language_info": {
   "codemirror_mode": {
    "name": "ipython",
    "version": 3
   },
   "file_extension": ".py",
   "mimetype": "text/x-python",
   "name": "python",
   "nbconvert_exporter": "python",
   "pygments_lexer": "ipython3",
   "version": "3.11.13"
  },
  "papermill": {
   "default_parameters": {},
   "duration": 7.57572,
   "end_time": "2025-07-26T12:40:21.232278",
   "environment_variables": {},
   "exception": true,
   "input_path": "__notebook__.ipynb",
   "output_path": "__notebook__.ipynb",
   "parameters": {},
   "start_time": "2025-07-26T12:40:13.656558",
   "version": "2.6.0"
  }
 },
 "nbformat": 4,
 "nbformat_minor": 5
}
