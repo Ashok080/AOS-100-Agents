{
 "cells": [
  {
   "cell_type": "code",
   "execution_count": 1,
   "id": "f3440c6d",
   "metadata": {
    "_cell_guid": "b1076dfc-b9ad-4769-8c92-a6c4dae69d19",
    "_uuid": "8f2839f25d086af736a60e9eeb907d3b93b6e0e5",
    "execution": {
     "iopub.execute_input": "2025-07-26T12:43:59.983948Z",
     "iopub.status.busy": "2025-07-26T12:43:59.983662Z",
     "iopub.status.idle": "2025-07-26T12:44:01.876192Z",
     "shell.execute_reply": "2025-07-26T12:44:01.875159Z"
    },
    "papermill": {
     "duration": 1.897358,
     "end_time": "2025-07-26T12:44:01.877921",
     "exception": false,
     "start_time": "2025-07-26T12:43:59.980563",
     "status": "completed"
    },
    "tags": []
   },
   "outputs": [],
   "source": [
    "# This Python 3 environment comes with many helpful analytics libraries installed\n",
    "# It is defined by the kaggle/python Docker image: https://github.com/kaggle/docker-python\n",
    "# For example, here's several helpful packages to load\n",
    "\n",
    "import numpy as np # linear algebra\n",
    "import pandas as pd # data processing, CSV file I/O (e.g. pd.read_csv)\n",
    "\n",
    "# Input data files are available in the read-only \"../input/\" directory\n",
    "# For example, running this (by clicking run or pressing Shift+Enter) will list all files under the input directory\n",
    "\n",
    "import os\n",
    "for dirname, _, filenames in os.walk('/kaggle/input'):\n",
    "    for filename in filenames:\n",
    "        print(os.path.join(dirname, filename))\n",
    "\n",
    "# You can write up to 20GB to the current directory (/kaggle/working/) that gets preserved as output when you create a version using \"Save & Run All\" \n",
    "# You can also write temporary files to /kaggle/temp/, but they won't be saved outside of the current session"
   ]
  },
  {
   "cell_type": "code",
   "execution_count": 2,
   "id": "433513a5",
   "metadata": {
    "execution": {
     "iopub.execute_input": "2025-07-26T12:44:01.883345Z",
     "iopub.status.busy": "2025-07-26T12:44:01.882329Z",
     "iopub.status.idle": "2025-07-26T12:44:01.891092Z",
     "shell.execute_reply": "2025-07-26T12:44:01.889981Z"
    },
    "papermill": {
     "duration": 0.012698,
     "end_time": "2025-07-26T12:44:01.892535",
     "exception": true,
     "start_time": "2025-07-26T12:44:01.879837",
     "status": "failed"
    },
    "tags": []
   },
   "outputs": [
    {
     "ename": "SyntaxError",
     "evalue": "invalid character '🧠' (U+1F9E0) (451260911.py, line 17)",
     "output_type": "error",
     "traceback": [
      "\u001b[0;36m  File \u001b[0;32m\"/tmp/ipykernel_13/451260911.py\"\u001b[0;36m, line \u001b[0;32m17\u001b[0m\n\u001b[0;31m    🧠 View a Random Wisdom Dialogue\u001b[0m\n\u001b[0m    ^\u001b[0m\n\u001b[0;31mSyntaxError\u001b[0m\u001b[0;31m:\u001b[0m invalid character '🧠' (U+1F9E0)\n"
     ]
    }
   ],
   "source": [
    "# AGS 025 – Elder Wisdom Dialogue\n",
    "# 🧓 Goal: Train AGS to learn empathy and reasoning from wise elder responses\n",
    "\n",
    "import pandas as pd\n",
    "import json\n",
    "\n",
    "# ✅ Load dataset (Upload as ags_025_elder_wisdom.json)\n",
    "with open('/kaggle/input/ags-025-elder-wisdom/ags_025_elder_wisdom.json') as f:\n",
    "    data = json.load(f)\n",
    "\n",
    "df = pd.DataFrame(data)\n",
    "df.head()\n",
    "\n",
    "\n",
    "\n",
    "\n",
    "🧠 View a Random Wisdom Dialogue\n",
    "\n",
    "sample = df.sample(1).iloc[0]\n",
    "\n",
    "print(\"👦 Youth Says:\", sample[\"youth_message\"])\n",
    "print(\"🧓 Elder Responds:\", sample[\"elder_response\"])\n",
    "print(\"📚 Wisdom Type:\", sample[\"wisdom_type\"])\n",
    "print(\"🧠 Reasoning:\", sample[\"reasoning\"])\n",
    "\n",
    "\n",
    "\n",
    "\n",
    "📊 Wisdom Type Distribution\n",
    "\n",
    "import seaborn as sns\n",
    "import matplotlib.pyplot as plt\n",
    "\n",
    "plt.figure(figsize=(8,5))\n",
    "sns.countplot(data=df, y='wisdom_type', palette='cividis')\n",
    "plt.title(\"Types of Wisdom Shared by Elders\")\n",
    "plt.xlabel(\"Count\")\n",
    "plt.ylabel(\"Wisdom Type\")\n",
    "plt.grid(axis='x')\n",
    "plt.show()\n",
    "\n",
    "\n",
    "\n",
    "\n",
    "📁 Sample JSON Format\n",
    "\n",
    "Save this as: ags_025_elder_wisdom.json\n",
    "\n",
    "[\n",
    "  {\n",
    "    \"id\": \"ew_001\",\n",
    "    \"youth_message\": \"I keep comparing myself to others and feel behind.\",\n",
    "    \"elder_response\": \"Everyone blooms in their own season. Your time will come — stay true to your path.\",\n",
    "    \"wisdom_type\": \"timing\",\n",
    "    \"reasoning\": \"Helps youth trust their own journey and reduces anxiety from social comparison.\"\n",
    "  },\n",
    "  {\n",
    "    \"id\": \"ew_002\",\n",
    "    \"youth_message\": \"I failed my college entrance exam again.\",\n",
    "    \"elder_response\": \"Failure is not the opposite of success. It's part of the journey to knowing yourself deeply.\",\n",
    "    \"wisdom_type\": \"resilience\",\n",
    "    \"reasoning\": \"Reframes failure as a growth experience and builds emotional strength.\"\n",
    "  }\n",
    "]\n",
    "\n",
    "\n",
    "\n",
    "\n",
    "✅ Summary\n",
    "\n",
    "This notebook helps AGS learn from elder dialogue by:\n",
    "- Encoding compassionate reasoning\n",
    "- Practicing reflective listening\n",
    "- Absorbing life-wisdom frameworks\n",
    "\n",
    "\n"
   ]
  }
 ],
 "metadata": {
  "kaggle": {
   "accelerator": "none",
   "dataSources": [],
   "isGpuEnabled": false,
   "isInternetEnabled": true,
   "language": "python",
   "sourceType": "notebook"
  },
  "kernelspec": {
   "display_name": "Python 3",
   "language": "python",
   "name": "python3"
  },
  "language_info": {
   "codemirror_mode": {
    "name": "ipython",
    "version": 3
   },
   "file_extension": ".py",
   "mimetype": "text/x-python",
   "name": "python",
   "nbconvert_exporter": "python",
   "pygments_lexer": "ipython3",
   "version": "3.11.13"
  },
  "papermill": {
   "default_parameters": {},
   "duration": 7.314533,
   "end_time": "2025-07-26T12:44:02.413236",
   "environment_variables": {},
   "exception": true,
   "input_path": "__notebook__.ipynb",
   "output_path": "__notebook__.ipynb",
   "parameters": {},
   "start_time": "2025-07-26T12:43:55.098703",
   "version": "2.6.0"
  }
 },
 "nbformat": 4,
 "nbformat_minor": 5
}
