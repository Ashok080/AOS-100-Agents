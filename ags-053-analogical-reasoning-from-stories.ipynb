{
 "cells": [
  {
   "cell_type": "code",
   "execution_count": 1,
   "id": "d77ab696",
   "metadata": {
    "_cell_guid": "b1076dfc-b9ad-4769-8c92-a6c4dae69d19",
    "_uuid": "8f2839f25d086af736a60e9eeb907d3b93b6e0e5",
    "execution": {
     "iopub.execute_input": "2025-07-26T15:26:22.993560Z",
     "iopub.status.busy": "2025-07-26T15:26:22.992527Z",
     "iopub.status.idle": "2025-07-26T15:26:24.887881Z",
     "shell.execute_reply": "2025-07-26T15:26:24.887007Z"
    },
    "papermill": {
     "duration": 1.900204,
     "end_time": "2025-07-26T15:26:24.889486",
     "exception": false,
     "start_time": "2025-07-26T15:26:22.989282",
     "status": "completed"
    },
    "tags": []
   },
   "outputs": [],
   "source": [
    "# This Python 3 environment comes with many helpful analytics libraries installed\n",
    "# It is defined by the kaggle/python Docker image: https://github.com/kaggle/docker-python\n",
    "# For example, here's several helpful packages to load\n",
    "\n",
    "import numpy as np # linear algebra\n",
    "import pandas as pd # data processing, CSV file I/O (e.g. pd.read_csv)\n",
    "\n",
    "# Input data files are available in the read-only \"../input/\" directory\n",
    "# For example, running this (by clicking run or pressing Shift+Enter) will list all files under the input directory\n",
    "\n",
    "import os\n",
    "for dirname, _, filenames in os.walk('/kaggle/input'):\n",
    "    for filename in filenames:\n",
    "        print(os.path.join(dirname, filename))\n",
    "\n",
    "# You can write up to 20GB to the current directory (/kaggle/working/) that gets preserved as output when you create a version using \"Save & Run All\" \n",
    "# You can also write temporary files to /kaggle/temp/, but they won't be saved outside of the current session"
   ]
  },
  {
   "cell_type": "code",
   "execution_count": 2,
   "id": "ec7573d1",
   "metadata": {
    "execution": {
     "iopub.execute_input": "2025-07-26T15:26:24.894133Z",
     "iopub.status.busy": "2025-07-26T15:26:24.893702Z",
     "iopub.status.idle": "2025-07-26T15:26:24.996149Z",
     "shell.execute_reply": "2025-07-26T15:26:24.995012Z"
    },
    "papermill": {
     "duration": 0.10623,
     "end_time": "2025-07-26T15:26:24.997533",
     "exception": true,
     "start_time": "2025-07-26T15:26:24.891303",
     "status": "failed"
    },
    "tags": []
   },
   "outputs": [
    {
     "ename": "ModuleNotFoundError",
     "evalue": "No module named 'AGS'",
     "output_type": "error",
     "traceback": [
      "\u001b[0;31m---------------------------------------------------------------------------\u001b[0m",
      "\u001b[0;31mModuleNotFoundError\u001b[0m                       Traceback (most recent call last)",
      "\u001b[0;32m/tmp/ipykernel_13/257830621.py\u001b[0m in \u001b[0;36m<cell line: 0>\u001b[0;34m()\u001b[0m\n\u001b[1;32m      5\u001b[0m \"\"\"\n\u001b[1;32m      6\u001b[0m \u001b[0;34m\u001b[0m\u001b[0m\n\u001b[0;32m----> 7\u001b[0;31m \u001b[0;32mfrom\u001b[0m \u001b[0mAGS\u001b[0m\u001b[0;34m.\u001b[0m\u001b[0mreasoning\u001b[0m \u001b[0;32mimport\u001b[0m \u001b[0mAnalogicalReasoner\u001b[0m\u001b[0;34m\u001b[0m\u001b[0;34m\u001b[0m\u001b[0m\n\u001b[0m\u001b[1;32m      8\u001b[0m \u001b[0;32mfrom\u001b[0m \u001b[0mAGS\u001b[0m\u001b[0;34m.\u001b[0m\u001b[0mmemory\u001b[0m \u001b[0;32mimport\u001b[0m \u001b[0mAgentMemory\u001b[0m\u001b[0;34m\u001b[0m\u001b[0;34m\u001b[0m\u001b[0m\n\u001b[1;32m      9\u001b[0m \u001b[0;34m\u001b[0m\u001b[0m\n",
      "\u001b[0;31mModuleNotFoundError\u001b[0m: No module named 'AGS'"
     ]
    }
   ],
   "source": [
    "# AGS 053 – Analogical Reasoning from Stories\n",
    "\n",
    "\"\"\"\n",
    "This notebook tests AGS's ability to understand a story and make analogies to a new situation based on similar structure or logic.\n",
    "\"\"\"\n",
    "\n",
    "from AGS.reasoning import AnalogicalReasoner\n",
    "from AGS.memory import AgentMemory\n",
    "\n",
    "# Initialize modules\n",
    "analogical = AnalogicalReasoner()\n",
    "memory = AgentMemory()\n",
    "\n",
    "# Source story\n",
    "story_1 = {\n",
    "    \"title\": \"The Fox and the Grapes\",\n",
    "    \"content\": \"A hungry fox tried to reach some grapes hanging high on a vine but couldn’t. He gave up and said the grapes were probably sour anyway.\",\n",
    "    \"moral\": \"People often belittle what they can’t have.\"\n",
    "}\n",
    "\n",
    "# Target situation\n",
    "story_2 = {\n",
    "    \"title\": \"The Student and the Scholarship\",\n",
    "    \"description\": \"A student failed to get a scholarship and said it was unfair and not worth having anyway.\"\n",
    "}\n",
    "\n",
    "# Generate analogy\n",
    "analogy = analogical.match(story_1[\"content\"], story_2[\"description\"])\n",
    "\n",
    "# Store in memory\n",
    "memory.store(\"Analogical Reasoning\", story_2[\"title\"], analogy=analogy)\n",
    "\n",
    "print(\"Story:\", story_2[\"title\"])\n",
    "print(\"Analogical Link:\", analogy[\"link\"])\n",
    "print(\"Explanation:\", analogy[\"explanation\"])"
   ]
  }
 ],
 "metadata": {
  "kaggle": {
   "accelerator": "none",
   "dataSources": [],
   "isGpuEnabled": false,
   "isInternetEnabled": true,
   "language": "python",
   "sourceType": "notebook"
  },
  "kernelspec": {
   "display_name": "Python 3",
   "language": "python",
   "name": "python3"
  },
  "language_info": {
   "codemirror_mode": {
    "name": "ipython",
    "version": 3
   },
   "file_extension": ".py",
   "mimetype": "text/x-python",
   "name": "python",
   "nbconvert_exporter": "python",
   "pygments_lexer": "ipython3",
   "version": "3.11.13"
  },
  "papermill": {
   "default_parameters": {},
   "duration": 8.041226,
   "end_time": "2025-07-26T15:26:25.517591",
   "environment_variables": {},
   "exception": true,
   "input_path": "__notebook__.ipynb",
   "output_path": "__notebook__.ipynb",
   "parameters": {},
   "start_time": "2025-07-26T15:26:17.476365",
   "version": "2.6.0"
  }
 },
 "nbformat": 4,
 "nbformat_minor": 5
}
