{
 "cells": [
  {
   "cell_type": "markdown",
   "id": "daca7794",
   "metadata": {},
   "source": [
    "# Foundation Knowledge Notebook\n",
    "\n",
    "Dataset: Natural Questions"
   ]
  },
  {
   "cell_type": "code",
   "execution_count": null,
   "id": "ff66c6c2",
   "metadata": {},
   "outputs": [],
   "source": [
    "\n",
    "import pandas as pd\n",
    "from transformers import pipeline\n",
    "\n",
    "# Load dataset\n",
    "nq_df = pd.read_csv('/kaggle/input/natural-questions/nq-train.csv')\n",
    "\n",
    "# Setup QA pipeline\n",
    "qa_pipeline = pipeline('question-answering', model='distilbert-base-uncased-distilled-squad')\n",
    "\n",
    "# Example Question Answering\n",
    "question = \"What is the capital of France?\"\n",
    "context = nq_df['document_text'].iloc[0]\n",
    "\n",
    "result = qa_pipeline(question=question, context=context)\n",
    "print(\"Question:\", question)\n",
    "print(\"Answer:\", result['answer'])\n",
    "    "
   ]
  }
 ],
 "metadata": {},
 "nbformat": 4,
 "nbformat_minor": 5
}
