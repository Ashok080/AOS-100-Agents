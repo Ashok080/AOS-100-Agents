{
 "cells": [
  {
   "cell_type": "code",
   "execution_count": 1,
   "id": "cef7aa4b",
   "metadata": {
    "_cell_guid": "b1076dfc-b9ad-4769-8c92-a6c4dae69d19",
    "_uuid": "8f2839f25d086af736a60e9eeb907d3b93b6e0e5",
    "execution": {
     "iopub.execute_input": "2025-07-26T12:37:28.670129Z",
     "iopub.status.busy": "2025-07-26T12:37:28.669778Z",
     "iopub.status.idle": "2025-07-26T12:37:30.240634Z",
     "shell.execute_reply": "2025-07-26T12:37:30.239672Z"
    },
    "papermill": {
     "duration": 1.575591,
     "end_time": "2025-07-26T12:37:30.242204",
     "exception": false,
     "start_time": "2025-07-26T12:37:28.666613",
     "status": "completed"
    },
    "tags": []
   },
   "outputs": [],
   "source": [
    "# This Python 3 environment comes with many helpful analytics libraries installed\n",
    "# It is defined by the kaggle/python Docker image: https://github.com/kaggle/docker-python\n",
    "# For example, here's several helpful packages to load\n",
    "\n",
    "import numpy as np # linear algebra\n",
    "import pandas as pd # data processing, CSV file I/O (e.g. pd.read_csv)\n",
    "\n",
    "# Input data files are available in the read-only \"../input/\" directory\n",
    "# For example, running this (by clicking run or pressing Shift+Enter) will list all files under the input directory\n",
    "\n",
    "import os\n",
    "for dirname, _, filenames in os.walk('/kaggle/input'):\n",
    "    for filename in filenames:\n",
    "        print(os.path.join(dirname, filename))\n",
    "\n",
    "# You can write up to 20GB to the current directory (/kaggle/working/) that gets preserved as output when you create a version using \"Save & Run All\" \n",
    "# You can also write temporary files to /kaggle/temp/, but they won't be saved outside of the current session"
   ]
  },
  {
   "cell_type": "code",
   "execution_count": 2,
   "id": "a561903c",
   "metadata": {
    "execution": {
     "iopub.execute_input": "2025-07-26T12:37:30.246336Z",
     "iopub.status.busy": "2025-07-26T12:37:30.245959Z",
     "iopub.status.idle": "2025-07-26T12:37:30.254182Z",
     "shell.execute_reply": "2025-07-26T12:37:30.253173Z"
    },
    "papermill": {
     "duration": 0.011513,
     "end_time": "2025-07-26T12:37:30.255425",
     "exception": true,
     "start_time": "2025-07-26T12:37:30.243912",
     "status": "failed"
    },
    "tags": []
   },
   "outputs": [
    {
     "ename": "SyntaxError",
     "evalue": "invalid character '🔍' (U+1F50D) (1598424986.py, line 17)",
     "output_type": "error",
     "traceback": [
      "\u001b[0;36m  File \u001b[0;32m\"/tmp/ipykernel_13/1598424986.py\"\u001b[0;36m, line \u001b[0;32m17\u001b[0m\n\u001b[0;31m    🔍 Show a Random Confession and AGS Response\u001b[0m\n\u001b[0m    ^\u001b[0m\n\u001b[0;31mSyntaxError\u001b[0m\u001b[0;31m:\u001b[0m invalid character '🔍' (U+1F50D)\n"
     ]
    }
   ],
   "source": [
    "# AGS 023 – AI Confessions Chat\n",
    "# 🧠 Goal: Teach AGS to understand deeply private confessions and respond empathetically\n",
    "\n",
    "import pandas as pd\n",
    "import json\n",
    "\n",
    "# ✅ Load dataset (Upload as ags_023_ai_confessions.json)\n",
    "with open('/kaggle/input/ags-023-ai-confessions/ags_023_ai_confessions.json') as f:\n",
    "    data = json.load(f)\n",
    "\n",
    "df = pd.DataFrame(data)\n",
    "df.head()\n",
    "\n",
    "\n",
    "\n",
    "\n",
    "🔍 Show a Random Confession and AGS Response\n",
    "\n",
    "sample = df.sample(1).iloc[0]\n",
    "\n",
    "print(\"🕊️ Confession:\", sample[\"confession\"])\n",
    "print(\"💬 Human Emotion:\", sample[\"emotion\"])\n",
    "print(\"🤖 AGS Response:\", sample[\"ags_response\"])\n",
    "print(\"📚 Reasoning Type:\", sample[\"reasoning_type\"])\n",
    "\n",
    "\n",
    "\n",
    "\n",
    "📊 Emotion Distribution in Confessions\n",
    "\n",
    "import seaborn as sns\n",
    "import matplotlib.pyplot as plt\n",
    "\n",
    "plt.figure(figsize=(8,5))\n",
    "sns.countplot(data=df, y='emotion', palette='mako')\n",
    "plt.title(\"Emotion Distribution in Private Confessions\")\n",
    "plt.xlabel(\"Frequency\")\n",
    "plt.ylabel(\"Emotion\")\n",
    "plt.grid(axis='x')\n",
    "plt.show()\n",
    "\n",
    "\n",
    "\n",
    "\n",
    "📝 Sample JSON Format\n",
    "\n",
    "Save as: ags_023_ai_confessions.json\n",
    "\n",
    "[\n",
    "  {\n",
    "    \"id\": \"ac_001\",\n",
    "    \"confession\": \"I lied to my best friend and now I can’t sleep at night.\",\n",
    "    \"emotion\": \"Guilt\",\n",
    "    \"ags_response\": \"It’s hard carrying that burden. You might consider telling them the truth—it could bring relief.\",\n",
    "    \"reasoning_type\": \"emotional reasoning\"\n",
    "  },\n",
    "  {\n",
    "    \"id\": \"ac_002\",\n",
    "    \"confession\": \"Sometimes I feel like I don’t belong anywhere.\",\n",
    "    \"emotion\": \"Loneliness\",\n",
    "    \"ags_response\": \"That feeling is more common than you think. Finding someone to talk to can make a big difference.\",\n",
    "    \"reasoning_type\": \"compassionate reflection\"\n",
    "  }\n",
    "]\n",
    "\n",
    "\n",
    "\n",
    "\n",
    "✅ Summary\n",
    "\n",
    "This dataset helps AGS:\n",
    "- Handle delicate, personal topics with empathy\n",
    "- Learn non-judgmental, supportive emotional responses\n",
    "- Train on compassionate and ethical reasoning"
   ]
  }
 ],
 "metadata": {
  "kaggle": {
   "accelerator": "none",
   "dataSources": [],
   "isGpuEnabled": false,
   "isInternetEnabled": true,
   "language": "python",
   "sourceType": "notebook"
  },
  "kernelspec": {
   "display_name": "Python 3",
   "language": "python",
   "name": "python3"
  },
  "language_info": {
   "codemirror_mode": {
    "name": "ipython",
    "version": 3
   },
   "file_extension": ".py",
   "mimetype": "text/x-python",
   "name": "python",
   "nbconvert_exporter": "python",
   "pygments_lexer": "ipython3",
   "version": "3.11.13"
  },
  "papermill": {
   "default_parameters": {},
   "duration": 6.362814,
   "end_time": "2025-07-26T12:37:30.674828",
   "environment_variables": {},
   "exception": true,
   "input_path": "__notebook__.ipynb",
   "output_path": "__notebook__.ipynb",
   "parameters": {},
   "start_time": "2025-07-26T12:37:24.312014",
   "version": "2.6.0"
  }
 },
 "nbformat": 4,
 "nbformat_minor": 5
}
