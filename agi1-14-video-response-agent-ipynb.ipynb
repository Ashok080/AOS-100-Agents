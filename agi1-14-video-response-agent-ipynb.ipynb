{
 "cells": [
  {
   "cell_type": "code",
   "execution_count": 1,
   "id": "8e471b18",
   "metadata": {
    "_cell_guid": "b1076dfc-b9ad-4769-8c92-a6c4dae69d19",
    "_uuid": "8f2839f25d086af736a60e9eeb907d3b93b6e0e5",
    "execution": {
     "iopub.execute_input": "2025-07-11T14:15:58.089022Z",
     "iopub.status.busy": "2025-07-11T14:15:58.088692Z",
     "iopub.status.idle": "2025-07-11T14:15:59.927044Z",
     "shell.execute_reply": "2025-07-11T14:15:59.926291Z"
    },
    "papermill": {
     "duration": 1.843079,
     "end_time": "2025-07-11T14:15:59.928691",
     "exception": false,
     "start_time": "2025-07-11T14:15:58.085612",
     "status": "completed"
    },
    "tags": []
   },
   "outputs": [],
   "source": [
    "# This Python 3 environment comes with many helpful analytics libraries installed\n",
    "# It is defined by the kaggle/python Docker image: https://github.com/kaggle/docker-python\n",
    "# For example, here's several helpful packages to load\n",
    "\n",
    "import numpy as np # linear algebra\n",
    "import pandas as pd # data processing, CSV file I/O (e.g. pd.read_csv)\n",
    "\n",
    "# Input data files are available in the read-only \"../input/\" directory\n",
    "# For example, running this (by clicking run or pressing Shift+Enter) will list all files under the input directory\n",
    "\n",
    "import os\n",
    "for dirname, _, filenames in os.walk('/kaggle/input'):\n",
    "    for filename in filenames:\n",
    "        print(os.path.join(dirname, filename))\n",
    "\n",
    "# You can write up to 20GB to the current directory (/kaggle/working/) that gets preserved as output when you create a version using \"Save & Run All\" \n",
    "# You can also write temporary files to /kaggle/temp/, but they won't be saved outside of the current session"
   ]
  },
  {
   "cell_type": "code",
   "execution_count": 2,
   "id": "9ce11db0",
   "metadata": {
    "execution": {
     "iopub.execute_input": "2025-07-11T14:15:59.933360Z",
     "iopub.status.busy": "2025-07-11T14:15:59.932941Z",
     "iopub.status.idle": "2025-07-11T14:15:59.938668Z",
     "shell.execute_reply": "2025-07-11T14:15:59.937834Z"
    },
    "papermill": {
     "duration": 0.009326,
     "end_time": "2025-07-11T14:15:59.939934",
     "exception": false,
     "start_time": "2025-07-11T14:15:59.930608",
     "status": "completed"
    },
    "tags": []
   },
   "outputs": [
    {
     "name": "stdout",
     "output_type": "stream",
     "text": [
      "🎥 Starting AGI video response agent...\n",
      "🧠 AGI Reply: The customer is asking about the billing issue. Here's a summary of the charges.\n",
      "🗣️ Synthesizing voice from ElevenLabs...\n",
      "🧏‍♂️ Animating lips for 'face_avatar_1' using D-ID...\n",
      "✅ Final output: talking video sent to UI or saved.\n"
     ]
    }
   ],
   "source": [
    "# AGI1_14_video_response_agent.ipynb\n",
    "# Simulate a video talking agent in Kaggle\n",
    "\n",
    "# Sample AGI text response\n",
    "agi_reply = \"The customer is asking about the billing issue. Here's a summary of the charges.\"\n",
    "\n",
    "# Simulated video face ID (in real D-ID you'd pass this)\n",
    "video_face = \"face_avatar_1\"\n",
    "\n",
    "# Simulate lip-sync + speech animation log\n",
    "print(\"🎥 Starting AGI video response agent...\")\n",
    "print(\"🧠 AGI Reply:\", agi_reply)\n",
    "print(f\"🗣️ Synthesizing voice from ElevenLabs...\")\n",
    "print(f\"🧏‍♂️ Animating lips for '{video_face}' using D-ID...\")\n",
    "print(\"✅ Final output: talking video sent to UI or saved.\")"
   ]
  },
  {
   "cell_type": "code",
   "execution_count": 3,
   "id": "43644e3f",
   "metadata": {
    "execution": {
     "iopub.execute_input": "2025-07-11T14:15:59.944352Z",
     "iopub.status.busy": "2025-07-11T14:15:59.943771Z",
     "iopub.status.idle": "2025-07-11T14:16:00.388255Z",
     "shell.execute_reply": "2025-07-11T14:16:00.387252Z"
    },
    "papermill": {
     "duration": 0.448616,
     "end_time": "2025-07-11T14:16:00.390193",
     "exception": false,
     "start_time": "2025-07-11T14:15:59.941577",
     "status": "completed"
    },
    "tags": []
   },
   "outputs": [
    {
     "name": "stdout",
     "output_type": "stream",
     "text": [
      "🎥 Video URL: Check D-ID dashboard.\n"
     ]
    }
   ],
   "source": [
    "# Install required only if running outside Kaggle\n",
    "# pip install requests\n",
    "\n",
    "import requests\n",
    "import json\n",
    "\n",
    "# D-ID API setup\n",
    "api_key = \"your_d-id-api-key\"\n",
    "voice_text = \"Hello! I am your AGI assistant.\"\n",
    "\n",
    "url = \"https://api.d-id.com/talks\"\n",
    "headers = {\n",
    "    \"Authorization\": f\"Bearer {api_key}\",\n",
    "    \"Content-Type\": \"application/json\"\n",
    "}\n",
    "data = {\n",
    "    \"script\": {\n",
    "        \"type\": \"text\",\n",
    "        \"input\": voice_text,\n",
    "        \"provider\": {\"type\": \"elevenlabs\", \"voice_id\": \"Rachel\"},\n",
    "        \"ssml\": \"false\"\n",
    "    },\n",
    "    \"source_url\": \"https://models.d-id.com/face_1.png\",  # Your avatar face\n",
    "    \"config\": {\"fluent\": True}\n",
    "}\n",
    "\n",
    "res = requests.post(url, headers=headers, json=data)\n",
    "print(\"🎥 Video URL:\", res.json().get(\"result_url\", \"Check D-ID dashboard.\"))"
   ]
  }
 ],
 "metadata": {
  "kaggle": {
   "accelerator": "none",
   "dataSources": [],
   "isGpuEnabled": false,
   "isInternetEnabled": true,
   "language": "python",
   "sourceType": "notebook"
  },
  "kernelspec": {
   "display_name": "Python 3",
   "language": "python",
   "name": "python3"
  },
  "language_info": {
   "codemirror_mode": {
    "name": "ipython",
    "version": 3
   },
   "file_extension": ".py",
   "mimetype": "text/x-python",
   "name": "python",
   "nbconvert_exporter": "python",
   "pygments_lexer": "ipython3",
   "version": "3.11.13"
  },
  "papermill": {
   "default_parameters": {},
   "duration": 7.51504,
   "end_time": "2025-07-11T14:16:00.911571",
   "environment_variables": {},
   "exception": null,
   "input_path": "__notebook__.ipynb",
   "output_path": "__notebook__.ipynb",
   "parameters": {},
   "start_time": "2025-07-11T14:15:53.396531",
   "version": "2.6.0"
  }
 },
 "nbformat": 4,
 "nbformat_minor": 5
}
