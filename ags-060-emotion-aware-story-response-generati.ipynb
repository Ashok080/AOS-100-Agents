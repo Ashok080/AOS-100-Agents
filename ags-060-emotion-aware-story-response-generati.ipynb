{
 "cells": [
  {
   "cell_type": "code",
   "execution_count": 1,
   "id": "7c288cb3",
   "metadata": {
    "_cell_guid": "b1076dfc-b9ad-4769-8c92-a6c4dae69d19",
    "_uuid": "8f2839f25d086af736a60e9eeb907d3b93b6e0e5",
    "execution": {
     "iopub.execute_input": "2025-07-27T03:50:04.858413Z",
     "iopub.status.busy": "2025-07-27T03:50:04.858101Z",
     "iopub.status.idle": "2025-07-27T03:50:06.590311Z",
     "shell.execute_reply": "2025-07-27T03:50:06.589488Z"
    },
    "papermill": {
     "duration": 1.736851,
     "end_time": "2025-07-27T03:50:06.591945",
     "exception": false,
     "start_time": "2025-07-27T03:50:04.855094",
     "status": "completed"
    },
    "tags": []
   },
   "outputs": [],
   "source": [
    "# This Python 3 environment comes with many helpful analytics libraries installed\n",
    "# It is defined by the kaggle/python Docker image: https://github.com/kaggle/docker-python\n",
    "# For example, here's several helpful packages to load\n",
    "\n",
    "import numpy as np # linear algebra\n",
    "import pandas as pd # data processing, CSV file I/O (e.g. pd.read_csv)\n",
    "\n",
    "# Input data files are available in the read-only \"../input/\" directory\n",
    "# For example, running this (by clicking run or pressing Shift+Enter) will list all files under the input directory\n",
    "\n",
    "import os\n",
    "for dirname, _, filenames in os.walk('/kaggle/input'):\n",
    "    for filename in filenames:\n",
    "        print(os.path.join(dirname, filename))\n",
    "\n",
    "# You can write up to 20GB to the current directory (/kaggle/working/) that gets preserved as output when you create a version using \"Save & Run All\" \n",
    "# You can also write temporary files to /kaggle/temp/, but they won't be saved outside of the current session"
   ]
  },
  {
   "cell_type": "code",
   "execution_count": 2,
   "id": "7f3a56ac",
   "metadata": {
    "execution": {
     "iopub.execute_input": "2025-07-27T03:50:06.596359Z",
     "iopub.status.busy": "2025-07-27T03:50:06.595968Z",
     "iopub.status.idle": "2025-07-27T03:50:06.603989Z",
     "shell.execute_reply": "2025-07-27T03:50:06.602906Z"
    },
    "papermill": {
     "duration": 0.011456,
     "end_time": "2025-07-27T03:50:06.605173",
     "exception": true,
     "start_time": "2025-07-27T03:50:06.593717",
     "status": "failed"
    },
    "tags": []
   },
   "outputs": [
    {
     "ename": "SyntaxError",
     "evalue": "invalid character '🔤' (U+1F524) (1560406073.py, line 1)",
     "output_type": "error",
     "traceback": [
      "\u001b[0;36m  File \u001b[0;32m\"/tmp/ipykernel_13/1560406073.py\"\u001b[0;36m, line \u001b[0;32m1\u001b[0m\n\u001b[0;31m    🔤 Sample Emotional Scenarios\u001b[0m\n\u001b[0m    ^\u001b[0m\n\u001b[0;31mSyntaxError\u001b[0m\u001b[0;31m:\u001b[0m invalid character '🔤' (U+1F524)\n"
     ]
    }
   ],
   "source": [
    "🔤 Sample Emotional Scenarios\n",
    "\n",
    "story_1 = \"A child dropped her ice cream. She looked at it, then started to cry. No one was around to help.\"\n",
    "story_2 = \"John just received a promotion after working late hours for months. His friends threw him a surprise party.\"\n",
    "\n",
    "\n",
    "\n",
    "\n",
    "✅ Full Notebook Code\n",
    "\n",
    "# AGS 060: Emotion-Aware Story Response Generation\n",
    "\n",
    "import openai\n",
    "openai.api_key = \"sk-...\"  # 🔒 Replace with your OpenAI key\n",
    "\n",
    "# Step 1: Define Emotion-Aware Prompt Template\n",
    "def generate_empathy_response(story):\n",
    "    prompt = f\"\"\"\n",
    "You are an emotionally intelligent assistant. Read the following story and answer:\n",
    "\n",
    "Story: {story}\n",
    "\n",
    "1. What is the main emotion in this story?\n",
    "2. Respond empathetically as if you were talking to the person involved.\n",
    "\"\"\"\n",
    "    response = openai.ChatCompletion.create(\n",
    "        model=\"gpt-4\",\n",
    "        messages=[{\"role\": \"user\", \"content\": prompt}],\n",
    "        temperature=0.7,\n",
    "        max_tokens=150\n",
    "    )\n",
    "    return response['choices'][0]['message']['content'].strip()\n",
    "\n",
    "# Step 2: Example Stories\n",
    "stories = [\n",
    "    \"A child dropped her ice cream. She looked at it, then started to cry. No one was around to help.\",\n",
    "    \"John just received a promotion after working late hours for months. His friends threw him a surprise party.\"\n",
    "]\n",
    "\n",
    "# Step 3: Generate Empathetic Responses\n",
    "for i, story in enumerate(stories):\n",
    "    print(f\"\\n📘 Story {i+1}:\\n{story}\")\n",
    "    result = generate_empathy_response(story)\n",
    "    print(\"💬 Emotion-Aware Response:\\n\", result)\n",
    "\n",
    "\n",
    "\n",
    "\n",
    "📤 Output Example\n",
    "\n",
    "📘 Story 1:\n",
    "A child dropped her ice cream. She looked at it, then started to cry. No one was around to help.\n",
    "\n",
    "💬 Emotion-Aware Response:\n",
    "1. Main emotion: Sadness  \n",
    "2. Response: \"Oh no, I'm so sorry you lost your ice cream. That must have felt really disappointing. I wish I could get you another one and give you a big hug.\"\n",
    "\n",
    "📘 Story 2:\n",
    "John just received a promotion after working late hours for months. His friends threw him a surprise party.\n",
    "\n",
    "💬 Emotion-Aware Response:\n",
    "1. Main emotion: Joy and Pride  \n",
    "2. Response: \"Wow, John! Congratulations on your promotion! All that hard work paid off. You really deserve to be celebrated!\""
   ]
  }
 ],
 "metadata": {
  "kaggle": {
   "accelerator": "none",
   "dataSources": [],
   "isGpuEnabled": false,
   "isInternetEnabled": true,
   "language": "python",
   "sourceType": "notebook"
  },
  "kernelspec": {
   "display_name": "Python 3",
   "language": "python",
   "name": "python3"
  },
  "language_info": {
   "codemirror_mode": {
    "name": "ipython",
    "version": 3
   },
   "file_extension": ".py",
   "mimetype": "text/x-python",
   "name": "python",
   "nbconvert_exporter": "python",
   "pygments_lexer": "ipython3",
   "version": "3.11.13"
  },
  "papermill": {
   "default_parameters": {},
   "duration": 6.949844,
   "end_time": "2025-07-27T03:50:07.125259",
   "environment_variables": {},
   "exception": true,
   "input_path": "__notebook__.ipynb",
   "output_path": "__notebook__.ipynb",
   "parameters": {},
   "start_time": "2025-07-27T03:50:00.175415",
   "version": "2.6.0"
  }
 },
 "nbformat": 4,
 "nbformat_minor": 5
}
