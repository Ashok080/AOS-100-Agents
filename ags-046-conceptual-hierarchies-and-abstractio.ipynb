{
 "cells": [
  {
   "cell_type": "code",
   "execution_count": 1,
   "id": "24a1358b",
   "metadata": {
    "_cell_guid": "b1076dfc-b9ad-4769-8c92-a6c4dae69d19",
    "_uuid": "8f2839f25d086af736a60e9eeb907d3b93b6e0e5",
    "execution": {
     "iopub.execute_input": "2025-07-26T15:06:47.100172Z",
     "iopub.status.busy": "2025-07-26T15:06:47.099844Z",
     "iopub.status.idle": "2025-07-26T15:06:48.962348Z",
     "shell.execute_reply": "2025-07-26T15:06:48.961356Z"
    },
    "papermill": {
     "duration": 1.867511,
     "end_time": "2025-07-26T15:06:48.964177",
     "exception": false,
     "start_time": "2025-07-26T15:06:47.096666",
     "status": "completed"
    },
    "tags": []
   },
   "outputs": [],
   "source": [
    "# This Python 3 environment comes with many helpful analytics libraries installed\n",
    "# It is defined by the kaggle/python Docker image: https://github.com/kaggle/docker-python\n",
    "# For example, here's several helpful packages to load\n",
    "\n",
    "import numpy as np # linear algebra\n",
    "import pandas as pd # data processing, CSV file I/O (e.g. pd.read_csv)\n",
    "\n",
    "# Input data files are available in the read-only \"../input/\" directory\n",
    "# For example, running this (by clicking run or pressing Shift+Enter) will list all files under the input directory\n",
    "\n",
    "import os\n",
    "for dirname, _, filenames in os.walk('/kaggle/input'):\n",
    "    for filename in filenames:\n",
    "        print(os.path.join(dirname, filename))\n",
    "\n",
    "# You can write up to 20GB to the current directory (/kaggle/working/) that gets preserved as output when you create a version using \"Save & Run All\" \n",
    "# You can also write temporary files to /kaggle/temp/, but they won't be saved outside of the current session"
   ]
  },
  {
   "cell_type": "code",
   "execution_count": 2,
   "id": "fdfa8f86",
   "metadata": {
    "execution": {
     "iopub.execute_input": "2025-07-26T15:06:48.968654Z",
     "iopub.status.busy": "2025-07-26T15:06:48.968227Z",
     "iopub.status.idle": "2025-07-26T15:06:49.055729Z",
     "shell.execute_reply": "2025-07-26T15:06:49.054568Z"
    },
    "papermill": {
     "duration": 0.091146,
     "end_time": "2025-07-26T15:06:49.057075",
     "exception": true,
     "start_time": "2025-07-26T15:06:48.965929",
     "status": "failed"
    },
    "tags": []
   },
   "outputs": [
    {
     "ename": "ModuleNotFoundError",
     "evalue": "No module named 'AGS'",
     "output_type": "error",
     "traceback": [
      "\u001b[0;31m---------------------------------------------------------------------------\u001b[0m",
      "\u001b[0;31mModuleNotFoundError\u001b[0m                       Traceback (most recent call last)",
      "\u001b[0;32m/tmp/ipykernel_13/3303291831.py\u001b[0m in \u001b[0;36m<cell line: 0>\u001b[0;34m()\u001b[0m\n\u001b[1;32m     11\u001b[0m \"\"\"\n\u001b[1;32m     12\u001b[0m \u001b[0;34m\u001b[0m\u001b[0m\n\u001b[0;32m---> 13\u001b[0;31m \u001b[0;32mfrom\u001b[0m \u001b[0mAGS\u001b[0m\u001b[0;34m.\u001b[0m\u001b[0mconcepts\u001b[0m \u001b[0;32mimport\u001b[0m \u001b[0mConceptualHierarchyBuilder\u001b[0m\u001b[0;34m\u001b[0m\u001b[0;34m\u001b[0m\u001b[0m\n\u001b[0m\u001b[1;32m     14\u001b[0m \u001b[0;32mfrom\u001b[0m \u001b[0mAGS\u001b[0m\u001b[0;34m.\u001b[0m\u001b[0mmemory\u001b[0m \u001b[0;32mimport\u001b[0m \u001b[0mKnowledgeMemory\u001b[0m\u001b[0;34m\u001b[0m\u001b[0;34m\u001b[0m\u001b[0m\n\u001b[1;32m     15\u001b[0m \u001b[0;32mfrom\u001b[0m \u001b[0mAGS\u001b[0m\u001b[0;34m.\u001b[0m\u001b[0mconfig\u001b[0m \u001b[0;32mimport\u001b[0m \u001b[0mAGSConfig\u001b[0m\u001b[0;34m\u001b[0m\u001b[0;34m\u001b[0m\u001b[0m\n",
      "\u001b[0;31mModuleNotFoundError\u001b[0m: No module named 'AGS'"
     ]
    }
   ],
   "source": [
    "# AGS 046 – Conceptual Hierarchies and Abstraction\n",
    "\n",
    "\"\"\"\n",
    "This notebook models the AGS system's ability to understand and construct conceptual hierarchies.\n",
    "It enables generalization from specific instances to broader categories (e.g., \"sparrow\" → \"bird\" → \"animal\").\n",
    "\n",
    "Useful for:\n",
    "- Knowledge graph traversal\n",
    "- Inference from abstract to specific (and vice versa)\n",
    "- Hierarchical learning in reasoning chains\n",
    "\"\"\"\n",
    "\n",
    "from AGS.concepts import ConceptualHierarchyBuilder\n",
    "from AGS.memory import KnowledgeMemory\n",
    "from AGS.config import AGSConfig\n",
    "\n",
    "# Config and memory\n",
    "config = AGSConfig()\n",
    "memory = KnowledgeMemory()\n",
    "hierarchy_builder = ConceptualHierarchyBuilder(memory=memory)\n",
    "\n",
    "# Sample concepts\n",
    "concepts = [\"sparrow\", \"penguin\", \"eagle\", \"shark\", \"dog\", \"cat\"]\n",
    "\n",
    "# Build and display hierarchy\n",
    "hierarchy = hierarchy_builder.build_hierarchy(concepts)\n",
    "print(\"Conceptual Hierarchy Tree:\\n\")\n",
    "print(hierarchy)\n",
    "\n",
    "# Example usage\n",
    "specific = \"sparrow\"\n",
    "abstract = hierarchy_builder.generalize(specific)\n",
    "print(f\"\\nGeneralized concept for '{specific}': {abstract}\")"
   ]
  }
 ],
 "metadata": {
  "kaggle": {
   "accelerator": "none",
   "dataSources": [],
   "isGpuEnabled": false,
   "isInternetEnabled": true,
   "language": "python",
   "sourceType": "notebook"
  },
  "kernelspec": {
   "display_name": "Python 3",
   "language": "python",
   "name": "python3"
  },
  "language_info": {
   "codemirror_mode": {
    "name": "ipython",
    "version": 3
   },
   "file_extension": ".py",
   "mimetype": "text/x-python",
   "name": "python",
   "nbconvert_exporter": "python",
   "pygments_lexer": "ipython3",
   "version": "3.11.13"
  },
  "papermill": {
   "default_parameters": {},
   "duration": 7.230196,
   "end_time": "2025-07-26T15:06:49.577908",
   "environment_variables": {},
   "exception": true,
   "input_path": "__notebook__.ipynb",
   "output_path": "__notebook__.ipynb",
   "parameters": {},
   "start_time": "2025-07-26T15:06:42.347712",
   "version": "2.6.0"
  }
 },
 "nbformat": 4,
 "nbformat_minor": 5
}
