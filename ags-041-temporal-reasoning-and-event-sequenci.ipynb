{
 "cells": [
  {
   "cell_type": "code",
   "execution_count": 1,
   "id": "dd9a1ce9",
   "metadata": {
    "_cell_guid": "b1076dfc-b9ad-4769-8c92-a6c4dae69d19",
    "_uuid": "8f2839f25d086af736a60e9eeb907d3b93b6e0e5",
    "execution": {
     "iopub.execute_input": "2025-07-26T14:53:57.652027Z",
     "iopub.status.busy": "2025-07-26T14:53:57.651685Z",
     "iopub.status.idle": "2025-07-26T14:53:59.577598Z",
     "shell.execute_reply": "2025-07-26T14:53:59.576381Z"
    },
    "papermill": {
     "duration": 1.930836,
     "end_time": "2025-07-26T14:53:59.579316",
     "exception": false,
     "start_time": "2025-07-26T14:53:57.648480",
     "status": "completed"
    },
    "tags": []
   },
   "outputs": [],
   "source": [
    "# This Python 3 environment comes with many helpful analytics libraries installed\n",
    "# It is defined by the kaggle/python Docker image: https://github.com/kaggle/docker-python\n",
    "# For example, here's several helpful packages to load\n",
    "\n",
    "import numpy as np # linear algebra\n",
    "import pandas as pd # data processing, CSV file I/O (e.g. pd.read_csv)\n",
    "\n",
    "# Input data files are available in the read-only \"../input/\" directory\n",
    "# For example, running this (by clicking run or pressing Shift+Enter) will list all files under the input directory\n",
    "\n",
    "import os\n",
    "for dirname, _, filenames in os.walk('/kaggle/input'):\n",
    "    for filename in filenames:\n",
    "        print(os.path.join(dirname, filename))\n",
    "\n",
    "# You can write up to 20GB to the current directory (/kaggle/working/) that gets preserved as output when you create a version using \"Save & Run All\" \n",
    "# You can also write temporary files to /kaggle/temp/, but they won't be saved outside of the current session"
   ]
  },
  {
   "cell_type": "code",
   "execution_count": 2,
   "id": "7952017b",
   "metadata": {
    "execution": {
     "iopub.execute_input": "2025-07-26T14:53:59.584086Z",
     "iopub.status.busy": "2025-07-26T14:53:59.583652Z",
     "iopub.status.idle": "2025-07-26T14:53:59.592299Z",
     "shell.execute_reply": "2025-07-26T14:53:59.590396Z"
    },
    "papermill": {
     "duration": 0.013543,
     "end_time": "2025-07-26T14:53:59.594682",
     "exception": false,
     "start_time": "2025-07-26T14:53:59.581139",
     "status": "completed"
    },
    "tags": []
   },
   "outputs": [
    {
     "name": "stdout",
     "output_type": "stream",
     "text": [
      "✅ AGS 041 dataset saved: ags_041_temporal_reasoning.json\n"
     ]
    }
   ],
   "source": [
    "# 📓 AGS 041 – Temporal Reasoning and Event Sequencing\n",
    "# Trains AGS to understand the order of events and time-based logic.\n",
    "\n",
    "import json\n",
    "\n",
    "temporal_reasoning_examples = [\n",
    "    {\n",
    "        \"id\": \"ags_041_001\",\n",
    "        \"events\": [\n",
    "            \"John woke up\",\n",
    "            \"John brushed his teeth\",\n",
    "            \"John had breakfast\"\n",
    "        ],\n",
    "        \"question\": \"Which happened first?\",\n",
    "        \"answer\": \"John woke up\",\n",
    "        \"reasoning\": \"People usually wake up before doing anything else.\"\n",
    "    },\n",
    "    {\n",
    "        \"id\": \"ags_041_002\",\n",
    "        \"events\": [\n",
    "            \"The sky turned dark\",\n",
    "            \"It started raining\",\n",
    "            \"The streets got wet\"\n",
    "        ],\n",
    "        \"question\": \"What is the likely sequence of events?\",\n",
    "        \"answer\": \"The sky turned dark → It started raining → The streets got wet\",\n",
    "        \"reasoning\": \"Rain causes wet streets, and dark skies often precede rain.\"\n",
    "    },\n",
    "    {\n",
    "        \"id\": \"ags_041_003\",\n",
    "        \"events\": [\n",
    "            \"Mary applied for a job\",\n",
    "            \"Mary got interviewed\",\n",
    "            \"Mary received a job offer\"\n",
    "        ],\n",
    "        \"question\": \"What comes immediately before receiving a job offer?\",\n",
    "        \"answer\": \"Mary got interviewed\",\n",
    "        \"reasoning\": \"Job offers typically come after an interview.\"\n",
    "    }\n",
    "]\n",
    "\n",
    "# Save as JSON\n",
    "with open(\"ags_041_temporal_reasoning.json\", \"w\") as f:\n",
    "    json.dump(temporal_reasoning_examples, f, indent=2)\n",
    "\n",
    "print(\"✅ AGS 041 dataset saved: ags_041_temporal_reasoning.json\")"
   ]
  }
 ],
 "metadata": {
  "kaggle": {
   "accelerator": "none",
   "dataSources": [],
   "isGpuEnabled": false,
   "isInternetEnabled": true,
   "language": "python",
   "sourceType": "notebook"
  },
  "kernelspec": {
   "display_name": "Python 3",
   "language": "python",
   "name": "python3"
  },
  "language_info": {
   "codemirror_mode": {
    "name": "ipython",
    "version": 3
   },
   "file_extension": ".py",
   "mimetype": "text/x-python",
   "name": "python",
   "nbconvert_exporter": "python",
   "pygments_lexer": "ipython3",
   "version": "3.11.13"
  },
  "papermill": {
   "default_parameters": {},
   "duration": 7.530444,
   "end_time": "2025-07-26T14:54:00.218358",
   "environment_variables": {},
   "exception": null,
   "input_path": "__notebook__.ipynb",
   "output_path": "__notebook__.ipynb",
   "parameters": {},
   "start_time": "2025-07-26T14:53:52.687914",
   "version": "2.6.0"
  }
 },
 "nbformat": 4,
 "nbformat_minor": 5
}
