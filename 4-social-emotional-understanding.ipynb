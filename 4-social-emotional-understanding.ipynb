{
 "cells": [
  {
   "cell_type": "markdown",
   "id": "05f13ddc",
   "metadata": {},
   "source": [
    "# Social & Emotional Understanding Notebook\n",
    "\n",
    "Dataset: GoEmotions"
   ]
  },
  {
   "cell_type": "code",
   "execution_count": null,
   "id": "30f342ad",
   "metadata": {},
   "outputs": [],
   "source": [
    "\n",
    "import pandas as pd\n",
    "\n",
    "# Load GoEmotions dataset\n",
    "emotions_df = pd.read_csv('/kaggle/input/goemotions/data/train.tsv', sep='\\t', names=['text', 'labels', 'ids'])\n",
    "print(emotions_df.head())\n",
    "\n",
    "# Example text classification with Hugging Face Transformers\n",
    "from transformers import pipeline\n",
    "classifier = pipeline(\"text-classification\", model=\"bhadresh-savani/bert-base-uncased-emotion\")\n",
    "\n",
    "sample_text = emotions_df['text'].iloc[0]\n",
    "result = classifier(sample_text)\n",
    "print(\"Sample Text:\", sample_text)\n",
    "print(\"Predicted Emotion:\", result)\n",
    "    "
   ]
  }
 ],
 "metadata": {},
 "nbformat": 4,
 "nbformat_minor": 5
}
