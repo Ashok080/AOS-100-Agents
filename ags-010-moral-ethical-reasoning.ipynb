{
 "cells": [
  {
   "cell_type": "code",
   "execution_count": 1,
   "id": "5fd28d4d",
   "metadata": {
    "_cell_guid": "b1076dfc-b9ad-4769-8c92-a6c4dae69d19",
    "_uuid": "8f2839f25d086af736a60e9eeb907d3b93b6e0e5",
    "execution": {
     "iopub.execute_input": "2025-07-26T11:37:57.565128Z",
     "iopub.status.busy": "2025-07-26T11:37:57.564828Z",
     "iopub.status.idle": "2025-07-26T11:37:59.312711Z",
     "shell.execute_reply": "2025-07-26T11:37:59.311808Z"
    },
    "papermill": {
     "duration": 1.752791,
     "end_time": "2025-07-26T11:37:59.314559",
     "exception": false,
     "start_time": "2025-07-26T11:37:57.561768",
     "status": "completed"
    },
    "tags": []
   },
   "outputs": [],
   "source": [
    "# This Python 3 environment comes with many helpful analytics libraries installed\n",
    "# It is defined by the kaggle/python Docker image: https://github.com/kaggle/docker-python\n",
    "# For example, here's several helpful packages to load\n",
    "\n",
    "import numpy as np # linear algebra\n",
    "import pandas as pd # data processing, CSV file I/O (e.g. pd.read_csv)\n",
    "\n",
    "# Input data files are available in the read-only \"../input/\" directory\n",
    "# For example, running this (by clicking run or pressing Shift+Enter) will list all files under the input directory\n",
    "\n",
    "import os\n",
    "for dirname, _, filenames in os.walk('/kaggle/input'):\n",
    "    for filename in filenames:\n",
    "        print(os.path.join(dirname, filename))\n",
    "\n",
    "# You can write up to 20GB to the current directory (/kaggle/working/) that gets preserved as output when you create a version using \"Save & Run All\" \n",
    "# You can also write temporary files to /kaggle/temp/, but they won't be saved outside of the current session"
   ]
  },
  {
   "cell_type": "code",
   "execution_count": 2,
   "id": "39349754",
   "metadata": {
    "execution": {
     "iopub.execute_input": "2025-07-26T11:37:59.319112Z",
     "iopub.status.busy": "2025-07-26T11:37:59.318711Z",
     "iopub.status.idle": "2025-07-26T11:37:59.328319Z",
     "shell.execute_reply": "2025-07-26T11:37:59.327312Z"
    },
    "papermill": {
     "duration": 0.013289,
     "end_time": "2025-07-26T11:37:59.329714",
     "exception": true,
     "start_time": "2025-07-26T11:37:59.316425",
     "status": "failed"
    },
    "tags": []
   },
   "outputs": [
    {
     "ename": "SyntaxError",
     "evalue": "invalid character '📊' (U+1F4CA) (4239864475.py, line 24)",
     "output_type": "error",
     "traceback": [
      "\u001b[0;36m  File \u001b[0;32m\"/tmp/ipykernel_13/4239864475.py\"\u001b[0;36m, line \u001b[0;32m24\u001b[0m\n\u001b[0;31m    📊 Moral Dilemma Categories\u001b[0m\n\u001b[0m    ^\u001b[0m\n\u001b[0;31mSyntaxError\u001b[0m\u001b[0;31m:\u001b[0m invalid character '📊' (U+1F4CA)\n"
     ]
    }
   ],
   "source": [
    "# AGS 010 – Moral & Ethical Reasoning\n",
    "\n",
    "# 🛠️ Goal: Train AGS agents to reflect on moral and ethical choices across situations\n",
    "\n",
    "import pandas as pd\n",
    "import matplotlib.pyplot as plt\n",
    "import seaborn as sns\n",
    "import json\n",
    "from wordcloud import WordCloud\n",
    "\n",
    "# ✅ Load dataset (upload this file to Kaggle: ags_010_moral_reasoning.json)\n",
    "with open('/kaggle/input/ags-010-moral-reasoning/ags_010_moral_reasoning.json', 'r') as f:\n",
    "    data = json.load(f)\n",
    "\n",
    "# Convert to DataFrame\n",
    "df = pd.DataFrame(data)\n",
    "\n",
    "# 🔍 Preview\n",
    "df.head()\n",
    "\n",
    "\n",
    "\n",
    "\n",
    "📊 Moral Dilemma Categories\n",
    "\n",
    "plt.figure(figsize=(8, 5))\n",
    "sns.countplot(data=df, x='reasoning_type', palette='Set2')\n",
    "plt.title('Types of Moral Reasoning')\n",
    "plt.xlabel('Reasoning Type')\n",
    "plt.ylabel('Count')\n",
    "plt.xticks(rotation=30)\n",
    "plt.show()\n",
    "\n",
    "\n",
    "\n",
    "\n",
    "☁️ Word Cloud of Moral Scenarios\n",
    "\n",
    "text = ' '.join(df['situation'])\n",
    "wordcloud = WordCloud(width=800, height=400, background_color='white').generate(text)\n",
    "\n",
    "plt.figure(figsize=(12, 6))\n",
    "plt.imshow(wordcloud, interpolation='bilinear')\n",
    "plt.axis('off')\n",
    "plt.title('Word Cloud of Moral Scenarios')\n",
    "plt.show()\n",
    "\n",
    "\n",
    "\n",
    "\n",
    "🔍 Try a Sample Moral Scenario\n",
    "\n",
    "sample = df.sample(1).iloc[0]\n",
    "\n",
    "print(\"🧠 Situation:\", sample['situation'])\n",
    "print(\"❓ Question:\", sample['question'])\n",
    "print(\"✅ Answer:\", sample['answer'])\n",
    "print(\"📚 Reasoning Type:\", sample['reasoning_type'])\n",
    "\n",
    "\n",
    "\n",
    "\n",
    "✅ Summary\n",
    "\n",
    "This dataset is ideal for training AI systems in:\n",
    "- Ethical dilemmas\n",
    "- Moral prioritization\n",
    "- Social alignment\n",
    "\n",
    "📁 Dataset file: ags_010_moral_reasoning.json\n",
    "\n",
    "\n",
    "\n",
    "\n",
    "📁 Sample Dataset Format\n",
    "\n",
    "Save as: ags_010_moral_reasoning.json\n",
    "\n",
    "[\n",
    "  {\n",
    "    \"id\": \"moral_001\",\n",
    "    \"situation\": \"You find a lost wallet on the ground.\",\n",
    "    \"question\": \"What should you do and why?\",\n",
    "    \"answer\": \"Return it to the owner if possible, because it’s the right and honest thing to do.\",\n",
    "    \"reasoning_type\": \"moral reasoning\"\n",
    "  },\n",
    "  {\n",
    "    \"id\": \"moral_002\",\n",
    "    \"situation\": \"Your friend cheated on a test and asks you not to tell anyone.\",\n",
    "    \"question\": \"Should you stay silent or report it?\",\n",
    "    \"answer\": \"Report it, because academic honesty is important even if it's hard.\",\n",
    "    \"reasoning_type\": \"ethical reasoning\"\n",
    "  }\n",
    "]"
   ]
  }
 ],
 "metadata": {
  "kaggle": {
   "accelerator": "none",
   "dataSources": [],
   "isGpuEnabled": false,
   "isInternetEnabled": true,
   "language": "python",
   "sourceType": "notebook"
  },
  "kernelspec": {
   "display_name": "Python 3",
   "language": "python",
   "name": "python3"
  },
  "language_info": {
   "codemirror_mode": {
    "name": "ipython",
    "version": 3
   },
   "file_extension": ".py",
   "mimetype": "text/x-python",
   "name": "python",
   "nbconvert_exporter": "python",
   "pygments_lexer": "ipython3",
   "version": "3.11.13"
  },
  "papermill": {
   "default_parameters": {},
   "duration": 6.799493,
   "end_time": "2025-07-26T11:37:59.851044",
   "environment_variables": {},
   "exception": true,
   "input_path": "__notebook__.ipynb",
   "output_path": "__notebook__.ipynb",
   "parameters": {},
   "start_time": "2025-07-26T11:37:53.051551",
   "version": "2.6.0"
  }
 },
 "nbformat": 4,
 "nbformat_minor": 5
}
