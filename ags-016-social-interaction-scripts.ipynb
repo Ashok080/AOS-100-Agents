{
 "cells": [
  {
   "cell_type": "code",
   "execution_count": 1,
   "id": "40a501ce",
   "metadata": {
    "_cell_guid": "b1076dfc-b9ad-4769-8c92-a6c4dae69d19",
    "_uuid": "8f2839f25d086af736a60e9eeb907d3b93b6e0e5",
    "execution": {
     "iopub.execute_input": "2025-07-26T12:13:20.647448Z",
     "iopub.status.busy": "2025-07-26T12:13:20.647094Z",
     "iopub.status.idle": "2025-07-26T12:13:22.562328Z",
     "shell.execute_reply": "2025-07-26T12:13:22.561604Z"
    },
    "papermill": {
     "duration": 1.919994,
     "end_time": "2025-07-26T12:13:22.563968",
     "exception": false,
     "start_time": "2025-07-26T12:13:20.643974",
     "status": "completed"
    },
    "tags": []
   },
   "outputs": [],
   "source": [
    "# This Python 3 environment comes with many helpful analytics libraries installed\n",
    "# It is defined by the kaggle/python Docker image: https://github.com/kaggle/docker-python\n",
    "# For example, here's several helpful packages to load\n",
    "\n",
    "import numpy as np # linear algebra\n",
    "import pandas as pd # data processing, CSV file I/O (e.g. pd.read_csv)\n",
    "\n",
    "# Input data files are available in the read-only \"../input/\" directory\n",
    "# For example, running this (by clicking run or pressing Shift+Enter) will list all files under the input directory\n",
    "\n",
    "import os\n",
    "for dirname, _, filenames in os.walk('/kaggle/input'):\n",
    "    for filename in filenames:\n",
    "        print(os.path.join(dirname, filename))\n",
    "\n",
    "# You can write up to 20GB to the current directory (/kaggle/working/) that gets preserved as output when you create a version using \"Save & Run All\" \n",
    "# You can also write temporary files to /kaggle/temp/, but they won't be saved outside of the current session"
   ]
  },
  {
   "cell_type": "code",
   "execution_count": 2,
   "id": "cad8cd67",
   "metadata": {
    "execution": {
     "iopub.execute_input": "2025-07-26T12:13:22.568885Z",
     "iopub.status.busy": "2025-07-26T12:13:22.568504Z",
     "iopub.status.idle": "2025-07-26T12:13:22.577201Z",
     "shell.execute_reply": "2025-07-26T12:13:22.576017Z"
    },
    "papermill": {
     "duration": 0.012845,
     "end_time": "2025-07-26T12:13:22.578721",
     "exception": true,
     "start_time": "2025-07-26T12:13:22.565876",
     "status": "failed"
    },
    "tags": []
   },
   "outputs": [
    {
     "ename": "SyntaxError",
     "evalue": "invalid character '🧾' (U+1F9FE) (2387473417.py, line 19)",
     "output_type": "error",
     "traceback": [
      "\u001b[0;36m  File \u001b[0;32m\"/tmp/ipykernel_13/2387473417.py\"\u001b[0;36m, line \u001b[0;32m19\u001b[0m\n\u001b[0;31m    🧾 View a Random Interaction Script\u001b[0m\n\u001b[0m    ^\u001b[0m\n\u001b[0;31mSyntaxError\u001b[0m\u001b[0;31m:\u001b[0m invalid character '🧾' (U+1F9FE)\n"
     ]
    }
   ],
   "source": [
    "# AGS 016 – Social Interaction Scripts\n",
    "# 🎯 Goal: Teach AGS how people structure conversations in common situations\n",
    "\n",
    "import pandas as pd\n",
    "import matplotlib.pyplot as plt\n",
    "import seaborn as sns\n",
    "import json\n",
    "\n",
    "# ✅ Load dataset (upload to Kaggle as ags_016_social_scripts.json)\n",
    "with open('/kaggle/input/ags-016-social-scripts/ags_016_social_scripts.json', 'r') as f:\n",
    "    data = json.load(f)\n",
    "\n",
    "df = pd.DataFrame(data)\n",
    "df.head()\n",
    "\n",
    "\n",
    "\n",
    "\n",
    "🧾 View a Random Interaction Script\n",
    "\n",
    "sample = df.sample(1).iloc[0]\n",
    "\n",
    "print(\"📍 Situation:\", sample['situation'])\n",
    "print(\"👤 Person A:\", sample['person_a_line'])\n",
    "print(\"👥 Person B:\", sample['person_b_line'])\n",
    "print(\"🧠 AGS Understanding:\", sample['ags_reasoning'])\n",
    "\n",
    "\n",
    "\n",
    "\n",
    "📊 Frequency of Common Situations\n",
    "\n",
    "plt.figure(figsize=(10,6))\n",
    "sns.countplot(data=df, y='situation', order=df['situation'].value_counts().index, palette='Set2')\n",
    "plt.title(\"Most Common Social Situations\")\n",
    "plt.xlabel(\"Count\")\n",
    "plt.ylabel(\"Situation\")\n",
    "plt.tight_layout()\n",
    "plt.show()\n",
    "\n",
    "\n",
    "\n",
    "\n",
    "✅ Summary\n",
    "\n",
    "- Simulates natural dialogues\n",
    "- Improves AGS ability to mimic real-world conversations\n",
    "\n",
    "\n",
    "\n",
    "\n",
    "📁 Sample JSON Data\n",
    "\n",
    "Save as: ags_016_social_scripts.json\n",
    "\n",
    "[\n",
    "  {\n",
    "    \"id\": \"ss_001\",\n",
    "    \"situation\": \"Asking for directions\",\n",
    "    \"person_a_line\": \"Excuse me, could you tell me how to get to the library?\",\n",
    "    \"person_b_line\": \"Sure, go straight and take the second left. The library will be on your right.\",\n",
    "    \"ags_reasoning\": \"In this situation, Person A seeks help and Person B responds with polite and clear instructions.\"\n",
    "  },\n",
    "  {\n",
    "    \"id\": \"ss_002\",\n",
    "    \"situation\": \"Greeting a friend\",\n",
    "    \"person_a_line\": \"Hey! Long time no see!\",\n",
    "    \"person_b_line\": \"Yeah! It's great to see you again. How have you been?\",\n",
    "    \"ags_reasoning\": \"In friendly greetings, both parties express joy and inquire about each other's well-being.\"\n",
    "  }\n",
    "]"
   ]
  }
 ],
 "metadata": {
  "kaggle": {
   "accelerator": "none",
   "dataSources": [],
   "isGpuEnabled": false,
   "isInternetEnabled": true,
   "language": "python",
   "sourceType": "notebook"
  },
  "kernelspec": {
   "display_name": "Python 3",
   "language": "python",
   "name": "python3"
  },
  "language_info": {
   "codemirror_mode": {
    "name": "ipython",
    "version": 3
   },
   "file_extension": ".py",
   "mimetype": "text/x-python",
   "name": "python",
   "nbconvert_exporter": "python",
   "pygments_lexer": "ipython3",
   "version": "3.11.13"
  },
  "papermill": {
   "default_parameters": {},
   "duration": 7.242741,
   "end_time": "2025-07-26T12:13:22.998865",
   "environment_variables": {},
   "exception": true,
   "input_path": "__notebook__.ipynb",
   "output_path": "__notebook__.ipynb",
   "parameters": {},
   "start_time": "2025-07-26T12:13:15.756124",
   "version": "2.6.0"
  }
 },
 "nbformat": 4,
 "nbformat_minor": 5
}
