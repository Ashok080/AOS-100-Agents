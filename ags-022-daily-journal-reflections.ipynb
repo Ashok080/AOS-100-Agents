{
 "cells": [
  {
   "cell_type": "code",
   "execution_count": 1,
   "id": "b2bc290e",
   "metadata": {
    "_cell_guid": "b1076dfc-b9ad-4769-8c92-a6c4dae69d19",
    "_uuid": "8f2839f25d086af736a60e9eeb907d3b93b6e0e5",
    "execution": {
     "iopub.execute_input": "2025-07-26T12:33:29.856238Z",
     "iopub.status.busy": "2025-07-26T12:33:29.855858Z",
     "iopub.status.idle": "2025-07-26T12:33:31.722622Z",
     "shell.execute_reply": "2025-07-26T12:33:31.721867Z"
    },
    "papermill": {
     "duration": 1.871773,
     "end_time": "2025-07-26T12:33:31.724429",
     "exception": false,
     "start_time": "2025-07-26T12:33:29.852656",
     "status": "completed"
    },
    "tags": []
   },
   "outputs": [],
   "source": [
    "# This Python 3 environment comes with many helpful analytics libraries installed\n",
    "# It is defined by the kaggle/python Docker image: https://github.com/kaggle/docker-python\n",
    "# For example, here's several helpful packages to load\n",
    "\n",
    "import numpy as np # linear algebra\n",
    "import pandas as pd # data processing, CSV file I/O (e.g. pd.read_csv)\n",
    "\n",
    "# Input data files are available in the read-only \"../input/\" directory\n",
    "# For example, running this (by clicking run or pressing Shift+Enter) will list all files under the input directory\n",
    "\n",
    "import os\n",
    "for dirname, _, filenames in os.walk('/kaggle/input'):\n",
    "    for filename in filenames:\n",
    "        print(os.path.join(dirname, filename))\n",
    "\n",
    "# You can write up to 20GB to the current directory (/kaggle/working/) that gets preserved as output when you create a version using \"Save & Run All\" \n",
    "# You can also write temporary files to /kaggle/temp/, but they won't be saved outside of the current session"
   ]
  },
  {
   "cell_type": "code",
   "execution_count": 2,
   "id": "215aeec6",
   "metadata": {
    "execution": {
     "iopub.execute_input": "2025-07-26T12:33:31.729065Z",
     "iopub.status.busy": "2025-07-26T12:33:31.728632Z",
     "iopub.status.idle": "2025-07-26T12:33:31.738444Z",
     "shell.execute_reply": "2025-07-26T12:33:31.736977Z"
    },
    "papermill": {
     "duration": 0.013533,
     "end_time": "2025-07-26T12:33:31.739827",
     "exception": true,
     "start_time": "2025-07-26T12:33:31.726294",
     "status": "failed"
    },
    "tags": []
   },
   "outputs": [
    {
     "ename": "SyntaxError",
     "evalue": "invalid character '🔍' (U+1F50D) (27217650.py, line 17)",
     "output_type": "error",
     "traceback": [
      "\u001b[0;36m  File \u001b[0;32m\"/tmp/ipykernel_13/27217650.py\"\u001b[0;36m, line \u001b[0;32m17\u001b[0m\n\u001b[0;31m    🔍 Show a Random Reflection and AGS Response\u001b[0m\n\u001b[0m    ^\u001b[0m\n\u001b[0;31mSyntaxError\u001b[0m\u001b[0;31m:\u001b[0m invalid character '🔍' (U+1F50D)\n"
     ]
    }
   ],
   "source": [
    "# AGS 022 – Daily Journal Reflections\n",
    "# 🧠 Goal: Help AGS reason through daily life reflections and self-awareness\n",
    "\n",
    "import pandas as pd\n",
    "import json\n",
    "\n",
    "# ✅ Load dataset (Upload to Kaggle as ags_022_daily_journal.json)\n",
    "with open('/kaggle/input/ags-022-daily-journal/ags_022_daily_journal.json') as f:\n",
    "    data = json.load(f)\n",
    "\n",
    "df = pd.DataFrame(data)\n",
    "df.head()\n",
    "\n",
    "\n",
    "\n",
    "\n",
    "🔍 Show a Random Reflection and AGS Response\n",
    "\n",
    "sample = df.sample(1).iloc[0]\n",
    "\n",
    "print(\"📔 Journal Entry:\", sample[\"journal_entry\"])\n",
    "print(\"🧠 Self Insight:\", sample[\"self_insight\"])\n",
    "print(\"🤖 AGS Reflection:\", sample[\"ags_response\"])\n",
    "print(\"📚 Reasoning Type:\", sample[\"reasoning_type\"])\n",
    "\n",
    "\n",
    "\n",
    "\n",
    "📊 Reasoning Types in Daily Journals\n",
    "\n",
    "import matplotlib.pyplot as plt\n",
    "\n",
    "df['reasoning_type'].value_counts().plot(kind='barh', color='skyblue', figsize=(8,5))\n",
    "plt.title(\"Reasoning Types in Journal Reflections\")\n",
    "plt.xlabel(\"Frequency\")\n",
    "plt.ylabel(\"Reasoning Type\")\n",
    "plt.grid(axis='x')\n",
    "plt.show()\n",
    "\n",
    "\n",
    "\n",
    "\n",
    "📝 Sample JSON Format\n",
    "\n",
    "Save as: ags_022_daily_journal.json\n",
    "\n",
    "[\n",
    "  {\n",
    "    \"id\": \"jr_001\",\n",
    "    \"journal_entry\": \"I procrastinated a lot today. I didn’t complete any of my goals.\",\n",
    "    \"self_insight\": \"I avoid tasks that feel overwhelming and then feel guilty.\",\n",
    "    \"ags_response\": \"Recognizing this pattern is the first step. Next time, let’s try breaking goals into tiny steps.\",\n",
    "    \"reasoning_type\": \"reflective reasoning\"\n",
    "  },\n",
    "  {\n",
    "    \"id\": \"jr_002\",\n",
    "    \"journal_entry\": \"I had a great talk with my brother after weeks of silence.\",\n",
    "    \"self_insight\": \"Reconnecting made me realize how much I missed him.\",\n",
    "    \"ags_response\": \"That’s a beautiful realization. Keeping that bond alive can be truly healing.\",\n",
    "    \"reasoning_type\": \"emotional connection\"\n",
    "  }\n",
    "]\n",
    "\n",
    "\n",
    "\n",
    "\n",
    "✅ Summary\n",
    "\n",
    "This dataset helps AGS:\n",
    "- Reflect on user-submitted personal journal entries\n",
    "- Offer grounded insights and encouragement\n",
    "- Train on self-reflective and emotional reasoning"
   ]
  }
 ],
 "metadata": {
  "kaggle": {
   "accelerator": "none",
   "dataSources": [],
   "isGpuEnabled": false,
   "isInternetEnabled": true,
   "language": "python",
   "sourceType": "notebook"
  },
  "kernelspec": {
   "display_name": "Python 3",
   "language": "python",
   "name": "python3"
  },
  "language_info": {
   "codemirror_mode": {
    "name": "ipython",
    "version": 3
   },
   "file_extension": ".py",
   "mimetype": "text/x-python",
   "name": "python",
   "nbconvert_exporter": "python",
   "pygments_lexer": "ipython3",
   "version": "3.11.13"
  },
  "papermill": {
   "default_parameters": {},
   "duration": 7.422313,
   "end_time": "2025-07-26T12:33:32.260021",
   "environment_variables": {},
   "exception": true,
   "input_path": "__notebook__.ipynb",
   "output_path": "__notebook__.ipynb",
   "parameters": {},
   "start_time": "2025-07-26T12:33:24.837708",
   "version": "2.6.0"
  }
 },
 "nbformat": 4,
 "nbformat_minor": 5
}
