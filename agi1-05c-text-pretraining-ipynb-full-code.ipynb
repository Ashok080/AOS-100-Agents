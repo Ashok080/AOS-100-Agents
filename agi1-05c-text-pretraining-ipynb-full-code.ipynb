{
 "cells": [
  {
   "cell_type": "code",
   "execution_count": 1,
   "id": "ab028a59",
   "metadata": {
    "_cell_guid": "b1076dfc-b9ad-4769-8c92-a6c4dae69d19",
    "_uuid": "8f2839f25d086af736a60e9eeb907d3b93b6e0e5",
    "execution": {
     "iopub.execute_input": "2025-07-14T09:59:31.512251Z",
     "iopub.status.busy": "2025-07-14T09:59:31.511924Z",
     "iopub.status.idle": "2025-07-14T09:59:33.375507Z",
     "shell.execute_reply": "2025-07-14T09:59:33.374594Z"
    },
    "papermill": {
     "duration": 1.869724,
     "end_time": "2025-07-14T09:59:33.377347",
     "exception": false,
     "start_time": "2025-07-14T09:59:31.507623",
     "status": "completed"
    },
    "tags": []
   },
   "outputs": [],
   "source": [
    "# This Python 3 environment comes with many helpful analytics libraries installed\n",
    "# It is defined by the kaggle/python Docker image: https://github.com/kaggle/docker-python\n",
    "# For example, here's several helpful packages to load\n",
    "\n",
    "import numpy as np # linear algebra\n",
    "import pandas as pd # data processing, CSV file I/O (e.g. pd.read_csv)\n",
    "\n",
    "# Input data files are available in the read-only \"../input/\" directory\n",
    "# For example, running this (by clicking run or pressing Shift+Enter) will list all files under the input directory\n",
    "\n",
    "import os\n",
    "for dirname, _, filenames in os.walk('/kaggle/input'):\n",
    "    for filename in filenames:\n",
    "        print(os.path.join(dirname, filename))\n",
    "\n",
    "# You can write up to 20GB to the current directory (/kaggle/working/) that gets preserved as output when you create a version using \"Save & Run All\" \n",
    "# You can also write temporary files to /kaggle/temp/, but they won't be saved outside of the current session"
   ]
  },
  {
   "cell_type": "code",
   "execution_count": 2,
   "id": "cfd2b7f0",
   "metadata": {
    "execution": {
     "iopub.execute_input": "2025-07-14T09:59:33.382594Z",
     "iopub.status.busy": "2025-07-14T09:59:33.382203Z",
     "iopub.status.idle": "2025-07-14T10:00:10.563908Z",
     "shell.execute_reply": "2025-07-14T10:00:10.562551Z"
    },
    "papermill": {
     "duration": 37.186019,
     "end_time": "2025-07-14T10:00:10.565497",
     "exception": true,
     "start_time": "2025-07-14T09:59:33.379478",
     "status": "failed"
    },
    "tags": []
   },
   "outputs": [
    {
     "name": "stderr",
     "output_type": "stream",
     "text": [
      "2025-07-14 09:59:53.464177: E external/local_xla/xla/stream_executor/cuda/cuda_fft.cc:477] Unable to register cuFFT factory: Attempting to register factory for plugin cuFFT when one has already been registered\n",
      "WARNING: All log messages before absl::InitializeLog() is called are written to STDERR\n",
      "E0000 00:00:1752487193.689066      13 cuda_dnn.cc:8310] Unable to register cuDNN factory: Attempting to register factory for plugin cuDNN when one has already been registered\n",
      "E0000 00:00:1752487193.757231      13 cuda_blas.cc:1418] Unable to register cuBLAS factory: Attempting to register factory for plugin cuBLAS when one has already been registered\n"
     ]
    },
    {
     "name": "stdout",
     "output_type": "stream",
     "text": [
      "🔧 Device detected: cpu\n"
     ]
    },
    {
     "ename": "FileNotFoundError",
     "evalue": "CSV not found: /kaggle/input/alpaca-dataset-v1/alpaca_data_cleaned.csv",
     "output_type": "error",
     "traceback": [
      "\u001b[0;31m---------------------------------------------------------------------------\u001b[0m",
      "\u001b[0;31mFileNotFoundError\u001b[0m                         Traceback (most recent call last)",
      "\u001b[0;32m/tmp/ipykernel_13/1049768338.py\u001b[0m in \u001b[0;36m<cell line: 0>\u001b[0;34m()\u001b[0m\n\u001b[1;32m     17\u001b[0m \u001b[0mcsv_path\u001b[0m \u001b[0;34m=\u001b[0m \u001b[0;34m'/kaggle/input/alpaca-dataset-v1/alpaca_data_cleaned.csv'\u001b[0m  \u001b[0;31m# update as per your input\u001b[0m\u001b[0;34m\u001b[0m\u001b[0;34m\u001b[0m\u001b[0m\n\u001b[1;32m     18\u001b[0m \u001b[0;32mif\u001b[0m \u001b[0;32mnot\u001b[0m \u001b[0mos\u001b[0m\u001b[0;34m.\u001b[0m\u001b[0mpath\u001b[0m\u001b[0;34m.\u001b[0m\u001b[0misfile\u001b[0m\u001b[0;34m(\u001b[0m\u001b[0mcsv_path\u001b[0m\u001b[0;34m)\u001b[0m\u001b[0;34m:\u001b[0m\u001b[0;34m\u001b[0m\u001b[0;34m\u001b[0m\u001b[0m\n\u001b[0;32m---> 19\u001b[0;31m     \u001b[0;32mraise\u001b[0m \u001b[0mFileNotFoundError\u001b[0m\u001b[0;34m(\u001b[0m\u001b[0;34mf\"CSV not found: {csv_path}\"\u001b[0m\u001b[0;34m)\u001b[0m\u001b[0;34m\u001b[0m\u001b[0;34m\u001b[0m\u001b[0m\n\u001b[0m\u001b[1;32m     20\u001b[0m \u001b[0;34m\u001b[0m\u001b[0m\n\u001b[1;32m     21\u001b[0m \u001b[0mdf\u001b[0m \u001b[0;34m=\u001b[0m \u001b[0mpd\u001b[0m\u001b[0;34m.\u001b[0m\u001b[0mread_csv\u001b[0m\u001b[0;34m(\u001b[0m\u001b[0mcsv_path\u001b[0m\u001b[0;34m)\u001b[0m\u001b[0;34m\u001b[0m\u001b[0;34m\u001b[0m\u001b[0m\n",
      "\u001b[0;31mFileNotFoundError\u001b[0m: CSV not found: /kaggle/input/alpaca-dataset-v1/alpaca_data_cleaned.csv"
     ]
    }
   ],
   "source": [
    "# ✅ AGI1_05c_text_pretraining.ipynb — Advanced Version\n",
    "import os\n",
    "import pandas as pd\n",
    "import torch\n",
    "from transformers import AutoTokenizer, AutoModelForCausalLM, Trainer, TrainingArguments, DataCollatorForLanguageModeling\n",
    "from datasets import Dataset\n",
    "\n",
    "# ✅ Detect Device\n",
    "device = torch.device('cuda' if torch.cuda.is_available() else 'cpu')\n",
    "print(f\"🔧 Device detected: {device}\")\n",
    "\n",
    "# ✅ Step 1: Confirm CSV Path\n",
    "for dirname, _, filenames in os.walk('/kaggle/input'):\n",
    "    for filename in filenames:\n",
    "        print(os.path.join(dirname, filename))\n",
    "\n",
    "csv_path = '/kaggle/input/alpaca-dataset-v1/alpaca_data_cleaned.csv'  # update as per your input\n",
    "if not os.path.isfile(csv_path):\n",
    "    raise FileNotFoundError(f\"CSV not found: {csv_path}\")\n",
    "\n",
    "df = pd.read_csv(csv_path)\n",
    "print(f\"✅ Loaded dataset with {len(df)} rows\")\n",
    "\n",
    "# ✅ Step 2: Format Data for Pretraining\n",
    "def format_instruction(row):\n",
    "    instruction = str(row['instruction']).strip()\n",
    "    input_txt = str(row.get('input', '')).strip()\n",
    "    output = str(row['output']).strip()\n",
    "    return f\"### Instruction: {instruction}\\n### Input: {input_txt}\\n### Output: {output}\"\n",
    "\n",
    "df['text'] = df.apply(format_instruction, axis=1)\n",
    "dataset = Dataset.from_pandas(df[['text']])\n",
    "dataset = dataset.train_test_split(test_size=0.1)\n",
    "print(\"✅ Dataset formatted\")\n",
    "\n",
    "# ✅ Step 3: Choose Model\n",
    "model_name = 'gpt2-medium'  # Change to 'gpt2-large', 'meta-llama/Llama-2-7b-hf' etc if you have access + GPU\n",
    "tokenizer = AutoTokenizer.from_pretrained(model_name)\n",
    "tokenizer.pad_token = tokenizer.eos_token\n",
    "\n",
    "model = AutoModelForCausalLM.from_pretrained(model_name).to(device)\n",
    "print(f\"✅ Loaded model: {model_name}\")\n",
    "\n",
    "# ✅ Step 4: Tokenization\n",
    "def tokenize_function(examples):\n",
    "    return tokenizer(examples['text'], truncation=True, padding='max_length', max_length=512)\n",
    "\n",
    "tokenized_dataset = dataset.map(tokenize_function, batched=True, remove_columns=['text'])\n",
    "print(\"✅ Tokenization completed\")\n",
    "\n",
    "data_collator = DataCollatorForLanguageModeling(\n",
    "    tokenizer=tokenizer, mlm=False\n",
    ")\n",
    "\n",
    "# ✅ Step 5: Training Arguments (adjust batch size for CPU/GPU)\n",
    "training_args = TrainingArguments(\n",
    "    output_dir='/kaggle/working/agi1_05c_output',\n",
    "    evaluation_strategy=\"epoch\",\n",
    "    learning_rate=3e-5,\n",
    "    weight_decay=0.01,\n",
    "    per_device_train_batch_size=4 if device.type == 'cuda' else 2,\n",
    "    per_device_eval_batch_size=4 if device.type == 'cuda' else 2,\n",
    "    num_train_epochs=1,\n",
    "    logging_steps=5,\n",
    "    save_strategy=\"epoch\",\n",
    "    fp16=True if device.type == 'cuda' else False,\n",
    "    logging_dir='/kaggle/working/agi1_05c_logs'\n",
    ")\n",
    "\n",
    "trainer = Trainer(\n",
    "    model=model,\n",
    "    args=training_args,\n",
    "    train_dataset=tokenized_dataset['train'],\n",
    "    eval_dataset=tokenized_dataset['test'],\n",
    "    tokenizer=tokenizer,\n",
    "    data_collator=data_collator\n",
    ")\n",
    "\n",
    "# ✅ Step 6: Start Training\n",
    "trainer.train()\n",
    "\n",
    "# ✅ Step 7: Save Model\n",
    "trainer.save_model('/kaggle/working/agi1_05c_output')\n",
    "tokenizer.save_pretrained('/kaggle/working/agi1_05c_output')\n",
    "print(\"✅ Advanced Pretraining Complete. Model saved to /kaggle/working/agi1_05c_output\")"
   ]
  }
 ],
 "metadata": {
  "kaggle": {
   "accelerator": "none",
   "dataSources": [],
   "dockerImageVersionId": 31089,
   "isGpuEnabled": false,
   "isInternetEnabled": true,
   "language": "python",
   "sourceType": "notebook"
  },
  "kernelspec": {
   "display_name": "Python 3",
   "language": "python",
   "name": "python3"
  },
  "language_info": {
   "codemirror_mode": {
    "name": "ipython",
    "version": 3
   },
   "file_extension": ".py",
   "mimetype": "text/x-python",
   "name": "python",
   "nbconvert_exporter": "python",
   "pygments_lexer": "ipython3",
   "version": "3.11.13"
  },
  "papermill": {
   "default_parameters": {},
   "duration": 47.151551,
   "end_time": "2025-07-14T10:00:13.849173",
   "environment_variables": {},
   "exception": true,
   "input_path": "__notebook__.ipynb",
   "output_path": "__notebook__.ipynb",
   "parameters": {},
   "start_time": "2025-07-14T09:59:26.697622",
   "version": "2.6.0"
  }
 },
 "nbformat": 4,
 "nbformat_minor": 5
}
