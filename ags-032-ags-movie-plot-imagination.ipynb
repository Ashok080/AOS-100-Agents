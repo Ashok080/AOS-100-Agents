{
 "cells": [
  {
   "cell_type": "code",
   "execution_count": 1,
   "id": "84ff872e",
   "metadata": {
    "_cell_guid": "b1076dfc-b9ad-4769-8c92-a6c4dae69d19",
    "_uuid": "8f2839f25d086af736a60e9eeb907d3b93b6e0e5",
    "execution": {
     "iopub.execute_input": "2025-07-26T13:08:53.295354Z",
     "iopub.status.busy": "2025-07-26T13:08:53.294777Z",
     "iopub.status.idle": "2025-07-26T13:08:55.525168Z",
     "shell.execute_reply": "2025-07-26T13:08:55.523882Z"
    },
    "papermill": {
     "duration": 2.237096,
     "end_time": "2025-07-26T13:08:55.527752",
     "exception": false,
     "start_time": "2025-07-26T13:08:53.290656",
     "status": "completed"
    },
    "tags": []
   },
   "outputs": [],
   "source": [
    "# This Python 3 environment comes with many helpful analytics libraries installed\n",
    "# It is defined by the kaggle/python Docker image: https://github.com/kaggle/docker-python\n",
    "# For example, here's several helpful packages to load\n",
    "\n",
    "import numpy as np # linear algebra\n",
    "import pandas as pd # data processing, CSV file I/O (e.g. pd.read_csv)\n",
    "\n",
    "# Input data files are available in the read-only \"../input/\" directory\n",
    "# For example, running this (by clicking run or pressing Shift+Enter) will list all files under the input directory\n",
    "\n",
    "import os\n",
    "for dirname, _, filenames in os.walk('/kaggle/input'):\n",
    "    for filename in filenames:\n",
    "        print(os.path.join(dirname, filename))\n",
    "\n",
    "# You can write up to 20GB to the current directory (/kaggle/working/) that gets preserved as output when you create a version using \"Save & Run All\" \n",
    "# You can also write temporary files to /kaggle/temp/, but they won't be saved outside of the current session"
   ]
  },
  {
   "cell_type": "code",
   "execution_count": 2,
   "id": "24faab65",
   "metadata": {
    "execution": {
     "iopub.execute_input": "2025-07-26T13:08:55.535088Z",
     "iopub.status.busy": "2025-07-26T13:08:55.534455Z",
     "iopub.status.idle": "2025-07-26T13:08:55.549571Z",
     "shell.execute_reply": "2025-07-26T13:08:55.547983Z"
    },
    "papermill": {
     "duration": 0.02109,
     "end_time": "2025-07-26T13:08:55.551456",
     "exception": true,
     "start_time": "2025-07-26T13:08:55.530366",
     "status": "failed"
    },
    "tags": []
   },
   "outputs": [
    {
     "ename": "SyntaxError",
     "evalue": "invalid character '🎬' (U+1F3AC) (2124945843.py, line 17)",
     "output_type": "error",
     "traceback": [
      "\u001b[0;36m  File \u001b[0;32m\"/tmp/ipykernel_13/2124945843.py\"\u001b[0;36m, line \u001b[0;32m17\u001b[0m\n\u001b[0;31m    🎬 Show One Sample\u001b[0m\n\u001b[0m    ^\u001b[0m\n\u001b[0;31mSyntaxError\u001b[0m\u001b[0;31m:\u001b[0m invalid character '🎬' (U+1F3AC)\n"
     ]
    }
   ],
   "source": [
    "# AGS 032 – AGS Movie Plot Imagination\n",
    "# 🎯 Goal: Evaluate AGS's ability to generate or complete fictional movie plots\n",
    "\n",
    "import pandas as pd\n",
    "import json\n",
    "\n",
    "# ✅ Load movie plot imagination dataset (Upload as ags_032_movie_plot.json)\n",
    "with open('/kaggle/input/ags-032-movie-plot-imagination/ags_032_movie_plot.json') as f:\n",
    "    data = json.load(f)\n",
    "\n",
    "df = pd.DataFrame(data)\n",
    "df.head()\n",
    "\n",
    "\n",
    "\n",
    "\n",
    "🎬 Show One Sample\n",
    "\n",
    "sample = df.sample(1).iloc[0]\n",
    "print(\"🎥 Prompt:\", sample[\"prompt\"])\n",
    "print(\"📝 Generated Plot:\", sample[\"plot\"])\n",
    "print(\"🎭 Reasoning Type:\", sample[\"reasoning_type\"])\n",
    "\n",
    "\n",
    "\n",
    "\n",
    "📊 Word Count Distribution in Generated Plots\n",
    "\n",
    "df['word_count'] = df['plot'].apply(lambda x: len(x.split()))\n",
    "\n",
    "import matplotlib.pyplot as plt\n",
    "\n",
    "plt.figure(figsize=(8, 4))\n",
    "plt.hist(df['word_count'], bins=25, color='orange')\n",
    "plt.title(\"Word Count Distribution in Movie Plots\")\n",
    "plt.xlabel(\"Word Count\")\n",
    "plt.ylabel(\"Frequency\")\n",
    "plt.grid(True)\n",
    "plt.tight_layout()\n",
    "plt.show()\n",
    "\n",
    "\n",
    "\n",
    "\n",
    "🧠 Example JSON Format\n",
    "\n",
    "Save this as: ags_032_movie_plot.json\n",
    "\n",
    "[\n",
    "  {\n",
    "    \"id\": \"mp_001\",\n",
    "    \"prompt\": \"A time traveler returns to his hometown and discovers it never existed.\",\n",
    "    \"plot\": \"In the year 2120, Ethan travels back in time to visit his childhood home. But instead of familiar streets, he finds a deserted forest. As he investigates, he learns that his hometown was erased from existence due to a paradox he unknowingly caused.\",\n",
    "    \"reasoning_type\": \"creative narrative imagination\"\n",
    "  },\n",
    "  {\n",
    "    \"id\": \"mp_002\",\n",
    "    \"prompt\": \"Aliens land in New York and offer humans a deal that could change civilization forever.\",\n",
    "    \"plot\": \"A fleet of glowing ships descend over Manhattan. The aliens—tall, crystalline beings—offer humans a gift: access to their knowledge and technology. But the gift comes with a choice: relinquish control over world governments to ensure peace.\",\n",
    "    \"reasoning_type\": \"speculative storytelling\"\n",
    "  }\n",
    "]"
   ]
  }
 ],
 "metadata": {
  "kaggle": {
   "accelerator": "none",
   "dataSources": [],
   "isGpuEnabled": false,
   "isInternetEnabled": true,
   "language": "python",
   "sourceType": "notebook"
  },
  "kernelspec": {
   "display_name": "Python 3",
   "language": "python",
   "name": "python3"
  },
  "language_info": {
   "codemirror_mode": {
    "name": "ipython",
    "version": 3
   },
   "file_extension": ".py",
   "mimetype": "text/x-python",
   "name": "python",
   "nbconvert_exporter": "python",
   "pygments_lexer": "ipython3",
   "version": "3.11.13"
  },
  "papermill": {
   "default_parameters": {},
   "duration": 9.771719,
   "end_time": "2025-07-26T13:08:56.176248",
   "environment_variables": {},
   "exception": true,
   "input_path": "__notebook__.ipynb",
   "output_path": "__notebook__.ipynb",
   "parameters": {},
   "start_time": "2025-07-26T13:08:46.404529",
   "version": "2.6.0"
  }
 },
 "nbformat": 4,
 "nbformat_minor": 5
}
