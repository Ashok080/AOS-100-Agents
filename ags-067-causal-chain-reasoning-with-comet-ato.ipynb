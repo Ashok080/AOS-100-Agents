{
 "cells": [
  {
   "cell_type": "code",
   "execution_count": 1,
   "id": "384e8607",
   "metadata": {
    "_cell_guid": "b1076dfc-b9ad-4769-8c92-a6c4dae69d19",
    "_uuid": "8f2839f25d086af736a60e9eeb907d3b93b6e0e5",
    "execution": {
     "iopub.execute_input": "2025-07-27T04:11:36.635598Z",
     "iopub.status.busy": "2025-07-27T04:11:36.635291Z",
     "iopub.status.idle": "2025-07-27T04:11:38.578827Z",
     "shell.execute_reply": "2025-07-27T04:11:38.577768Z"
    },
    "papermill": {
     "duration": 1.948456,
     "end_time": "2025-07-27T04:11:38.580642",
     "exception": false,
     "start_time": "2025-07-27T04:11:36.632186",
     "status": "completed"
    },
    "tags": []
   },
   "outputs": [],
   "source": [
    "# This Python 3 environment comes with many helpful analytics libraries installed\n",
    "# It is defined by the kaggle/python Docker image: https://github.com/kaggle/docker-python\n",
    "# For example, here's several helpful packages to load\n",
    "\n",
    "import numpy as np # linear algebra\n",
    "import pandas as pd # data processing, CSV file I/O (e.g. pd.read_csv)\n",
    "\n",
    "# Input data files are available in the read-only \"../input/\" directory\n",
    "# For example, running this (by clicking run or pressing Shift+Enter) will list all files under the input directory\n",
    "\n",
    "import os\n",
    "for dirname, _, filenames in os.walk('/kaggle/input'):\n",
    "    for filename in filenames:\n",
    "        print(os.path.join(dirname, filename))\n",
    "\n",
    "# You can write up to 20GB to the current directory (/kaggle/working/) that gets preserved as output when you create a version using \"Save & Run All\" \n",
    "# You can also write temporary files to /kaggle/temp/, but they won't be saved outside of the current session"
   ]
  },
  {
   "cell_type": "code",
   "execution_count": 2,
   "id": "f20464ec",
   "metadata": {
    "execution": {
     "iopub.execute_input": "2025-07-27T04:11:38.585177Z",
     "iopub.status.busy": "2025-07-27T04:11:38.584600Z",
     "iopub.status.idle": "2025-07-27T04:11:38.593178Z",
     "shell.execute_reply": "2025-07-27T04:11:38.592027Z"
    },
    "papermill": {
     "duration": 0.012043,
     "end_time": "2025-07-27T04:11:38.594535",
     "exception": true,
     "start_time": "2025-07-27T04:11:38.582492",
     "status": "failed"
    },
    "tags": []
   },
   "outputs": [
    {
     "ename": "SyntaxError",
     "evalue": "invalid character '📘' (U+1F4D8) (384479152.py, line 28)",
     "output_type": "error",
     "traceback": [
      "\u001b[0;36m  File \u001b[0;32m\"/tmp/ipykernel_13/384479152.py\"\u001b[0;36m, line \u001b[0;32m28\u001b[0m\n\u001b[0;31m    📘 Supported Relations:\u001b[0m\n\u001b[0m    ^\u001b[0m\n\u001b[0;31mSyntaxError\u001b[0m\u001b[0;31m:\u001b[0m invalid character '📘' (U+1F4D8)\n"
     ]
    }
   ],
   "source": [
    "# AGS 067 – Causal Chain Reasoning with COMET and ATOMIC-2020\n",
    "\n",
    "!pip install transformers -q\n",
    "import torch\n",
    "from transformers import AutoTokenizer, AutoModelForSeq2SeqLM\n",
    "\n",
    "# 🧠 Load pre-trained COMET model for commonsense inference\n",
    "model_name = \"allenai/comet-atomic_2020_BART\"\n",
    "tokenizer = AutoTokenizer.from_pretrained(model_name)\n",
    "model = AutoModelForSeq2SeqLM.from_pretrained(model_name)\n",
    "\n",
    "# 🔎 Example event\n",
    "event = \"PersonX hugs PersonY\"\n",
    "relation = \"xIntent\"  # PersonX's intent behind the action\n",
    "\n",
    "# 🔧 Prepare input prompt\n",
    "prompt = f\"{event} <|{relation}|>\"\n",
    "\n",
    "# 🧠 Tokenize and generate\n",
    "inputs = tokenizer(prompt, return_tensors=\"pt\")\n",
    "outputs = model.generate(**inputs, max_new_tokens=20, num_return_sequences=3)\n",
    "\n",
    "print(\"🔍 Commonsense Inferences:\")\n",
    "for i, output in enumerate(outputs):\n",
    "    inference = tokenizer.decode(output, skip_special_tokens=True)\n",
    "    print(f\"{i+1}. {inference}\")\n",
    "\n",
    "📘 Supported Relations:\n",
    "xIntent, xNeed, xEffect, oEffect, xWant, oWant, xReact, oReact, etc.\n",
    "\n",
    "This allows AGS agents to perform causal chain completions, moral reasoning, and emotional predictions from text."
   ]
  }
 ],
 "metadata": {
  "kaggle": {
   "accelerator": "none",
   "dataSources": [],
   "isGpuEnabled": false,
   "isInternetEnabled": true,
   "language": "python",
   "sourceType": "notebook"
  },
  "kernelspec": {
   "display_name": "Python 3",
   "language": "python",
   "name": "python3"
  },
  "language_info": {
   "codemirror_mode": {
    "name": "ipython",
    "version": 3
   },
   "file_extension": ".py",
   "mimetype": "text/x-python",
   "name": "python",
   "nbconvert_exporter": "python",
   "pygments_lexer": "ipython3",
   "version": "3.11.13"
  },
  "papermill": {
   "default_parameters": {},
   "duration": 7.635529,
   "end_time": "2025-07-27T04:11:39.216377",
   "environment_variables": {},
   "exception": true,
   "input_path": "__notebook__.ipynb",
   "output_path": "__notebook__.ipynb",
   "parameters": {},
   "start_time": "2025-07-27T04:11:31.580848",
   "version": "2.6.0"
  }
 },
 "nbformat": 4,
 "nbformat_minor": 5
}
