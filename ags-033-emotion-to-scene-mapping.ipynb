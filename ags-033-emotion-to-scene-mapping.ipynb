{
 "cells": [
  {
   "cell_type": "code",
   "execution_count": 1,
   "id": "2811fcdf",
   "metadata": {
    "_cell_guid": "b1076dfc-b9ad-4769-8c92-a6c4dae69d19",
    "_uuid": "8f2839f25d086af736a60e9eeb907d3b93b6e0e5",
    "execution": {
     "iopub.execute_input": "2025-07-26T13:11:28.916215Z",
     "iopub.status.busy": "2025-07-26T13:11:28.915766Z",
     "iopub.status.idle": "2025-07-26T13:11:30.986022Z",
     "shell.execute_reply": "2025-07-26T13:11:30.985035Z"
    },
    "papermill": {
     "duration": 2.075611,
     "end_time": "2025-07-26T13:11:30.987821",
     "exception": false,
     "start_time": "2025-07-26T13:11:28.912210",
     "status": "completed"
    },
    "tags": []
   },
   "outputs": [],
   "source": [
    "# This Python 3 environment comes with many helpful analytics libraries installed\n",
    "# It is defined by the kaggle/python Docker image: https://github.com/kaggle/docker-python\n",
    "# For example, here's several helpful packages to load\n",
    "\n",
    "import numpy as np # linear algebra\n",
    "import pandas as pd # data processing, CSV file I/O (e.g. pd.read_csv)\n",
    "\n",
    "# Input data files are available in the read-only \"../input/\" directory\n",
    "# For example, running this (by clicking run or pressing Shift+Enter) will list all files under the input directory\n",
    "\n",
    "import os\n",
    "for dirname, _, filenames in os.walk('/kaggle/input'):\n",
    "    for filename in filenames:\n",
    "        print(os.path.join(dirname, filename))\n",
    "\n",
    "# You can write up to 20GB to the current directory (/kaggle/working/) that gets preserved as output when you create a version using \"Save & Run All\" \n",
    "# You can also write temporary files to /kaggle/temp/, but they won't be saved outside of the current session"
   ]
  },
  {
   "cell_type": "code",
   "execution_count": 2,
   "id": "88928262",
   "metadata": {
    "execution": {
     "iopub.execute_input": "2025-07-26T13:11:30.992605Z",
     "iopub.status.busy": "2025-07-26T13:11:30.992197Z",
     "iopub.status.idle": "2025-07-26T13:11:31.000576Z",
     "shell.execute_reply": "2025-07-26T13:11:30.999374Z"
    },
    "papermill": {
     "duration": 0.012397,
     "end_time": "2025-07-26T13:11:31.002101",
     "exception": true,
     "start_time": "2025-07-26T13:11:30.989704",
     "status": "failed"
    },
    "tags": []
   },
   "outputs": [
    {
     "ename": "SyntaxError",
     "evalue": "invalid character '🎭' (U+1F3AD) (3748222211.py, line 17)",
     "output_type": "error",
     "traceback": [
      "\u001b[0;36m  File \u001b[0;32m\"/tmp/ipykernel_13/3748222211.py\"\u001b[0;36m, line \u001b[0;32m17\u001b[0m\n\u001b[0;31m    🎭 Show One Emotion-to-Scene Example\u001b[0m\n\u001b[0m    ^\u001b[0m\n\u001b[0;31mSyntaxError\u001b[0m\u001b[0;31m:\u001b[0m invalid character '🎭' (U+1F3AD)\n"
     ]
    }
   ],
   "source": [
    "# AGS 033 – Emotion-to-Scene Mapping\n",
    "# 🎯 Goal: Link emotional states to visual or narrative scenes\n",
    "\n",
    "import pandas as pd\n",
    "import json\n",
    "\n",
    "# ✅ Load dataset (Upload as ags_033_emotion_to_scene.json)\n",
    "with open('/kaggle/input/ags-033-emotion-to-scene/ags_033_emotion_to_scene.json') as f:\n",
    "    data = json.load(f)\n",
    "\n",
    "df = pd.DataFrame(data)\n",
    "df.head()\n",
    "\n",
    "\n",
    "\n",
    "\n",
    "🎭 Show One Emotion-to-Scene Example\n",
    "\n",
    "sample = df.sample(1).iloc[0]\n",
    "print(\"🧠 Emotion:\", sample[\"emotion\"])\n",
    "print(\"🎬 Scene Description:\", sample[\"scene\"])\n",
    "print(\"🧩 Reasoning Type:\", sample[\"reasoning_type\"])\n",
    "\n",
    "\n",
    "\n",
    "\n",
    "📊 Emotion Frequency Chart\n",
    "\n",
    "import matplotlib.pyplot as plt\n",
    "\n",
    "emotion_counts = df['emotion'].value_counts()\n",
    "emotion_counts.plot(kind='barh', color='purple', figsize=(8,5))\n",
    "plt.title(\"Distribution of Emotions in Dataset\")\n",
    "plt.xlabel(\"Frequency\")\n",
    "plt.ylabel(\"Emotion\")\n",
    "plt.grid(True)\n",
    "plt.tight_layout()\n",
    "plt.show()\n",
    "\n",
    "\n",
    "\n",
    "\n",
    "🧠 Example JSON Format\n",
    "\n",
    "Save this as: ags_033_emotion_to_scene.json\n",
    "\n",
    "[\n",
    "  {\n",
    "    \"id\": \"es_001\",\n",
    "    \"emotion\": \"Hope\",\n",
    "    \"scene\": \"A child planting a tree in a desolate field while the sun rises behind her.\",\n",
    "    \"reasoning_type\": \"emotional scene mapping\"\n",
    "  },\n",
    "  {\n",
    "    \"id\": \"es_002\",\n",
    "    \"emotion\": \"Fear\",\n",
    "    \"scene\": \"A man walking alone in a forest as he hears footsteps behind him but sees no one.\",\n",
    "    \"reasoning_type\": \"emotional scene mapping\"\n",
    "  }\n",
    "]"
   ]
  }
 ],
 "metadata": {
  "kaggle": {
   "accelerator": "none",
   "dataSources": [],
   "isGpuEnabled": false,
   "isInternetEnabled": true,
   "language": "python",
   "sourceType": "notebook"
  },
  "kernelspec": {
   "display_name": "Python 3",
   "language": "python",
   "name": "python3"
  },
  "language_info": {
   "codemirror_mode": {
    "name": "ipython",
    "version": 3
   },
   "file_extension": ".py",
   "mimetype": "text/x-python",
   "name": "python",
   "nbconvert_exporter": "python",
   "pygments_lexer": "ipython3",
   "version": "3.11.13"
  },
  "papermill": {
   "default_parameters": {},
   "duration": 7.778541,
   "end_time": "2025-07-26T13:11:31.523745",
   "environment_variables": {},
   "exception": true,
   "input_path": "__notebook__.ipynb",
   "output_path": "__notebook__.ipynb",
   "parameters": {},
   "start_time": "2025-07-26T13:11:23.745204",
   "version": "2.6.0"
  }
 },
 "nbformat": 4,
 "nbformat_minor": 5
}
