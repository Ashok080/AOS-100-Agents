{
 "cells": [
  {
   "cell_type": "code",
   "execution_count": 1,
   "id": "678c7ae2",
   "metadata": {
    "_cell_guid": "b1076dfc-b9ad-4769-8c92-a6c4dae69d19",
    "_uuid": "8f2839f25d086af736a60e9eeb907d3b93b6e0e5",
    "execution": {
     "iopub.execute_input": "2025-07-26T12:15:57.297930Z",
     "iopub.status.busy": "2025-07-26T12:15:57.297590Z",
     "iopub.status.idle": "2025-07-26T12:15:59.142270Z",
     "shell.execute_reply": "2025-07-26T12:15:59.141358Z"
    },
    "papermill": {
     "duration": 1.849694,
     "end_time": "2025-07-26T12:15:59.144129",
     "exception": false,
     "start_time": "2025-07-26T12:15:57.294435",
     "status": "completed"
    },
    "tags": []
   },
   "outputs": [],
   "source": [
    "# This Python 3 environment comes with many helpful analytics libraries installed\n",
    "# It is defined by the kaggle/python Docker image: https://github.com/kaggle/docker-python\n",
    "# For example, here's several helpful packages to load\n",
    "\n",
    "import numpy as np # linear algebra\n",
    "import pandas as pd # data processing, CSV file I/O (e.g. pd.read_csv)\n",
    "\n",
    "# Input data files are available in the read-only \"../input/\" directory\n",
    "# For example, running this (by clicking run or pressing Shift+Enter) will list all files under the input directory\n",
    "\n",
    "import os\n",
    "for dirname, _, filenames in os.walk('/kaggle/input'):\n",
    "    for filename in filenames:\n",
    "        print(os.path.join(dirname, filename))\n",
    "\n",
    "# You can write up to 20GB to the current directory (/kaggle/working/) that gets preserved as output when you create a version using \"Save & Run All\" \n",
    "# You can also write temporary files to /kaggle/temp/, but they won't be saved outside of the current session"
   ]
  },
  {
   "cell_type": "code",
   "execution_count": 2,
   "id": "52ea5e0a",
   "metadata": {
    "execution": {
     "iopub.execute_input": "2025-07-26T12:15:59.148674Z",
     "iopub.status.busy": "2025-07-26T12:15:59.148297Z",
     "iopub.status.idle": "2025-07-26T12:15:59.157258Z",
     "shell.execute_reply": "2025-07-26T12:15:59.156154Z"
    },
    "papermill": {
     "duration": 0.012681,
     "end_time": "2025-07-26T12:15:59.158636",
     "exception": true,
     "start_time": "2025-07-26T12:15:59.145955",
     "status": "failed"
    },
    "tags": []
   },
   "outputs": [
    {
     "ename": "SyntaxError",
     "evalue": "invalid character '🔄' (U+1F504) (2752118109.py, line 19)",
     "output_type": "error",
     "traceback": [
      "\u001b[0;36m  File \u001b[0;32m\"/tmp/ipykernel_13/2752118109.py\"\u001b[0;36m, line \u001b[0;32m19\u001b[0m\n\u001b[0;31m    🔄 View a Sample Regulation Scenario\u001b[0m\n\u001b[0m    ^\u001b[0m\n\u001b[0;31mSyntaxError\u001b[0m\u001b[0;31m:\u001b[0m invalid character '🔄' (U+1F504)\n"
     ]
    }
   ],
   "source": [
    "# AGS 017 – Self-Regulation Scenarios\n",
    "# 🎯 Goal: Teach AGS how people manage emotions and behaviors in challenging situations\n",
    "\n",
    "import pandas as pd\n",
    "import matplotlib.pyplot as plt\n",
    "import seaborn as sns\n",
    "import json\n",
    "\n",
    "# ✅ Load dataset (upload to Kaggle as ags_017_self_regulation.json)\n",
    "with open('/kaggle/input/ags-017-self-regulation/ags_017_self_regulation.json', 'r') as f:\n",
    "    data = json.load(f)\n",
    "\n",
    "df = pd.DataFrame(data)\n",
    "df.head()\n",
    "\n",
    "\n",
    "\n",
    "\n",
    "🔄 View a Sample Regulation Scenario\n",
    "\n",
    "sample = df.sample(1).iloc[0]\n",
    "\n",
    "print(\"📍 Scenario:\", sample['scenario'])\n",
    "print(\"🔴 Trigger:\", sample['trigger'])\n",
    "print(\"🧠 Response Strategy:\", sample['strategy'])\n",
    "print(\"✅ Outcome:\", sample['outcome'])\n",
    "print(\"AGS Self-Regulation Insight:\", sample['ags_reasoning'])\n",
    "\n",
    "\n",
    "\n",
    "\n",
    "📊 Strategy Frequency Chart\n",
    "\n",
    "plt.figure(figsize=(10,6))\n",
    "sns.countplot(data=df, y='strategy', order=df['strategy'].value_counts().index, palette='coolwarm')\n",
    "plt.title(\"Most Used Self-Regulation Strategies\")\n",
    "plt.xlabel(\"Count\")\n",
    "plt.ylabel(\"Strategy\")\n",
    "plt.tight_layout()\n",
    "plt.show()\n",
    "\n",
    "\n",
    "\n",
    "\n",
    "✅ Summary\n",
    "\n",
    "- Scenarios show how to calm down, reframe thoughts, or make better choices\n",
    "- Great for emotional control, patience, and thoughtful reactions\n",
    "\n",
    "\n",
    "\n",
    "\n",
    "📁 Sample JSON Data\n",
    "\n",
    "Save as: ags_017_self_regulation.json\n",
    "\n",
    "[\n",
    "  {\n",
    "    \"id\": \"sr_001\",\n",
    "    \"scenario\": \"Student failed a math test\",\n",
    "    \"trigger\": \"Feeling like a failure\",\n",
    "    \"strategy\": \"Positive self-talk\",\n",
    "    \"outcome\": \"Tried again and improved on the next test\",\n",
    "    \"ags_reasoning\": \"The student reframed the failure as a chance to learn, which motivated future effort.\"\n",
    "  },\n",
    "  {\n",
    "    \"id\": \"sr_002\",\n",
    "    \"scenario\": \"Angry during a game\",\n",
    "    \"trigger\": \"Lost a point due to teammate's mistake\",\n",
    "    \"strategy\": \"Deep breathing\",\n",
    "    \"outcome\": \"Stayed calm and continued playing well\",\n",
    "    \"ags_reasoning\": \"By calming down, the player avoided blaming others and focused on the team's performance.\"\n",
    "  }\n",
    "]"
   ]
  }
 ],
 "metadata": {
  "kaggle": {
   "accelerator": "none",
   "dataSources": [],
   "isGpuEnabled": false,
   "isInternetEnabled": true,
   "language": "python",
   "sourceType": "notebook"
  },
  "kernelspec": {
   "display_name": "Python 3",
   "language": "python",
   "name": "python3"
  },
  "language_info": {
   "codemirror_mode": {
    "name": "ipython",
    "version": 3
   },
   "file_extension": ".py",
   "mimetype": "text/x-python",
   "name": "python",
   "nbconvert_exporter": "python",
   "pygments_lexer": "ipython3",
   "version": "3.11.13"
  },
  "papermill": {
   "default_parameters": {},
   "duration": 7.293024,
   "end_time": "2025-07-26T12:15:59.679456",
   "environment_variables": {},
   "exception": true,
   "input_path": "__notebook__.ipynb",
   "output_path": "__notebook__.ipynb",
   "parameters": {},
   "start_time": "2025-07-26T12:15:52.386432",
   "version": "2.6.0"
  }
 },
 "nbformat": 4,
 "nbformat_minor": 5
}
