{
 "cells": [
  {
   "cell_type": "code",
   "execution_count": 1,
   "id": "05df352c",
   "metadata": {
    "_cell_guid": "b1076dfc-b9ad-4769-8c92-a6c4dae69d19",
    "_uuid": "8f2839f25d086af736a60e9eeb907d3b93b6e0e5",
    "execution": {
     "iopub.execute_input": "2025-07-26T12:21:24.407969Z",
     "iopub.status.busy": "2025-07-26T12:21:24.407662Z",
     "iopub.status.idle": "2025-07-26T12:21:26.491189Z",
     "shell.execute_reply": "2025-07-26T12:21:26.489954Z"
    },
    "papermill": {
     "duration": 2.089041,
     "end_time": "2025-07-26T12:21:26.493247",
     "exception": false,
     "start_time": "2025-07-26T12:21:24.404206",
     "status": "completed"
    },
    "tags": []
   },
   "outputs": [],
   "source": [
    "# This Python 3 environment comes with many helpful analytics libraries installed\n",
    "# It is defined by the kaggle/python Docker image: https://github.com/kaggle/docker-python\n",
    "# For example, here's several helpful packages to load\n",
    "\n",
    "import numpy as np # linear algebra\n",
    "import pandas as pd # data processing, CSV file I/O (e.g. pd.read_csv)\n",
    "\n",
    "# Input data files are available in the read-only \"../input/\" directory\n",
    "# For example, running this (by clicking run or pressing Shift+Enter) will list all files under the input directory\n",
    "\n",
    "import os\n",
    "for dirname, _, filenames in os.walk('/kaggle/input'):\n",
    "    for filename in filenames:\n",
    "        print(os.path.join(dirname, filename))\n",
    "\n",
    "# You can write up to 20GB to the current directory (/kaggle/working/) that gets preserved as output when you create a version using \"Save & Run All\" \n",
    "# You can also write temporary files to /kaggle/temp/, but they won't be saved outside of the current session"
   ]
  },
  {
   "cell_type": "code",
   "execution_count": 2,
   "id": "e7e8b4b8",
   "metadata": {
    "execution": {
     "iopub.execute_input": "2025-07-26T12:21:26.498236Z",
     "iopub.status.busy": "2025-07-26T12:21:26.497783Z",
     "iopub.status.idle": "2025-07-26T12:21:26.507566Z",
     "shell.execute_reply": "2025-07-26T12:21:26.506335Z"
    },
    "papermill": {
     "duration": 0.014139,
     "end_time": "2025-07-26T12:21:26.509463",
     "exception": true,
     "start_time": "2025-07-26T12:21:26.495324",
     "status": "failed"
    },
    "tags": []
   },
   "outputs": [
    {
     "ename": "SyntaxError",
     "evalue": "invalid character '🧠' (U+1F9E0) (4053517605.py, line 19)",
     "output_type": "error",
     "traceback": [
      "\u001b[0;36m  File \u001b[0;32m\"/tmp/ipykernel_13/4053517605.py\"\u001b[0;36m, line \u001b[0;32m19\u001b[0m\n\u001b[0;31m    🧠 Random Curiosity Prompt\u001b[0m\n\u001b[0m    ^\u001b[0m\n\u001b[0;31mSyntaxError\u001b[0m\u001b[0;31m:\u001b[0m invalid character '🧠' (U+1F9E0)\n"
     ]
    }
   ],
   "source": [
    "# AGS 019 – Curiosity and Exploration Dataset\n",
    "# 🎯 Goal: Stimulate AGS to ask questions and explore unknowns like a child or scientist\n",
    "\n",
    "import pandas as pd\n",
    "import matplotlib.pyplot as plt\n",
    "import seaborn as sns\n",
    "import json\n",
    "\n",
    "# ✅ Load dataset (upload to Kaggle as ags_019_curiosity_dataset.json)\n",
    "with open('/kaggle/input/ags-019-curiosity-dataset/ags_019_curiosity_dataset.json', 'r') as f:\n",
    "    data = json.load(f)\n",
    "\n",
    "df = pd.DataFrame(data)\n",
    "df.head()\n",
    "\n",
    "\n",
    "\n",
    "\n",
    "🧠 Random Curiosity Prompt\n",
    "\n",
    "sample = df.sample(1).iloc[0]\n",
    "\n",
    "print(\"🌀 Trigger:\", sample['situation'])\n",
    "print(\"❓ Curious Question:\", sample['question'])\n",
    "print(\"🤖 AGS Insight:\", sample['ags_reasoning'])\n",
    "\n",
    "\n",
    "\n",
    "\n",
    "📊 Topic Distribution\n",
    "\n",
    "plt.figure(figsize=(10,6))\n",
    "sns.countplot(data=df, y='topic', order=df['topic'].value_counts().index, palette='coolwarm')\n",
    "plt.title(\"Types of Curiosity Topics\")\n",
    "plt.xlabel(\"Count\")\n",
    "plt.ylabel(\"Topic\")\n",
    "plt.tight_layout()\n",
    "plt.show()\n",
    "\n",
    "\n",
    "\n",
    "\n",
    "✅ Summary\n",
    "\n",
    "- Helps AGS think in an open-ended, wonder-based way\n",
    "- Useful for AI tutors, exploratory agents, and children's companions\n",
    "\n",
    "\n",
    "\n",
    "\n",
    "📁 Sample JSON Data\n",
    "\n",
    "Save as: ags_019_curiosity_dataset.json\n",
    "\n",
    "[\n",
    "  {\n",
    "    \"id\": \"cu_001\",\n",
    "    \"topic\": \"Nature\",\n",
    "    \"situation\": \"Looking at a mushroom in the forest\",\n",
    "    \"question\": \"Why do some mushrooms glow in the dark?\",\n",
    "    \"ags_reasoning\": \"It encourages exploration of bioluminescence and nature's mysteries.\"\n",
    "  },\n",
    "  {\n",
    "    \"id\": \"cu_002\",\n",
    "    \"topic\": \"Space\",\n",
    "    \"situation\": \"Watching the stars at night\",\n",
    "    \"question\": \"How many galaxies are out there?\",\n",
    "    \"ags_reasoning\": \"It opens up thinking about the scale of the universe and scientific discovery.\"\n",
    "  }\n",
    "]"
   ]
  }
 ],
 "metadata": {
  "kaggle": {
   "accelerator": "none",
   "dataSources": [],
   "isGpuEnabled": false,
   "isInternetEnabled": true,
   "language": "python",
   "sourceType": "notebook"
  },
  "kernelspec": {
   "display_name": "Python 3",
   "language": "python",
   "name": "python3"
  },
  "language_info": {
   "codemirror_mode": {
    "name": "ipython",
    "version": 3
   },
   "file_extension": ".py",
   "mimetype": "text/x-python",
   "name": "python",
   "nbconvert_exporter": "python",
   "pygments_lexer": "ipython3",
   "version": "3.11.13"
  },
  "papermill": {
   "default_parameters": {},
   "duration": 7.86046,
   "end_time": "2025-07-26T12:21:27.131699",
   "environment_variables": {},
   "exception": true,
   "input_path": "__notebook__.ipynb",
   "output_path": "__notebook__.ipynb",
   "parameters": {},
   "start_time": "2025-07-26T12:21:19.271239",
   "version": "2.6.0"
  }
 },
 "nbformat": 4,
 "nbformat_minor": 5
}
