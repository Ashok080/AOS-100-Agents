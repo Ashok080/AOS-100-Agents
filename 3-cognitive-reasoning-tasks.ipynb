{
 "cells": [
  {
   "cell_type": "markdown",
   "id": "f08fd620",
   "metadata": {},
   "source": [
    "# Cognitive & Reasoning Tasks Notebook\n",
    "\n",
    "Dataset: ProofWriter"
   ]
  },
  {
   "cell_type": "code",
   "execution_count": null,
   "id": "3bf5a376",
   "metadata": {},
   "outputs": [],
   "source": [
    "\n",
    "import json\n",
    "\n",
    "# Load ProofWriter Dataset\n",
    "with open('/kaggle/input/proofwriter-dataset/Depth-5/train.json') as f:\n",
    "    data = json.load(f)\n",
    "\n",
    "# Display an example reasoning task\n",
    "example = data[0]\n",
    "print(\"Context:\", example['context'])\n",
    "print(\"Question:\", example['question'])\n",
    "print(\"Answer:\", example['answer'])\n",
    "    "
   ]
  },
  {
   "cell_type": "markdown",
   "id": "3a8b3646",
   "metadata": {},
   "source": [
    "You can extend this notebook with chain-of-thought prompting using GPT models for logical reasoning."
   ]
  }
 ],
 "metadata": {},
 "nbformat": 4,
 "nbformat_minor": 5
}
