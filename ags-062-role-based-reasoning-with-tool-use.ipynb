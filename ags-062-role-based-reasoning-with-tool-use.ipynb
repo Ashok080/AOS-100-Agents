{
 "cells": [
  {
   "cell_type": "code",
   "execution_count": 1,
   "id": "4e0f74ba",
   "metadata": {
    "_cell_guid": "b1076dfc-b9ad-4769-8c92-a6c4dae69d19",
    "_uuid": "8f2839f25d086af736a60e9eeb907d3b93b6e0e5",
    "execution": {
     "iopub.execute_input": "2025-07-27T03:55:52.383950Z",
     "iopub.status.busy": "2025-07-27T03:55:52.383643Z",
     "iopub.status.idle": "2025-07-27T03:55:54.135454Z",
     "shell.execute_reply": "2025-07-27T03:55:54.134634Z"
    },
    "papermill": {
     "duration": 1.756363,
     "end_time": "2025-07-27T03:55:54.137075",
     "exception": false,
     "start_time": "2025-07-27T03:55:52.380712",
     "status": "completed"
    },
    "tags": []
   },
   "outputs": [],
   "source": [
    "# This Python 3 environment comes with many helpful analytics libraries installed\n",
    "# It is defined by the kaggle/python Docker image: https://github.com/kaggle/docker-python\n",
    "# For example, here's several helpful packages to load\n",
    "\n",
    "import numpy as np # linear algebra\n",
    "import pandas as pd # data processing, CSV file I/O (e.g. pd.read_csv)\n",
    "\n",
    "# Input data files are available in the read-only \"../input/\" directory\n",
    "# For example, running this (by clicking run or pressing Shift+Enter) will list all files under the input directory\n",
    "\n",
    "import os\n",
    "for dirname, _, filenames in os.walk('/kaggle/input'):\n",
    "    for filename in filenames:\n",
    "        print(os.path.join(dirname, filename))\n",
    "\n",
    "# You can write up to 20GB to the current directory (/kaggle/working/) that gets preserved as output when you create a version using \"Save & Run All\" \n",
    "# You can also write temporary files to /kaggle/temp/, but they won't be saved outside of the current session"
   ]
  },
  {
   "cell_type": "code",
   "execution_count": 2,
   "id": "544645be",
   "metadata": {
    "execution": {
     "iopub.execute_input": "2025-07-27T03:55:54.141748Z",
     "iopub.status.busy": "2025-07-27T03:55:54.141157Z",
     "iopub.status.idle": "2025-07-27T03:55:54.150665Z",
     "shell.execute_reply": "2025-07-27T03:55:54.149637Z"
    },
    "papermill": {
     "duration": 0.012964,
     "end_time": "2025-07-27T03:55:54.151838",
     "exception": true,
     "start_time": "2025-07-27T03:55:54.138874",
     "status": "failed"
    },
    "tags": []
   },
   "outputs": [
    {
     "ename": "SyntaxError",
     "evalue": "invalid character '🧠' (U+1F9E0) (1808220483.py, line 62)",
     "output_type": "error",
     "traceback": [
      "\u001b[0;36m  File \u001b[0;32m\"/tmp/ipykernel_13/1808220483.py\"\u001b[0;36m, line \u001b[0;32m62\u001b[0m\n\u001b[0;31m    🧠 Sample Output\u001b[0m\n\u001b[0m    ^\u001b[0m\n\u001b[0;31mSyntaxError\u001b[0m\u001b[0;31m:\u001b[0m invalid character '🧠' (U+1F9E0)\n"
     ]
    }
   ],
   "source": [
    "# AGS 062 – Role-Based Reasoning with Tool Use\n",
    "\n",
    "import datetime\n",
    "import math\n",
    "import openai\n",
    "\n",
    "openai.api_key = \"sk-...\"  # 🔐 Replace with your API key\n",
    "\n",
    "# Step 1 – Define Tool Functions\n",
    "\n",
    "def calculator_tool(expression):\n",
    "    try:\n",
    "        return eval(expression)\n",
    "    except Exception as e:\n",
    "        return f\"Error: {e}\"\n",
    "\n",
    "def current_time_tool():\n",
    "    return datetime.datetime.now().strftime(\"%Y-%m-%d %H:%M:%S\")\n",
    "\n",
    "# Step 2 – Role Reasoning with Tool Hints\n",
    "\n",
    "def ags_role_response(role, task):\n",
    "    system_prompt = f\"\"\"\n",
    "You are a helpful AI agent acting as a {role}. \n",
    "Use tools like calculator or clock if needed.\n",
    "Always explain steps.\n",
    "\"\"\"\n",
    "    user_prompt = f\"Task: {task}\"\n",
    "    \n",
    "    messages = [\n",
    "        {\"role\": \"system\", \"content\": system_prompt},\n",
    "        {\"role\": \"user\", \"content\": user_prompt}\n",
    "    ]\n",
    "\n",
    "    response = openai.ChatCompletion.create(\n",
    "        model=\"gpt-4\",\n",
    "        messages=messages,\n",
    "        temperature=0.3,\n",
    "        max_tokens=300\n",
    "    )\n",
    "\n",
    "    return response['choices'][0]['message']['content'].strip()\n",
    "\n",
    "# Step 3 – Example Tasks\n",
    "\n",
    "tasks = [\n",
    "    (\"Teacher\", \"What is 45 * 12 + 36? Use calculator.\"),\n",
    "    (\"Assistant\", \"What is the current date and time?\"),\n",
    "    (\"Banker\", \"If I have 100 USD, how much is that in INR if 1 USD = 83 INR?\"),\n",
    "]\n",
    "\n",
    "# Step 4 – Run AGS Responses\n",
    "\n",
    "for role, task in tasks:\n",
    "    print(f\"\\n🧑‍💼 Role: {role}\\n📝 Task: {task}\")\n",
    "    reply = ags_role_response(role, task)\n",
    "    print(\"🤖 AGS Response:\\n\", reply)\n",
    "\n",
    "\n",
    "\n",
    "\n",
    "🧠 Sample Output\n",
    "\n",
    "🧑‍💼 Role: Teacher  \n",
    "📝 Task: What is 45 * 12 + 36?  \n",
    "🤖 AGS Response:  \n",
    "Let's use the calculator.  \n",
    "45 * 12 = 540. Then add 36.  \n",
    "540 + 36 = 576.  \n",
    "Answer: 576.\n",
    "\n",
    "🧑‍💼 Role: Assistant  \n",
    "📝 Task: What is the current date and time?  \n",
    "🤖 AGS Response:  \n",
    "The current date and time is 2025-07-26 09:33:14.\n",
    "\n",
    "🧑‍💼 Role: Banker  \n",
    "📝 Task: If I have 100 USD, how much is that in INR if 1 USD = 83 INR?  \n",
    "🤖 AGS Response:  \n",
    "100 * 83 = 8300 INR.  \n",
    "You will receive ₹8300."
   ]
  }
 ],
 "metadata": {
  "kaggle": {
   "accelerator": "none",
   "dataSources": [],
   "isGpuEnabled": false,
   "isInternetEnabled": true,
   "language": "python",
   "sourceType": "notebook"
  },
  "kernelspec": {
   "display_name": "Python 3",
   "language": "python",
   "name": "python3"
  },
  "language_info": {
   "codemirror_mode": {
    "name": "ipython",
    "version": 3
   },
   "file_extension": ".py",
   "mimetype": "text/x-python",
   "name": "python",
   "nbconvert_exporter": "python",
   "pygments_lexer": "ipython3",
   "version": "3.11.13"
  },
  "papermill": {
   "default_parameters": {},
   "duration": 6.756999,
   "end_time": "2025-07-27T03:55:54.672557",
   "environment_variables": {},
   "exception": true,
   "input_path": "__notebook__.ipynb",
   "output_path": "__notebook__.ipynb",
   "parameters": {},
   "start_time": "2025-07-27T03:55:47.915558",
   "version": "2.6.0"
  }
 },
 "nbformat": 4,
 "nbformat_minor": 5
}
