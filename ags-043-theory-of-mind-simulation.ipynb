{
 "cells": [
  {
   "cell_type": "code",
   "execution_count": 1,
   "id": "88a6e24a",
   "metadata": {
    "_cell_guid": "b1076dfc-b9ad-4769-8c92-a6c4dae69d19",
    "_uuid": "8f2839f25d086af736a60e9eeb907d3b93b6e0e5",
    "execution": {
     "iopub.execute_input": "2025-07-26T14:59:05.892207Z",
     "iopub.status.busy": "2025-07-26T14:59:05.891794Z",
     "iopub.status.idle": "2025-07-26T14:59:08.117907Z",
     "shell.execute_reply": "2025-07-26T14:59:08.116963Z"
    },
    "papermill": {
     "duration": 2.231664,
     "end_time": "2025-07-26T14:59:08.119697",
     "exception": false,
     "start_time": "2025-07-26T14:59:05.888033",
     "status": "completed"
    },
    "tags": []
   },
   "outputs": [],
   "source": [
    "# This Python 3 environment comes with many helpful analytics libraries installed\n",
    "# It is defined by the kaggle/python Docker image: https://github.com/kaggle/docker-python\n",
    "# For example, here's several helpful packages to load\n",
    "\n",
    "import numpy as np # linear algebra\n",
    "import pandas as pd # data processing, CSV file I/O (e.g. pd.read_csv)\n",
    "\n",
    "# Input data files are available in the read-only \"../input/\" directory\n",
    "# For example, running this (by clicking run or pressing Shift+Enter) will list all files under the input directory\n",
    "\n",
    "import os\n",
    "for dirname, _, filenames in os.walk('/kaggle/input'):\n",
    "    for filename in filenames:\n",
    "        print(os.path.join(dirname, filename))\n",
    "\n",
    "# You can write up to 20GB to the current directory (/kaggle/working/) that gets preserved as output when you create a version using \"Save & Run All\" \n",
    "# You can also write temporary files to /kaggle/temp/, but they won't be saved outside of the current session"
   ]
  },
  {
   "cell_type": "code",
   "execution_count": 2,
   "id": "13f3264e",
   "metadata": {
    "execution": {
     "iopub.execute_input": "2025-07-26T14:59:08.124457Z",
     "iopub.status.busy": "2025-07-26T14:59:08.124019Z",
     "iopub.status.idle": "2025-07-26T14:59:08.223542Z",
     "shell.execute_reply": "2025-07-26T14:59:08.222250Z"
    },
    "papermill": {
     "duration": 0.103731,
     "end_time": "2025-07-26T14:59:08.225304",
     "exception": true,
     "start_time": "2025-07-26T14:59:08.121573",
     "status": "failed"
    },
    "tags": []
   },
   "outputs": [
    {
     "ename": "ModuleNotFoundError",
     "evalue": "No module named 'AGS'",
     "output_type": "error",
     "traceback": [
      "\u001b[0;31m---------------------------------------------------------------------------\u001b[0m",
      "\u001b[0;31mModuleNotFoundError\u001b[0m                       Traceback (most recent call last)",
      "\u001b[0;32m/tmp/ipykernel_13/2484305187.py\u001b[0m in \u001b[0;36m<cell line: 0>\u001b[0;34m()\u001b[0m\n\u001b[1;32m     17\u001b[0m \"\"\"\n\u001b[1;32m     18\u001b[0m \u001b[0;34m\u001b[0m\u001b[0m\n\u001b[0;32m---> 19\u001b[0;31m \u001b[0;32mfrom\u001b[0m \u001b[0mAGS\u001b[0m\u001b[0;34m.\u001b[0m\u001b[0mreasoning\u001b[0m \u001b[0;32mimport\u001b[0m \u001b[0mTheoryOfMindSimulator\u001b[0m\u001b[0;34m\u001b[0m\u001b[0;34m\u001b[0m\u001b[0m\n\u001b[0m\u001b[1;32m     20\u001b[0m \u001b[0;32mfrom\u001b[0m \u001b[0mAGS\u001b[0m\u001b[0;34m.\u001b[0m\u001b[0mmemory\u001b[0m \u001b[0;32mimport\u001b[0m \u001b[0mEpisodicMemory\u001b[0m\u001b[0;34m\u001b[0m\u001b[0;34m\u001b[0m\u001b[0m\n\u001b[1;32m     21\u001b[0m \u001b[0;32mfrom\u001b[0m \u001b[0mAGS\u001b[0m\u001b[0;34m.\u001b[0m\u001b[0mconfig\u001b[0m \u001b[0;32mimport\u001b[0m \u001b[0mAGSConfig\u001b[0m\u001b[0;34m\u001b[0m\u001b[0;34m\u001b[0m\u001b[0m\n",
      "\u001b[0;31mModuleNotFoundError\u001b[0m: No module named 'AGS'"
     ]
    }
   ],
   "source": [
    "# AGS 043 – Theory of Mind Simulation\n",
    "\n",
    "\"\"\"\n",
    "This notebook simulates an AGS model's ability to understand and model another agent's beliefs,\n",
    "desires, and intentions—often referred to as \"Theory of Mind\" (ToM).\n",
    "\n",
    "Use Case:\n",
    "- Understanding that another person can hold a false belief.\n",
    "- Predicting behavior based on beliefs, not just facts.\n",
    "\n",
    "Dataset Format:\n",
    "{\n",
    "  \"situation\": \"Anna places a toy in the blue box and leaves. Ben moves it to the red box.\",\n",
    "  \"question\": \"Where will Anna look for the toy?\",\n",
    "  \"correct_answer\": \"blue box\"\n",
    "}\n",
    "\"\"\"\n",
    "\n",
    "from AGS.reasoning import TheoryOfMindSimulator\n",
    "from AGS.memory import EpisodicMemory\n",
    "from AGS.config import AGSConfig\n",
    "\n",
    "# Setup\n",
    "config = AGSConfig()\n",
    "memory = EpisodicMemory()\n",
    "ToM = TheoryOfMindSimulator(memory=memory)\n",
    "\n",
    "# Sample scenario\n",
    "scenario = {\n",
    "    \"characters\": [\"Anna\", \"Ben\"],\n",
    "    \"events\": [\n",
    "        \"Anna places toy in blue box.\",\n",
    "        \"Anna leaves the room.\",\n",
    "        \"Ben moves toy to red box.\"\n",
    "    ],\n",
    "    \"question\": \"Where will Anna look for the toy?\"\n",
    "}\n",
    "\n",
    "# Model inference\n",
    "output = ToM.simulate_agent_belief(scenario)\n",
    "print(\"Predicted Answer:\", output)"
   ]
  }
 ],
 "metadata": {
  "kaggle": {
   "accelerator": "none",
   "dataSources": [],
   "isGpuEnabled": false,
   "isInternetEnabled": true,
   "language": "python",
   "sourceType": "notebook"
  },
  "kernelspec": {
   "display_name": "Python 3",
   "language": "python",
   "name": "python3"
  },
  "language_info": {
   "codemirror_mode": {
    "name": "ipython",
    "version": 3
   },
   "file_extension": ".py",
   "mimetype": "text/x-python",
   "name": "python",
   "nbconvert_exporter": "python",
   "pygments_lexer": "ipython3",
   "version": "3.11.13"
  },
  "papermill": {
   "default_parameters": {},
   "duration": 8.283876,
   "end_time": "2025-07-26T14:59:08.848262",
   "environment_variables": {},
   "exception": true,
   "input_path": "__notebook__.ipynb",
   "output_path": "__notebook__.ipynb",
   "parameters": {},
   "start_time": "2025-07-26T14:59:00.564386",
   "version": "2.6.0"
  }
 },
 "nbformat": 4,
 "nbformat_minor": 5
}
