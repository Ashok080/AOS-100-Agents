{
 "cells": [
  {
   "cell_type": "code",
   "execution_count": 1,
   "id": "1e0fa259",
   "metadata": {
    "_cell_guid": "b1076dfc-b9ad-4769-8c92-a6c4dae69d19",
    "_uuid": "8f2839f25d086af736a60e9eeb907d3b93b6e0e5",
    "execution": {
     "iopub.execute_input": "2025-07-26T12:18:44.083943Z",
     "iopub.status.busy": "2025-07-26T12:18:44.083636Z",
     "iopub.status.idle": "2025-07-26T12:18:46.056886Z",
     "shell.execute_reply": "2025-07-26T12:18:46.055851Z"
    },
    "papermill": {
     "duration": 1.978128,
     "end_time": "2025-07-26T12:18:46.058690",
     "exception": false,
     "start_time": "2025-07-26T12:18:44.080562",
     "status": "completed"
    },
    "tags": []
   },
   "outputs": [],
   "source": [
    "# This Python 3 environment comes with many helpful analytics libraries installed\n",
    "# It is defined by the kaggle/python Docker image: https://github.com/kaggle/docker-python\n",
    "# For example, here's several helpful packages to load\n",
    "\n",
    "import numpy as np # linear algebra\n",
    "import pandas as pd # data processing, CSV file I/O (e.g. pd.read_csv)\n",
    "\n",
    "# Input data files are available in the read-only \"../input/\" directory\n",
    "# For example, running this (by clicking run or pressing Shift+Enter) will list all files under the input directory\n",
    "\n",
    "import os\n",
    "for dirname, _, filenames in os.walk('/kaggle/input'):\n",
    "    for filename in filenames:\n",
    "        print(os.path.join(dirname, filename))\n",
    "\n",
    "# You can write up to 20GB to the current directory (/kaggle/working/) that gets preserved as output when you create a version using \"Save & Run All\" \n",
    "# You can also write temporary files to /kaggle/temp/, but they won't be saved outside of the current session"
   ]
  },
  {
   "cell_type": "code",
   "execution_count": 2,
   "id": "b22fe0fc",
   "metadata": {
    "execution": {
     "iopub.execute_input": "2025-07-26T12:18:46.063863Z",
     "iopub.status.busy": "2025-07-26T12:18:46.063420Z",
     "iopub.status.idle": "2025-07-26T12:18:46.074588Z",
     "shell.execute_reply": "2025-07-26T12:18:46.073071Z"
    },
    "papermill": {
     "duration": 0.015268,
     "end_time": "2025-07-26T12:18:46.076120",
     "exception": true,
     "start_time": "2025-07-26T12:18:46.060852",
     "status": "failed"
    },
    "tags": []
   },
   "outputs": [
    {
     "ename": "SyntaxError",
     "evalue": "invalid character '🧠' (U+1F9E0) (2385280720.py, line 19)",
     "output_type": "error",
     "traceback": [
      "\u001b[0;36m  File \u001b[0;32m\"/tmp/ipykernel_13/2385280720.py\"\u001b[0;36m, line \u001b[0;32m19\u001b[0m\n\u001b[0;31m    🧠 Empathy Example\u001b[0m\n\u001b[0m    ^\u001b[0m\n\u001b[0;31mSyntaxError\u001b[0m\u001b[0;31m:\u001b[0m invalid character '🧠' (U+1F9E0)\n"
     ]
    }
   ],
   "source": [
    "# AGS 018 – Empathy Building Examples\n",
    "# 🎯 Goal: Train AGS to understand and express empathy in various social contexts\n",
    "\n",
    "import pandas as pd\n",
    "import matplotlib.pyplot as plt\n",
    "import seaborn as sns\n",
    "import json\n",
    "\n",
    "# ✅ Load dataset (upload to Kaggle as ags_018_empathy_examples.json)\n",
    "with open('/kaggle/input/ags-018-empathy-examples/ags_018_empathy_examples.json', 'r') as f:\n",
    "    data = json.load(f)\n",
    "\n",
    "df = pd.DataFrame(data)\n",
    "df.head()\n",
    "\n",
    "\n",
    "\n",
    "\n",
    "🧠 Empathy Example\n",
    "\n",
    "sample = df.sample(1).iloc[0]\n",
    "\n",
    "print(\"📍 Situation:\", sample['situation'])\n",
    "print(\"🧍‍♂️ Feeling:\", sample['feeling'])\n",
    "print(\"💬 Empathetic Response:\", sample['response'])\n",
    "print(\"🔎 AGS Empathy Insight:\", sample['ags_reasoning'])\n",
    "\n",
    "\n",
    "\n",
    "\n",
    "📊 Feeling Frequency Chart\n",
    "\n",
    "plt.figure(figsize=(10,6))\n",
    "sns.countplot(data=df, y='feeling', order=df['feeling'].value_counts().index, palette='Spectral')\n",
    "plt.title(\"Common Emotions Requiring Empathy\")\n",
    "plt.xlabel(\"Count\")\n",
    "plt.ylabel(\"Emotion\")\n",
    "plt.tight_layout()\n",
    "plt.show()\n",
    "\n",
    "\n",
    "\n",
    "\n",
    "✅ Summary\n",
    "\n",
    "- Teaches AGS to identify and respond kindly to others' emotions\n",
    "- Useful for building human-like social AI agents\n",
    "\n",
    "\n",
    "\n",
    "\n",
    "📁 Sample JSON Data\n",
    "\n",
    "Save as: ags_018_empathy_examples.json\n",
    "\n",
    "[\n",
    "  {\n",
    "    \"id\": \"em_001\",\n",
    "    \"situation\": \"A child drops their ice cream\",\n",
    "    \"feeling\": \"Sadness\",\n",
    "    \"response\": \"Oh no, that must be really disappointing. Do you want to get another one?\",\n",
    "    \"ags_reasoning\": \"Acknowledges the loss and offers a comforting option.\"\n",
    "  },\n",
    "  {\n",
    "    \"id\": \"em_002\",\n",
    "    \"situation\": \"Friend didn't get a job they applied for\",\n",
    "    \"feeling\": \"Frustration\",\n",
    "    \"response\": \"I'm sorry to hear that. I know how much effort you put in.\",\n",
    "    \"ags_reasoning\": \"Validates effort and acknowledges the disappointment.\"\n",
    "  }\n",
    "]"
   ]
  }
 ],
 "metadata": {
  "kaggle": {
   "accelerator": "none",
   "dataSources": [],
   "isGpuEnabled": false,
   "isInternetEnabled": true,
   "language": "python",
   "sourceType": "notebook"
  },
  "kernelspec": {
   "display_name": "Python 3",
   "language": "python",
   "name": "python3"
  },
  "language_info": {
   "codemirror_mode": {
    "name": "ipython",
    "version": 3
   },
   "file_extension": ".py",
   "mimetype": "text/x-python",
   "name": "python",
   "nbconvert_exporter": "python",
   "pygments_lexer": "ipython3",
   "version": "3.11.13"
  },
  "papermill": {
   "default_parameters": {},
   "duration": 7.584171,
   "end_time": "2025-07-26T12:18:46.700439",
   "environment_variables": {},
   "exception": true,
   "input_path": "__notebook__.ipynb",
   "output_path": "__notebook__.ipynb",
   "parameters": {},
   "start_time": "2025-07-26T12:18:39.116268",
   "version": "2.6.0"
  }
 },
 "nbformat": 4,
 "nbformat_minor": 5
}
