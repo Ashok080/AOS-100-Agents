{
 "cells": [
  {
   "cell_type": "code",
   "execution_count": 1,
   "id": "add05377",
   "metadata": {
    "_cell_guid": "b1076dfc-b9ad-4769-8c92-a6c4dae69d19",
    "_uuid": "8f2839f25d086af736a60e9eeb907d3b93b6e0e5",
    "execution": {
     "iopub.execute_input": "2025-07-11T15:12:58.152506Z",
     "iopub.status.busy": "2025-07-11T15:12:58.152207Z",
     "iopub.status.idle": "2025-07-11T15:12:59.824071Z",
     "shell.execute_reply": "2025-07-11T15:12:59.823249Z"
    },
    "papermill": {
     "duration": 1.676845,
     "end_time": "2025-07-11T15:12:59.825636",
     "exception": false,
     "start_time": "2025-07-11T15:12:58.148791",
     "status": "completed"
    },
    "tags": []
   },
   "outputs": [],
   "source": [
    "# This Python 3 environment comes with many helpful analytics libraries installed\n",
    "# It is defined by the kaggle/python Docker image: https://github.com/kaggle/docker-python\n",
    "# For example, here's several helpful packages to load\n",
    "\n",
    "import numpy as np # linear algebra\n",
    "import pandas as pd # data processing, CSV file I/O (e.g. pd.read_csv)\n",
    "\n",
    "# Input data files are available in the read-only \"../input/\" directory\n",
    "# For example, running this (by clicking run or pressing Shift+Enter) will list all files under the input directory\n",
    "\n",
    "import os\n",
    "for dirname, _, filenames in os.walk('/kaggle/input'):\n",
    "    for filename in filenames:\n",
    "        print(os.path.join(dirname, filename))\n",
    "\n",
    "# You can write up to 20GB to the current directory (/kaggle/working/) that gets preserved as output when you create a version using \"Save & Run All\" \n",
    "# You can also write temporary files to /kaggle/temp/, but they won't be saved outside of the current session"
   ]
  },
  {
   "cell_type": "code",
   "execution_count": 2,
   "id": "8a1e2099",
   "metadata": {
    "execution": {
     "iopub.execute_input": "2025-07-11T15:12:59.830576Z",
     "iopub.status.busy": "2025-07-11T15:12:59.830175Z",
     "iopub.status.idle": "2025-07-11T15:12:59.838666Z",
     "shell.execute_reply": "2025-07-11T15:12:59.837762Z"
    },
    "papermill": {
     "duration": 0.012306,
     "end_time": "2025-07-11T15:12:59.839942",
     "exception": false,
     "start_time": "2025-07-11T15:12:59.827636",
     "status": "completed"
    },
    "tags": []
   },
   "outputs": [
    {
     "name": "stdout",
     "output_type": "stream",
     "text": [
      "[2025-07-11T15:12:59.834183] ✅ Logged user_input: How do I apply for a passport?\n",
      "[2025-07-11T15:12:59.834321] ✅ Logged retrieved_fact: Indian citizens can apply via https://passportindia.gov.in\n",
      "[2025-07-11T15:12:59.834366] ✅ Logged task_plan: Step 1: Fill online form. Step 2: Book appointment.\n",
      "[2025-07-11T15:12:59.834403] ✅ Logged agent_reply: To apply for a passport, visit the official website and fill out the form.\n",
      "[2025-07-11T15:12:59.834443] ✅ Logged self_reflection: User needed government service info. My response was concise and useful.\n",
      "\n",
      "📘 AGI Memory Trace Timeline:\n",
      "\n",
      "2025-07-11T15:12:59.834183 | USER_INPUT | How do I apply for a passport?\n",
      "2025-07-11T15:12:59.834321 | RETRIEVED_FACT | Indian citizens can apply via https://passportindia.gov.in\n",
      "2025-07-11T15:12:59.834366 | TASK_PLAN | Step 1: Fill online form. Step 2: Book appointment.\n",
      "2025-07-11T15:12:59.834403 | AGENT_REPLY | To apply for a passport, visit the official website and fill out the form.\n",
      "2025-07-11T15:12:59.834443 | SELF_REFLECTION | User needed government service info. My response was concise and useful.\n",
      "\n",
      "✅ Memory log saved as agi_memory_trace.json\n"
     ]
    }
   ],
   "source": [
    "# AGI1_19_memory_trace_logger.ipynb\n",
    "# Logs AGI's thoughts, memory, and decisions\n",
    "\n",
    "from datetime import datetime\n",
    "import json\n",
    "\n",
    "# Simulated memory store (list of events)\n",
    "memory_trace = []\n",
    "\n",
    "# Add a new memory log\n",
    "def log_memory(event_type, content):\n",
    "    timestamp = datetime.utcnow().isoformat()\n",
    "    entry = {\n",
    "        \"timestamp\": timestamp,\n",
    "        \"type\": event_type,\n",
    "        \"content\": content\n",
    "    }\n",
    "    memory_trace.append(entry)\n",
    "    print(f\"[{timestamp}] ✅ Logged {event_type}: {content}\")\n",
    "\n",
    "# Simulate AGI session\n",
    "log_memory(\"user_input\", \"How do I apply for a passport?\")\n",
    "log_memory(\"retrieved_fact\", \"Indian citizens can apply via https://passportindia.gov.in\")\n",
    "log_memory(\"task_plan\", \"Step 1: Fill online form. Step 2: Book appointment.\")\n",
    "log_memory(\"agent_reply\", \"To apply for a passport, visit the official website and fill out the form.\")\n",
    "log_memory(\"self_reflection\", \"User needed government service info. My response was concise and useful.\")\n",
    "\n",
    "# Display memory timeline\n",
    "print(\"\\n📘 AGI Memory Trace Timeline:\\n\")\n",
    "for entry in memory_trace:\n",
    "    print(f\"{entry['timestamp']} | {entry['type'].upper()} | {entry['content']}\")\n",
    "\n",
    "# Optional: Export to JSON\n",
    "with open(\"agi_memory_trace.json\", \"w\") as f:\n",
    "    json.dump(memory_trace, f, indent=2)\n",
    "print(\"\\n✅ Memory log saved as agi_memory_trace.json\")"
   ]
  },
  {
   "cell_type": "code",
   "execution_count": 3,
   "id": "381e79d5",
   "metadata": {
    "execution": {
     "iopub.execute_input": "2025-07-11T15:12:59.844228Z",
     "iopub.status.busy": "2025-07-11T15:12:59.843923Z",
     "iopub.status.idle": "2025-07-11T15:12:59.851072Z",
     "shell.execute_reply": "2025-07-11T15:12:59.850071Z"
    },
    "papermill": {
     "duration": 0.01059,
     "end_time": "2025-07-11T15:12:59.852331",
     "exception": true,
     "start_time": "2025-07-11T15:12:59.841741",
     "status": "failed"
    },
    "tags": []
   },
   "outputs": [
    {
     "ename": "SyntaxError",
     "evalue": "leading zeros in decimal integer literals are not permitted; use an 0o prefix for octal integers (3190395811.py, line 2)",
     "output_type": "error",
     "traceback": [
      "\u001b[0;36m  File \u001b[0;32m\"/tmp/ipykernel_13/3190395811.py\"\u001b[0;36m, line \u001b[0;32m2\u001b[0m\n\u001b[0;31m    [2025-07-11T09:22:10.124Z] ✅ Logged retrieved_fact: Indian citizens can apply via ...\u001b[0m\n\u001b[0m          ^\u001b[0m\n\u001b[0;31mSyntaxError\u001b[0m\u001b[0;31m:\u001b[0m leading zeros in decimal integer literals are not permitted; use an 0o prefix for octal integers\n"
     ]
    }
   ],
   "source": [
    "[2025-07-11T09:22:10.123Z] ✅ Logged user_input: How do I apply for a passport?\n",
    "[2025-07-11T09:22:10.124Z] ✅ Logged retrieved_fact: Indian citizens can apply via ...\n",
    "...\n",
    "📘 AGI Memory Trace Timeline:\n",
    "2025-07-11T09:22:10.123Z | USER_INPUT | How do I apply for a passport?\n",
    "..."
   ]
  }
 ],
 "metadata": {
  "kaggle": {
   "accelerator": "none",
   "dataSources": [],
   "dockerImageVersionId": 31089,
   "isGpuEnabled": false,
   "isInternetEnabled": true,
   "language": "python",
   "sourceType": "notebook"
  },
  "kernelspec": {
   "display_name": "Python 3",
   "language": "python",
   "name": "python3"
  },
  "language_info": {
   "codemirror_mode": {
    "name": "ipython",
    "version": 3
   },
   "file_extension": ".py",
   "mimetype": "text/x-python",
   "name": "python",
   "nbconvert_exporter": "python",
   "pygments_lexer": "ipython3",
   "version": "3.11.13"
  },
  "papermill": {
   "default_parameters": {},
   "duration": 6.772467,
   "end_time": "2025-07-11T15:13:00.372633",
   "environment_variables": {},
   "exception": true,
   "input_path": "__notebook__.ipynb",
   "output_path": "__notebook__.ipynb",
   "parameters": {},
   "start_time": "2025-07-11T15:12:53.600166",
   "version": "2.6.0"
  }
 },
 "nbformat": 4,
 "nbformat_minor": 5
}
