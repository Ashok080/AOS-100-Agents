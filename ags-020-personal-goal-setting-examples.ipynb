{
 "cells": [
  {
   "cell_type": "code",
   "execution_count": 1,
   "id": "3a60c163",
   "metadata": {
    "_cell_guid": "b1076dfc-b9ad-4769-8c92-a6c4dae69d19",
    "_uuid": "8f2839f25d086af736a60e9eeb907d3b93b6e0e5",
    "execution": {
     "iopub.execute_input": "2025-07-26T12:24:18.077407Z",
     "iopub.status.busy": "2025-07-26T12:24:18.076591Z",
     "iopub.status.idle": "2025-07-26T12:24:19.986262Z",
     "shell.execute_reply": "2025-07-26T12:24:19.985169Z"
    },
    "papermill": {
     "duration": 1.915079,
     "end_time": "2025-07-26T12:24:19.988183",
     "exception": false,
     "start_time": "2025-07-26T12:24:18.073104",
     "status": "completed"
    },
    "tags": []
   },
   "outputs": [],
   "source": [
    "# This Python 3 environment comes with many helpful analytics libraries installed\n",
    "# It is defined by the kaggle/python Docker image: https://github.com/kaggle/docker-python\n",
    "# For example, here's several helpful packages to load\n",
    "\n",
    "import numpy as np # linear algebra\n",
    "import pandas as pd # data processing, CSV file I/O (e.g. pd.read_csv)\n",
    "\n",
    "# Input data files are available in the read-only \"../input/\" directory\n",
    "# For example, running this (by clicking run or pressing Shift+Enter) will list all files under the input directory\n",
    "\n",
    "import os\n",
    "for dirname, _, filenames in os.walk('/kaggle/input'):\n",
    "    for filename in filenames:\n",
    "        print(os.path.join(dirname, filename))\n",
    "\n",
    "# You can write up to 20GB to the current directory (/kaggle/working/) that gets preserved as output when you create a version using \"Save & Run All\" \n",
    "# You can also write temporary files to /kaggle/temp/, but they won't be saved outside of the current session"
   ]
  },
  {
   "cell_type": "code",
   "execution_count": 2,
   "id": "d42a5ea1",
   "metadata": {
    "execution": {
     "iopub.execute_input": "2025-07-26T12:24:19.994034Z",
     "iopub.status.busy": "2025-07-26T12:24:19.993549Z",
     "iopub.status.idle": "2025-07-26T12:24:20.004217Z",
     "shell.execute_reply": "2025-07-26T12:24:20.002295Z"
    },
    "papermill": {
     "duration": 0.015619,
     "end_time": "2025-07-26T12:24:20.006406",
     "exception": true,
     "start_time": "2025-07-26T12:24:19.990787",
     "status": "failed"
    },
    "tags": []
   },
   "outputs": [
    {
     "ename": "SyntaxError",
     "evalue": "invalid character '🎯' (U+1F3AF) (1138093154.py, line 18)",
     "output_type": "error",
     "traceback": [
      "\u001b[0;36m  File \u001b[0;32m\"/tmp/ipykernel_13/1138093154.py\"\u001b[0;36m, line \u001b[0;32m18\u001b[0m\n\u001b[0;31m    🎯 Display a Random Goal Plan\u001b[0m\n\u001b[0m    ^\u001b[0m\n\u001b[0;31mSyntaxError\u001b[0m\u001b[0;31m:\u001b[0m invalid character '🎯' (U+1F3AF)\n"
     ]
    }
   ],
   "source": [
    "# AGS 020 – Personal Goal Setting Examples\n",
    "# 🎯 Goal: Help AGS model learn to assist in personal planning and motivation\n",
    "\n",
    "import pandas as pd\n",
    "import json\n",
    "import matplotlib.pyplot as plt\n",
    "\n",
    "# ✅ Load dataset (Upload to Kaggle as ags_020_goal_setting.json)\n",
    "with open('/kaggle/input/ags-020-goal-setting/ags_020_goal_setting.json') as f:\n",
    "    data = json.load(f)\n",
    "\n",
    "df = pd.DataFrame(data)\n",
    "df.head()\n",
    "\n",
    "\n",
    "\n",
    "\n",
    "🎯 Display a Random Goal Plan\n",
    "\n",
    "sample = df.sample(1).iloc[0]\n",
    "\n",
    "print(\"📌 Goal:\", sample[\"goal\"])\n",
    "print(\"🧠 Why it matters:\", sample[\"why\"])\n",
    "print(\"🪜 Steps:\", \", \".join(sample[\"steps\"]))\n",
    "print(\"💡 AGS Role:\", sample[\"ags_support\"])\n",
    "\n",
    "\n",
    "\n",
    "\n",
    "📊 Goals by Category\n",
    "\n",
    "plt.figure(figsize=(10, 6))\n",
    "df['category'].value_counts().plot(kind='bar', color='skyblue')\n",
    "plt.title('Goal Categories')\n",
    "plt.xlabel('Category')\n",
    "plt.ylabel('Number of Goals')\n",
    "plt.grid(axis='y')\n",
    "plt.show()\n",
    "\n",
    "\n",
    "\n",
    "\n",
    "✅ Summary\n",
    "\n",
    "- Enables AGS to act like a coach, friend, or assistant\n",
    "- Encourages reflection, planning, and daily motivation\n",
    "\n",
    "\n",
    "\n",
    "\n",
    "📁 Sample JSON Data\n",
    "\n",
    "Save as: ags_020_goal_setting.json\n",
    "\n",
    "[\n",
    "  {\n",
    "    \"id\": \"goal_001\",\n",
    "    \"category\": \"Health\",\n",
    "    \"goal\": \"Exercise 30 minutes a day\",\n",
    "    \"why\": \"To improve stamina and feel better\",\n",
    "    \"steps\": [\"Wake up early\", \"Stretch\", \"Walk or jog\", \"Track daily progress\"],\n",
    "    \"ags_support\": \"Send reminders and motivational messages\"\n",
    "  },\n",
    "  {\n",
    "    \"id\": \"goal_002\",\n",
    "    \"category\": \"Learning\",\n",
    "    \"goal\": \"Learn basic Spanish in 3 months\",\n",
    "    \"why\": \"To travel and connect with locals\",\n",
    "    \"steps\": [\"Download app\", \"Practice daily\", \"Watch Spanish shows\", \"Join online group\"],\n",
    "    \"ags_support\": \"Track streak, recommend learning resources\"\n",
    "  }\n",
    "]"
   ]
  }
 ],
 "metadata": {
  "kaggle": {
   "accelerator": "none",
   "dataSources": [],
   "isGpuEnabled": false,
   "isInternetEnabled": true,
   "language": "python",
   "sourceType": "notebook"
  },
  "kernelspec": {
   "display_name": "Python 3",
   "language": "python",
   "name": "python3"
  },
  "language_info": {
   "codemirror_mode": {
    "name": "ipython",
    "version": 3
   },
   "file_extension": ".py",
   "mimetype": "text/x-python",
   "name": "python",
   "nbconvert_exporter": "python",
   "pygments_lexer": "ipython3",
   "version": "3.11.13"
  },
  "papermill": {
   "default_parameters": {},
   "duration": 8.022414,
   "end_time": "2025-07-26T12:24:20.527642",
   "environment_variables": {},
   "exception": true,
   "input_path": "__notebook__.ipynb",
   "output_path": "__notebook__.ipynb",
   "parameters": {},
   "start_time": "2025-07-26T12:24:12.505228",
   "version": "2.6.0"
  }
 },
 "nbformat": 4,
 "nbformat_minor": 5
}
