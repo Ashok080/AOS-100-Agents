{
 "cells": [
  {
   "cell_type": "markdown",
   "id": "962d8d7d",
   "metadata": {},
   "source": [
    "# Multimodal Notebook (Voice, Image, Text)\n",
    "\n",
    "Datasets: Flickr8k, RAVDESS"
   ]
  },
  {
   "cell_type": "code",
   "execution_count": null,
   "id": "2f8ad61d",
   "metadata": {},
   "outputs": [],
   "source": [
    "\n",
    "from transformers import BlipProcessor, BlipForConditionalGeneration\n",
    "from PIL import Image\n",
    "\n",
    "processor = BlipProcessor.from_pretrained(\"Salesforce/blip-image-captioning-base\")\n",
    "model = BlipForConditionalGeneration.from_pretrained(\"Salesforce/blip-image-captioning-base\")\n",
    "\n",
    "img_path = '/kaggle/input/flickr8k/Flicker8k_Dataset/1000268201_693b08cb0e.jpg'\n",
    "raw_image = Image.open(img_path).convert('RGB')\n",
    "\n",
    "inputs = processor(raw_image, return_tensors=\"pt\")\n",
    "out = model.generate(**inputs)\n",
    "caption = processor.decode(out[0], skip_special_tokens=True)\n",
    "print(\"Image Caption:\", caption)\n",
    "    "
   ]
  }
 ],
 "metadata": {},
 "nbformat": 4,
 "nbformat_minor": 5
}
