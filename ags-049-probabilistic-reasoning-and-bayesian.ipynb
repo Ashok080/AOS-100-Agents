{
 "cells": [
  {
   "cell_type": "code",
   "execution_count": 1,
   "id": "9d380076",
   "metadata": {
    "_cell_guid": "b1076dfc-b9ad-4769-8c92-a6c4dae69d19",
    "_uuid": "8f2839f25d086af736a60e9eeb907d3b93b6e0e5",
    "execution": {
     "iopub.execute_input": "2025-07-26T15:15:50.912303Z",
     "iopub.status.busy": "2025-07-26T15:15:50.912004Z",
     "iopub.status.idle": "2025-07-26T15:15:52.674751Z",
     "shell.execute_reply": "2025-07-26T15:15:52.674012Z"
    },
    "papermill": {
     "duration": 1.767422,
     "end_time": "2025-07-26T15:15:52.676451",
     "exception": false,
     "start_time": "2025-07-26T15:15:50.909029",
     "status": "completed"
    },
    "tags": []
   },
   "outputs": [],
   "source": [
    "# This Python 3 environment comes with many helpful analytics libraries installed\n",
    "# It is defined by the kaggle/python Docker image: https://github.com/kaggle/docker-python\n",
    "# For example, here's several helpful packages to load\n",
    "\n",
    "import numpy as np # linear algebra\n",
    "import pandas as pd # data processing, CSV file I/O (e.g. pd.read_csv)\n",
    "\n",
    "# Input data files are available in the read-only \"../input/\" directory\n",
    "# For example, running this (by clicking run or pressing Shift+Enter) will list all files under the input directory\n",
    "\n",
    "import os\n",
    "for dirname, _, filenames in os.walk('/kaggle/input'):\n",
    "    for filename in filenames:\n",
    "        print(os.path.join(dirname, filename))\n",
    "\n",
    "# You can write up to 20GB to the current directory (/kaggle/working/) that gets preserved as output when you create a version using \"Save & Run All\" \n",
    "# You can also write temporary files to /kaggle/temp/, but they won't be saved outside of the current session"
   ]
  },
  {
   "cell_type": "code",
   "execution_count": 2,
   "id": "72aaaa11",
   "metadata": {
    "execution": {
     "iopub.execute_input": "2025-07-26T15:15:52.680898Z",
     "iopub.status.busy": "2025-07-26T15:15:52.680470Z",
     "iopub.status.idle": "2025-07-26T15:15:52.768367Z",
     "shell.execute_reply": "2025-07-26T15:15:52.767245Z"
    },
    "papermill": {
     "duration": 0.091312,
     "end_time": "2025-07-26T15:15:52.769612",
     "exception": true,
     "start_time": "2025-07-26T15:15:52.678300",
     "status": "failed"
    },
    "tags": []
   },
   "outputs": [
    {
     "ename": "ModuleNotFoundError",
     "evalue": "No module named 'AGS'",
     "output_type": "error",
     "traceback": [
      "\u001b[0;31m---------------------------------------------------------------------------\u001b[0m",
      "\u001b[0;31mModuleNotFoundError\u001b[0m                       Traceback (most recent call last)",
      "\u001b[0;32m/tmp/ipykernel_13/80195587.py\u001b[0m in \u001b[0;36m<cell line: 0>\u001b[0;34m()\u001b[0m\n\u001b[1;32m      6\u001b[0m \"\"\"\n\u001b[1;32m      7\u001b[0m \u001b[0;34m\u001b[0m\u001b[0m\n\u001b[0;32m----> 8\u001b[0;31m \u001b[0;32mfrom\u001b[0m \u001b[0mAGS\u001b[0m\u001b[0;34m.\u001b[0m\u001b[0mreasoning\u001b[0m \u001b[0;32mimport\u001b[0m \u001b[0mBayesianReasoner\u001b[0m\u001b[0;34m\u001b[0m\u001b[0;34m\u001b[0m\u001b[0m\n\u001b[0m\u001b[1;32m      9\u001b[0m \u001b[0;32mfrom\u001b[0m \u001b[0mAGS\u001b[0m\u001b[0;34m.\u001b[0m\u001b[0mmemory\u001b[0m \u001b[0;32mimport\u001b[0m \u001b[0mAgentMemory\u001b[0m\u001b[0;34m\u001b[0m\u001b[0;34m\u001b[0m\u001b[0m\n\u001b[1;32m     10\u001b[0m \u001b[0;32mimport\u001b[0m \u001b[0mmatplotlib\u001b[0m\u001b[0;34m.\u001b[0m\u001b[0mpyplot\u001b[0m \u001b[0;32mas\u001b[0m \u001b[0mplt\u001b[0m\u001b[0;34m\u001b[0m\u001b[0;34m\u001b[0m\u001b[0m\n",
      "\u001b[0;31mModuleNotFoundError\u001b[0m: No module named 'AGS'"
     ]
    }
   ],
   "source": [
    "# AGS 049 – Probabilistic Reasoning and Bayesian Inference\n",
    "\n",
    "\"\"\"\n",
    "This notebook equips AGS with the ability to perform probabilistic reasoning\n",
    "using Bayesian inference to update beliefs under uncertainty.\n",
    "\"\"\"\n",
    "\n",
    "from AGS.reasoning import BayesianReasoner\n",
    "from AGS.memory import AgentMemory\n",
    "import matplotlib.pyplot as plt\n",
    "\n",
    "# Initialize components\n",
    "memory = AgentMemory()\n",
    "bayes = BayesianReasoner()\n",
    "\n",
    "# Example 1: Medical Diagnosis\n",
    "# Prior: 1% of people have disease\n",
    "# Test accuracy: 90% sensitivity, 95% specificity\n",
    "prior = 0.01\n",
    "sensitivity = 0.9\n",
    "specificity = 0.95\n",
    "\n",
    "# Evidence: positive test result\n",
    "posterior = bayes.compute_posterior(prior, sensitivity, specificity, evidence='positive')\n",
    "print(f\"Posterior probability of disease given positive test: {posterior:.4f}\")\n",
    "\n",
    "# Example 2: Update beliefs iteratively\n",
    "beliefs = []\n",
    "priors = [0.5]\n",
    "evidence_sequence = ['positive', 'positive', 'negative']\n",
    "for evidence in evidence_sequence:\n",
    "    updated = bayes.compute_posterior(priors[-1], 0.8, 0.8, evidence)\n",
    "    priors.append(updated)\n",
    "    beliefs.append(updated)\n",
    "\n",
    "# Plot updated belief\n",
    "plt.plot(range(1, len(beliefs) + 1), beliefs, marker='o')\n",
    "plt.title(\"Bayesian Belief Updates Over Evidence\")\n",
    "plt.xlabel(\"Evidence Step\")\n",
    "plt.ylabel(\"Belief (Probability)\")\n",
    "plt.grid(True)\n",
    "plt.show()"
   ]
  }
 ],
 "metadata": {
  "kaggle": {
   "accelerator": "none",
   "dataSources": [],
   "isGpuEnabled": false,
   "isInternetEnabled": true,
   "language": "python",
   "sourceType": "notebook"
  },
  "kernelspec": {
   "display_name": "Python 3",
   "language": "python",
   "name": "python3"
  },
  "language_info": {
   "codemirror_mode": {
    "name": "ipython",
    "version": 3
   },
   "file_extension": ".py",
   "mimetype": "text/x-python",
   "name": "python",
   "nbconvert_exporter": "python",
   "pygments_lexer": "ipython3",
   "version": "3.11.13"
  },
  "papermill": {
   "default_parameters": {},
   "duration": 7.06357,
   "end_time": "2025-07-26T15:15:53.290062",
   "environment_variables": {},
   "exception": true,
   "input_path": "__notebook__.ipynb",
   "output_path": "__notebook__.ipynb",
   "parameters": {},
   "start_time": "2025-07-26T15:15:46.226492",
   "version": "2.6.0"
  }
 },
 "nbformat": 4,
 "nbformat_minor": 5
}
