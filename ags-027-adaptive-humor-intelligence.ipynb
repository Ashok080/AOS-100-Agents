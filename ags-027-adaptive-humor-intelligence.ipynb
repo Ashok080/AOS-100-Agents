{
 "cells": [
  {
   "cell_type": "code",
   "execution_count": 1,
   "id": "9bcfba8f",
   "metadata": {
    "_cell_guid": "b1076dfc-b9ad-4769-8c92-a6c4dae69d19",
    "_uuid": "8f2839f25d086af736a60e9eeb907d3b93b6e0e5",
    "execution": {
     "iopub.execute_input": "2025-07-26T12:49:36.508378Z",
     "iopub.status.busy": "2025-07-26T12:49:36.507286Z",
     "iopub.status.idle": "2025-07-26T12:49:38.706979Z",
     "shell.execute_reply": "2025-07-26T12:49:38.705860Z"
    },
    "papermill": {
     "duration": 2.206203,
     "end_time": "2025-07-26T12:49:38.709282",
     "exception": false,
     "start_time": "2025-07-26T12:49:36.503079",
     "status": "completed"
    },
    "tags": []
   },
   "outputs": [],
   "source": [
    "# This Python 3 environment comes with many helpful analytics libraries installed\n",
    "# It is defined by the kaggle/python Docker image: https://github.com/kaggle/docker-python\n",
    "# For example, here's several helpful packages to load\n",
    "\n",
    "import numpy as np # linear algebra\n",
    "import pandas as pd # data processing, CSV file I/O (e.g. pd.read_csv)\n",
    "\n",
    "# Input data files are available in the read-only \"../input/\" directory\n",
    "# For example, running this (by clicking run or pressing Shift+Enter) will list all files under the input directory\n",
    "\n",
    "import os\n",
    "for dirname, _, filenames in os.walk('/kaggle/input'):\n",
    "    for filename in filenames:\n",
    "        print(os.path.join(dirname, filename))\n",
    "\n",
    "# You can write up to 20GB to the current directory (/kaggle/working/) that gets preserved as output when you create a version using \"Save & Run All\" \n",
    "# You can also write temporary files to /kaggle/temp/, but they won't be saved outside of the current session"
   ]
  },
  {
   "cell_type": "code",
   "execution_count": 2,
   "id": "ec07a377",
   "metadata": {
    "execution": {
     "iopub.execute_input": "2025-07-26T12:49:38.714811Z",
     "iopub.status.busy": "2025-07-26T12:49:38.714351Z",
     "iopub.status.idle": "2025-07-26T12:49:38.725295Z",
     "shell.execute_reply": "2025-07-26T12:49:38.723835Z"
    },
    "papermill": {
     "duration": 0.01583,
     "end_time": "2025-07-26T12:49:38.727404",
     "exception": true,
     "start_time": "2025-07-26T12:49:38.711574",
     "status": "failed"
    },
    "tags": []
   },
   "outputs": [
    {
     "ename": "SyntaxError",
     "evalue": "invalid character '🎭' (U+1F3AD) (2905072702.py, line 17)",
     "output_type": "error",
     "traceback": [
      "\u001b[0;36m  File \u001b[0;32m\"/tmp/ipykernel_13/2905072702.py\"\u001b[0;36m, line \u001b[0;32m17\u001b[0m\n\u001b[0;31m    🎭 Display a Random Joke with Context\u001b[0m\n\u001b[0m    ^\u001b[0m\n\u001b[0;31mSyntaxError\u001b[0m\u001b[0;31m:\u001b[0m invalid character '🎭' (U+1F3AD)\n"
     ]
    }
   ],
   "source": [
    "# AGS 027 – Adaptive Humor Intelligence\n",
    "# 🎯 Goal: Teach AGS when and how to use humor appropriately in conversation\n",
    "\n",
    "import pandas as pd\n",
    "import json\n",
    "\n",
    "# ✅ Load humor dataset (Upload as ags_027_adaptive_humor.json)\n",
    "with open('/kaggle/input/ags-027-adaptive-humor/ags_027_adaptive_humor.json') as f:\n",
    "    data = json.load(f)\n",
    "\n",
    "df = pd.DataFrame(data)\n",
    "df.head()\n",
    "\n",
    "\n",
    "\n",
    "\n",
    "🎭 Display a Random Joke with Context\n",
    "\n",
    "sample = df.sample(1).iloc[0]\n",
    "\n",
    "print(\"🧠 Situation:\", sample[\"situation\"])\n",
    "print(\"😂 Joke:\", sample[\"joke\"])\n",
    "print(\"🎯 Why It Works:\", sample[\"explanation\"])\n",
    "print(\"🗂️ Humor Type:\", sample[\"humor_type\"])\n",
    "\n",
    "\n",
    "\n",
    "\n",
    "📊 Humor Type Distribution\n",
    "\n",
    "import seaborn as sns\n",
    "import matplotlib.pyplot as plt\n",
    "\n",
    "plt.figure(figsize=(8, 5))\n",
    "sns.countplot(data=df, x='humor_type', palette='pastel')\n",
    "plt.title(\"Distribution of Humor Types\")\n",
    "plt.xlabel(\"Humor Type\")\n",
    "plt.ylabel(\"Count\")\n",
    "plt.xticks(rotation=45)\n",
    "plt.tight_layout()\n",
    "plt.show()\n",
    "\n",
    "\n",
    "\n",
    "\n",
    "📁 Sample JSON Format\n",
    "\n",
    "Save this as: ags_027_adaptive_humor.json\n",
    "\n",
    "[\n",
    "  {\n",
    "    \"id\": \"humor_001\",\n",
    "    \"situation\": \"User just shared a stressful day.\",\n",
    "    \"joke\": \"Why don't scientists trust atoms? Because they make up everything!\",\n",
    "    \"explanation\": \"Light pun to gently lift the mood without minimizing the user's feelings.\",\n",
    "    \"humor_type\": \"wordplay\"\n",
    "  },\n",
    "  {\n",
    "    \"id\": \"humor_002\",\n",
    "    \"situation\": \"User is working on a math problem.\",\n",
    "    \"joke\": \"Parallel lines have so much in common… it’s a shame they’ll never meet.\",\n",
    "    \"explanation\": \"Relevant to math, uses pun and irony.\",\n",
    "    \"humor_type\": \"situational pun\"\n",
    "  }\n",
    "]\n",
    "\n",
    "\n",
    "\n",
    "\n",
    "✅ Summary\n",
    "\n",
    "This notebook helps AGS:\n",
    "- Use humor relevant to context\n",
    "- Identify different types of humor (pun, irony, situational, etc.)\n",
    "- Avoid inappropriate timing or tone"
   ]
  }
 ],
 "metadata": {
  "kaggle": {
   "accelerator": "none",
   "dataSources": [],
   "isGpuEnabled": false,
   "isInternetEnabled": true,
   "language": "python",
   "sourceType": "notebook"
  },
  "kernelspec": {
   "display_name": "Python 3",
   "language": "python",
   "name": "python3"
  },
  "language_info": {
   "codemirror_mode": {
    "name": "ipython",
    "version": 3
   },
   "file_extension": ".py",
   "mimetype": "text/x-python",
   "name": "python",
   "nbconvert_exporter": "python",
   "pygments_lexer": "ipython3",
   "version": "3.11.13"
  },
  "papermill": {
   "default_parameters": {},
   "duration": 8.161765,
   "end_time": "2025-07-26T12:49:39.451377",
   "environment_variables": {},
   "exception": true,
   "input_path": "__notebook__.ipynb",
   "output_path": "__notebook__.ipynb",
   "parameters": {},
   "start_time": "2025-07-26T12:49:31.289612",
   "version": "2.6.0"
  }
 },
 "nbformat": 4,
 "nbformat_minor": 5
}
