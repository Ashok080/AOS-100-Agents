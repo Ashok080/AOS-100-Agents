{
 "cells": [
  {
   "cell_type": "code",
   "execution_count": 1,
   "id": "167daffc",
   "metadata": {
    "_cell_guid": "b1076dfc-b9ad-4769-8c92-a6c4dae69d19",
    "_uuid": "8f2839f25d086af736a60e9eeb907d3b93b6e0e5",
    "execution": {
     "iopub.execute_input": "2025-07-26T15:09:34.095607Z",
     "iopub.status.busy": "2025-07-26T15:09:34.095263Z",
     "iopub.status.idle": "2025-07-26T15:09:36.070164Z",
     "shell.execute_reply": "2025-07-26T15:09:36.069191Z"
    },
    "papermill": {
     "duration": 1.980046,
     "end_time": "2025-07-26T15:09:36.072116",
     "exception": false,
     "start_time": "2025-07-26T15:09:34.092070",
     "status": "completed"
    },
    "tags": []
   },
   "outputs": [],
   "source": [
    "# This Python 3 environment comes with many helpful analytics libraries installed\n",
    "# It is defined by the kaggle/python Docker image: https://github.com/kaggle/docker-python\n",
    "# For example, here's several helpful packages to load\n",
    "\n",
    "import numpy as np # linear algebra\n",
    "import pandas as pd # data processing, CSV file I/O (e.g. pd.read_csv)\n",
    "\n",
    "# Input data files are available in the read-only \"../input/\" directory\n",
    "# For example, running this (by clicking run or pressing Shift+Enter) will list all files under the input directory\n",
    "\n",
    "import os\n",
    "for dirname, _, filenames in os.walk('/kaggle/input'):\n",
    "    for filename in filenames:\n",
    "        print(os.path.join(dirname, filename))\n",
    "\n",
    "# You can write up to 20GB to the current directory (/kaggle/working/) that gets preserved as output when you create a version using \"Save & Run All\" \n",
    "# You can also write temporary files to /kaggle/temp/, but they won't be saved outside of the current session"
   ]
  },
  {
   "cell_type": "code",
   "execution_count": 2,
   "id": "9cd8195c",
   "metadata": {
    "execution": {
     "iopub.execute_input": "2025-07-26T15:09:36.077283Z",
     "iopub.status.busy": "2025-07-26T15:09:36.076899Z",
     "iopub.status.idle": "2025-07-26T15:09:36.177759Z",
     "shell.execute_reply": "2025-07-26T15:09:36.176508Z"
    },
    "papermill": {
     "duration": 0.104953,
     "end_time": "2025-07-26T15:09:36.179185",
     "exception": true,
     "start_time": "2025-07-26T15:09:36.074232",
     "status": "failed"
    },
    "tags": []
   },
   "outputs": [
    {
     "ename": "ModuleNotFoundError",
     "evalue": "No module named 'AGS'",
     "output_type": "error",
     "traceback": [
      "\u001b[0;31m---------------------------------------------------------------------------\u001b[0m",
      "\u001b[0;31mModuleNotFoundError\u001b[0m                       Traceback (most recent call last)",
      "\u001b[0;32m/tmp/ipykernel_13/1224001099.py\u001b[0m in \u001b[0;36m<cell line: 0>\u001b[0;34m()\u001b[0m\n\u001b[1;32m     11\u001b[0m \"\"\"\n\u001b[1;32m     12\u001b[0m \u001b[0;34m\u001b[0m\u001b[0m\n\u001b[0;32m---> 13\u001b[0;31m \u001b[0;32mfrom\u001b[0m \u001b[0mAGS\u001b[0m\u001b[0;34m.\u001b[0m\u001b[0mreasoning\u001b[0m \u001b[0;32mimport\u001b[0m \u001b[0mSpatialReasoner\u001b[0m\u001b[0;34m,\u001b[0m \u001b[0mPhysicsSimulator\u001b[0m\u001b[0;34m\u001b[0m\u001b[0;34m\u001b[0m\u001b[0m\n\u001b[0m\u001b[1;32m     14\u001b[0m \u001b[0;32mfrom\u001b[0m \u001b[0mAGS\u001b[0m\u001b[0;34m.\u001b[0m\u001b[0mmemory\u001b[0m \u001b[0;32mimport\u001b[0m \u001b[0mWorldStateMemory\u001b[0m\u001b[0;34m\u001b[0m\u001b[0;34m\u001b[0m\u001b[0m\n\u001b[1;32m     15\u001b[0m \u001b[0;32mfrom\u001b[0m \u001b[0mAGS\u001b[0m\u001b[0;34m.\u001b[0m\u001b[0mconfig\u001b[0m \u001b[0;32mimport\u001b[0m \u001b[0mAGSConfig\u001b[0m\u001b[0;34m\u001b[0m\u001b[0;34m\u001b[0m\u001b[0m\n",
      "\u001b[0;31mModuleNotFoundError\u001b[0m: No module named 'AGS'"
     ]
    }
   ],
   "source": [
    "# AGS 047 – Commonsense Physics and Spatial Reasoning\n",
    "\n",
    "\"\"\"\n",
    "This notebook equips AGS with the ability to reason about physical interactions, object behavior,\n",
    "and spatial relationships using commonsense principles.\n",
    "\n",
    "Useful for:\n",
    "- Predicting physical outcomes (e.g., gravity, collisions)\n",
    "- Inferring hidden object locations\n",
    "- Embodied cognition and robotics simulations\n",
    "\"\"\"\n",
    "\n",
    "from AGS.reasoning import SpatialReasoner, PhysicsSimulator\n",
    "from AGS.memory import WorldStateMemory\n",
    "from AGS.config import AGSConfig\n",
    "\n",
    "# Config and memory\n",
    "config = AGSConfig()\n",
    "world_memory = WorldStateMemory()\n",
    "physics_simulator = PhysicsSimulator(memory=world_memory)\n",
    "spatial_reasoner = SpatialReasoner(memory=world_memory)\n",
    "\n",
    "# Define sample objects and relationships\n",
    "objects = [\n",
    "    {\"id\": \"ball\", \"mass\": 0.5, \"position\": [0, 10], \"velocity\": [0, 0]},\n",
    "    {\"id\": \"ground\", \"fixed\": True, \"position\": [0, 0]}\n",
    "]\n",
    "\n",
    "# Load objects into memory\n",
    "for obj in objects:\n",
    "    world_memory.store_object(obj)\n",
    "\n",
    "# Simulate physical event\n",
    "print(\"Simulating gravity for 3 seconds...\")\n",
    "trajectory = physics_simulator.simulate(\"ball\", force=\"gravity\", duration=3.0)\n",
    "print(\"Trajectory:\", trajectory)\n",
    "\n",
    "# Spatial reasoning example\n",
    "spatial_question = \"Is the ball above the ground?\"\n",
    "answer = spatial_reasoner.reason(spatial_question)\n",
    "print(\"Answer:\", answer)"
   ]
  }
 ],
 "metadata": {
  "kaggle": {
   "accelerator": "none",
   "dataSources": [],
   "isGpuEnabled": false,
   "isInternetEnabled": true,
   "language": "python",
   "sourceType": "notebook"
  },
  "kernelspec": {
   "display_name": "Python 3",
   "language": "python",
   "name": "python3"
  },
  "language_info": {
   "codemirror_mode": {
    "name": "ipython",
    "version": 3
   },
   "file_extension": ".py",
   "mimetype": "text/x-python",
   "name": "python",
   "nbconvert_exporter": "python",
   "pygments_lexer": "ipython3",
   "version": "3.11.13"
  },
  "papermill": {
   "default_parameters": {},
   "duration": 7.653796,
   "end_time": "2025-07-26T15:09:36.699446",
   "environment_variables": {},
   "exception": true,
   "input_path": "__notebook__.ipynb",
   "output_path": "__notebook__.ipynb",
   "parameters": {},
   "start_time": "2025-07-26T15:09:29.045650",
   "version": "2.6.0"
  }
 },
 "nbformat": 4,
 "nbformat_minor": 5
}
