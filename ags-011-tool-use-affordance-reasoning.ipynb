{
 "cells": [
  {
   "cell_type": "code",
   "execution_count": 1,
   "id": "a592fa13",
   "metadata": {
    "_cell_guid": "b1076dfc-b9ad-4769-8c92-a6c4dae69d19",
    "_uuid": "8f2839f25d086af736a60e9eeb907d3b93b6e0e5",
    "execution": {
     "iopub.execute_input": "2025-07-26T11:40:59.990428Z",
     "iopub.status.busy": "2025-07-26T11:40:59.990076Z",
     "iopub.status.idle": "2025-07-26T11:41:01.725199Z",
     "shell.execute_reply": "2025-07-26T11:41:01.724273Z"
    },
    "papermill": {
     "duration": 1.740259,
     "end_time": "2025-07-26T11:41:01.727171",
     "exception": false,
     "start_time": "2025-07-26T11:40:59.986912",
     "status": "completed"
    },
    "tags": []
   },
   "outputs": [],
   "source": [
    "# This Python 3 environment comes with many helpful analytics libraries installed\n",
    "# It is defined by the kaggle/python Docker image: https://github.com/kaggle/docker-python\n",
    "# For example, here's several helpful packages to load\n",
    "\n",
    "import numpy as np # linear algebra\n",
    "import pandas as pd # data processing, CSV file I/O (e.g. pd.read_csv)\n",
    "\n",
    "# Input data files are available in the read-only \"../input/\" directory\n",
    "# For example, running this (by clicking run or pressing Shift+Enter) will list all files under the input directory\n",
    "\n",
    "import os\n",
    "for dirname, _, filenames in os.walk('/kaggle/input'):\n",
    "    for filename in filenames:\n",
    "        print(os.path.join(dirname, filename))\n",
    "\n",
    "# You can write up to 20GB to the current directory (/kaggle/working/) that gets preserved as output when you create a version using \"Save & Run All\" \n",
    "# You can also write temporary files to /kaggle/temp/, but they won't be saved outside of the current session"
   ]
  },
  {
   "cell_type": "code",
   "execution_count": 2,
   "id": "31d1a714",
   "metadata": {
    "execution": {
     "iopub.execute_input": "2025-07-26T11:41:01.731671Z",
     "iopub.status.busy": "2025-07-26T11:41:01.731250Z",
     "iopub.status.idle": "2025-07-26T11:41:01.740297Z",
     "shell.execute_reply": "2025-07-26T11:41:01.739237Z"
    },
    "papermill": {
     "duration": 0.012449,
     "end_time": "2025-07-26T11:41:01.741410",
     "exception": true,
     "start_time": "2025-07-26T11:41:01.728961",
     "status": "failed"
    },
    "tags": []
   },
   "outputs": [
    {
     "ename": "SyntaxError",
     "evalue": "invalid character '📊' (U+1F4CA) (3332211888.py, line 24)",
     "output_type": "error",
     "traceback": [
      "\u001b[0;36m  File \u001b[0;32m\"/tmp/ipykernel_13/3332211888.py\"\u001b[0;36m, line \u001b[0;32m24\u001b[0m\n\u001b[0;31m    📊 Distribution of Tool Use Reasoning Types\u001b[0m\n\u001b[0m    ^\u001b[0m\n\u001b[0;31mSyntaxError\u001b[0m\u001b[0;31m:\u001b[0m invalid character '📊' (U+1F4CA)\n"
     ]
    }
   ],
   "source": [
    "# AGS 011 – Tool Use & Affordance Reasoning\n",
    "\n",
    "# 🛠️ Goal: Teach AGS models to reason about the proper use of tools and object affordances\n",
    "\n",
    "import pandas as pd\n",
    "import matplotlib.pyplot as plt\n",
    "import seaborn as sns\n",
    "import json\n",
    "from wordcloud import WordCloud\n",
    "\n",
    "# ✅ Load dataset (upload to Kaggle: ags_011_tool_reasoning.json)\n",
    "with open('/kaggle/input/ags-011-tool-reasoning/ags_011_tool_reasoning.json', 'r') as f:\n",
    "    data = json.load(f)\n",
    "\n",
    "# Convert to DataFrame\n",
    "df = pd.DataFrame(data)\n",
    "\n",
    "# 🔍 Preview\n",
    "df.head()\n",
    "\n",
    "\n",
    "\n",
    "\n",
    "📊 Distribution of Tool Use Reasoning Types\n",
    "\n",
    "plt.figure(figsize=(8, 5))\n",
    "sns.countplot(data=df, x='reasoning_type', palette='coolwarm')\n",
    "plt.title('Tool Use Reasoning Types')\n",
    "plt.xlabel('Reasoning Type')\n",
    "plt.ylabel('Count')\n",
    "plt.xticks(rotation=30)\n",
    "plt.show()\n",
    "\n",
    "\n",
    "\n",
    "\n",
    "☁️ Word Cloud of Tools and Actions\n",
    "\n",
    "text = ' '.join(df['situation'])\n",
    "wordcloud = WordCloud(width=800, height=400, background_color='white').generate(text)\n",
    "\n",
    "plt.figure(figsize=(12, 6))\n",
    "plt.imshow(wordcloud, interpolation='bilinear')\n",
    "plt.axis('off')\n",
    "plt.title('Common Tools and Affordances')\n",
    "plt.show()\n",
    "\n",
    "\n",
    "\n",
    "\n",
    "🔍 Sample Tool Scenario\n",
    "\n",
    "sample = df.sample(1).iloc[0]\n",
    "\n",
    "print(\"🔧 Situation:\", sample['situation'])\n",
    "print(\"❓ Question:\", sample['question'])\n",
    "print(\"✅ Answer:\", sample['answer'])\n",
    "print(\"🧠 Reasoning Type:\", sample['reasoning_type'])\n",
    "\n",
    "\n",
    "\n",
    "\n",
    "✅ Summary\n",
    "\n",
    "This dataset is built to support:\n",
    "- Physical reasoning in real-world scenarios\n",
    "- Training agents in embodied environments\n",
    "- Modeling affordances for tool selection and application\n",
    "\n",
    "📁 Dataset: ags_011_tool_reasoning.json\n",
    "\n",
    "\n",
    "\n",
    "\n",
    "📁 Sample Dataset Format\n",
    "\n",
    "Save as: ags_011_tool_reasoning.json\n",
    "\n",
    "[\n",
    "  {\n",
    "    \"id\": \"tool_001\",\n",
    "    \"situation\": \"You need to hang a painting on the wall.\",\n",
    "    \"question\": \"What tool should you use?\",\n",
    "    \"answer\": \"A hammer and nail, because they allow you to fix things to the wall.\",\n",
    "    \"reasoning_type\": \"tool-use reasoning\"\n",
    "  },\n",
    "  {\n",
    "    \"id\": \"tool_002\",\n",
    "    \"situation\": \"You want to tighten a loose bolt.\",\n",
    "    \"question\": \"Which tool would be most appropriate?\",\n",
    "    \"answer\": \"A wrench, because it is designed to grip and turn bolts.\",\n",
    "    \"reasoning_type\": \"affordance reasoning\"\n",
    "  }\n",
    "]\n",
    "\n",
    "\n"
   ]
  }
 ],
 "metadata": {
  "kaggle": {
   "accelerator": "none",
   "dataSources": [],
   "isGpuEnabled": false,
   "isInternetEnabled": true,
   "language": "python",
   "sourceType": "notebook"
  },
  "kernelspec": {
   "display_name": "Python 3",
   "language": "python",
   "name": "python3"
  },
  "language_info": {
   "codemirror_mode": {
    "name": "ipython",
    "version": 3
   },
   "file_extension": ".py",
   "mimetype": "text/x-python",
   "name": "python",
   "nbconvert_exporter": "python",
   "pygments_lexer": "ipython3",
   "version": "3.11.13"
  },
  "papermill": {
   "default_parameters": {},
   "duration": 6.830408,
   "end_time": "2025-07-26T11:41:02.262612",
   "environment_variables": {},
   "exception": true,
   "input_path": "__notebook__.ipynb",
   "output_path": "__notebook__.ipynb",
   "parameters": {},
   "start_time": "2025-07-26T11:40:55.432204",
   "version": "2.6.0"
  }
 },
 "nbformat": 4,
 "nbformat_minor": 5
}
