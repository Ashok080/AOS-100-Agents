{
 "cells": [
  {
   "cell_type": "code",
   "execution_count": 1,
   "id": "b87f4f94",
   "metadata": {
    "_cell_guid": "b1076dfc-b9ad-4769-8c92-a6c4dae69d19",
    "_uuid": "8f2839f25d086af736a60e9eeb907d3b93b6e0e5",
    "execution": {
     "iopub.execute_input": "2025-07-27T03:42:19.951908Z",
     "iopub.status.busy": "2025-07-27T03:42:19.951499Z",
     "iopub.status.idle": "2025-07-27T03:42:22.528777Z",
     "shell.execute_reply": "2025-07-27T03:42:22.527726Z"
    },
    "papermill": {
     "duration": 2.58371,
     "end_time": "2025-07-27T03:42:22.530974",
     "exception": false,
     "start_time": "2025-07-27T03:42:19.947264",
     "status": "completed"
    },
    "tags": []
   },
   "outputs": [],
   "source": [
    "# This Python 3 environment comes with many helpful analytics libraries installed\n",
    "# It is defined by the kaggle/python Docker image: https://github.com/kaggle/docker-python\n",
    "# For example, here's several helpful packages to load\n",
    "\n",
    "import numpy as np # linear algebra\n",
    "import pandas as pd # data processing, CSV file I/O (e.g. pd.read_csv)\n",
    "\n",
    "# Input data files are available in the read-only \"../input/\" directory\n",
    "# For example, running this (by clicking run or pressing Shift+Enter) will list all files under the input directory\n",
    "\n",
    "import os\n",
    "for dirname, _, filenames in os.walk('/kaggle/input'):\n",
    "    for filename in filenames:\n",
    "        print(os.path.join(dirname, filename))\n",
    "\n",
    "# You can write up to 20GB to the current directory (/kaggle/working/) that gets preserved as output when you create a version using \"Save & Run All\" \n",
    "# You can also write temporary files to /kaggle/temp/, but they won't be saved outside of the current session"
   ]
  },
  {
   "cell_type": "code",
   "execution_count": 2,
   "id": "738ec450",
   "metadata": {
    "execution": {
     "iopub.execute_input": "2025-07-27T03:42:22.537357Z",
     "iopub.status.busy": "2025-07-27T03:42:22.536786Z",
     "iopub.status.idle": "2025-07-27T03:42:22.547919Z",
     "shell.execute_reply": "2025-07-27T03:42:22.546488Z"
    },
    "papermill": {
     "duration": 0.016537,
     "end_time": "2025-07-27T03:42:22.549777",
     "exception": true,
     "start_time": "2025-07-27T03:42:22.533240",
     "status": "failed"
    },
    "tags": []
   },
   "outputs": [
    {
     "ename": "SyntaxError",
     "evalue": "invalid character '🧪' (U+1F9EA) (2869083597.py, line 50)",
     "output_type": "error",
     "traceback": [
      "\u001b[0;36m  File \u001b[0;32m\"/tmp/ipykernel_13/2869083597.py\"\u001b[0;36m, line \u001b[0;32m50\u001b[0m\n\u001b[0;31m    🧪 Example Output (GPT-4):\u001b[0m\n\u001b[0m    ^\u001b[0m\n\u001b[0;31mSyntaxError\u001b[0m\u001b[0;31m:\u001b[0m invalid character '🧪' (U+1F9EA)\n"
     ]
    }
   ],
   "source": [
    "# AGS 058: Cognitive Chain-of-Thought in Narrative Tasks\n",
    "\n",
    "# 📦 Step 1: Import Libraries\n",
    "import openai\n",
    "import os\n",
    "\n",
    "# 🔑 Step 2: Set OpenAI Key\n",
    "openai.api_key = \"sk-...\"  # 🔒 Replace with your OpenAI API key\n",
    "\n",
    "# 📚 Step 3: Define Story and Question\n",
    "story = \"\"\"\n",
    "Once upon a time in a forest, a rabbit and a turtle agreed to race.\n",
    "The rabbit sprinted ahead quickly and took a nap midway, confident of his speed.\n",
    "The turtle moved slowly but steadily without stopping.\n",
    "Eventually, the turtle passed the sleeping rabbit and won the race.\n",
    "\"\"\"\n",
    "\n",
    "question = \"Why did the turtle win the race?\"\n",
    "\n",
    "# 🧠 Step 4: Define Chain-of-Thought Prompt\n",
    "prompt = f\"\"\"\n",
    "Read the story and answer the question step-by-step.\n",
    "\n",
    "Story:\n",
    "{story}\n",
    "\n",
    "Question:\n",
    "{question}\n",
    "\n",
    "Let's think step-by-step:\n",
    "\"\"\"\n",
    "\n",
    "# 🤖 Step 5: Call OpenAI (GPT-4 or GPT-3.5)\n",
    "response = openai.ChatCompletion.create(\n",
    "    model=\"gpt-4\",\n",
    "    messages=[\n",
    "        {\"role\": \"user\", \"content\": prompt}\n",
    "    ],\n",
    "    temperature=0.7,\n",
    "    max_tokens=200\n",
    ")\n",
    "\n",
    "# 📝 Step 6: Show Reasoning Output\n",
    "answer = response['choices'][0]['message']['content']\n",
    "print(\"Chain-of-Thought Answer:\\n\", answer)\n",
    "\n",
    "\n",
    "---\n",
    "\n",
    "🧪 Example Output (GPT-4):\n",
    "\n",
    "Chain-of-Thought Answer:\n",
    "1. The rabbit was faster and initially took the lead.\n",
    "2. However, the rabbit became overconfident and took a nap.\n",
    "3. The turtle, although slow, did not stop and continued moving.\n",
    "4. While the rabbit was asleep, the turtle overtook him.\n",
    "5. By the time the rabbit woke up, the turtle had already finished the race.\n",
    "Therefore, the turtle won due to his persistence and the rabbit's overconfidence."
   ]
  }
 ],
 "metadata": {
  "kaggle": {
   "accelerator": "none",
   "dataSources": [],
   "isGpuEnabled": false,
   "isInternetEnabled": true,
   "language": "python",
   "sourceType": "notebook"
  },
  "kernelspec": {
   "display_name": "Python 3",
   "language": "python",
   "name": "python3"
  },
  "language_info": {
   "codemirror_mode": {
    "name": "ipython",
    "version": 3
   },
   "file_extension": ".py",
   "mimetype": "text/x-python",
   "name": "python",
   "nbconvert_exporter": "python",
   "pygments_lexer": "ipython3",
   "version": "3.11.13"
  },
  "papermill": {
   "default_parameters": {},
   "duration": 9.608118,
   "end_time": "2025-07-27T03:42:23.175351",
   "environment_variables": {},
   "exception": true,
   "input_path": "__notebook__.ipynb",
   "output_path": "__notebook__.ipynb",
   "parameters": {},
   "start_time": "2025-07-27T03:42:13.567233",
   "version": "2.6.0"
  }
 },
 "nbformat": 4,
 "nbformat_minor": 5
}
