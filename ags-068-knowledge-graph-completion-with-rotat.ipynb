{
 "cells": [
  {
   "cell_type": "code",
   "execution_count": 1,
   "id": "074d8e71",
   "metadata": {
    "_cell_guid": "b1076dfc-b9ad-4769-8c92-a6c4dae69d19",
    "_uuid": "8f2839f25d086af736a60e9eeb907d3b93b6e0e5",
    "execution": {
     "iopub.execute_input": "2025-07-27T04:14:19.955015Z",
     "iopub.status.busy": "2025-07-27T04:14:19.954635Z",
     "iopub.status.idle": "2025-07-27T04:14:21.714572Z",
     "shell.execute_reply": "2025-07-27T04:14:21.713679Z"
    },
    "papermill": {
     "duration": 1.764959,
     "end_time": "2025-07-27T04:14:21.716353",
     "exception": false,
     "start_time": "2025-07-27T04:14:19.951394",
     "status": "completed"
    },
    "tags": []
   },
   "outputs": [],
   "source": [
    "# This Python 3 environment comes with many helpful analytics libraries installed\n",
    "# It is defined by the kaggle/python Docker image: https://github.com/kaggle/docker-python\n",
    "# For example, here's several helpful packages to load\n",
    "\n",
    "import numpy as np # linear algebra\n",
    "import pandas as pd # data processing, CSV file I/O (e.g. pd.read_csv)\n",
    "\n",
    "# Input data files are available in the read-only \"../input/\" directory\n",
    "# For example, running this (by clicking run or pressing Shift+Enter) will list all files under the input directory\n",
    "\n",
    "import os\n",
    "for dirname, _, filenames in os.walk('/kaggle/input'):\n",
    "    for filename in filenames:\n",
    "        print(os.path.join(dirname, filename))\n",
    "\n",
    "# You can write up to 20GB to the current directory (/kaggle/working/) that gets preserved as output when you create a version using \"Save & Run All\" \n",
    "# You can also write temporary files to /kaggle/temp/, but they won't be saved outside of the current session"
   ]
  },
  {
   "cell_type": "code",
   "execution_count": 2,
   "id": "de300cc2",
   "metadata": {
    "execution": {
     "iopub.execute_input": "2025-07-27T04:14:21.721287Z",
     "iopub.status.busy": "2025-07-27T04:14:21.720489Z",
     "iopub.status.idle": "2025-07-27T04:14:21.730957Z",
     "shell.execute_reply": "2025-07-27T04:14:21.729872Z"
    },
    "papermill": {
     "duration": 0.01391,
     "end_time": "2025-07-27T04:14:21.732104",
     "exception": true,
     "start_time": "2025-07-27T04:14:21.718194",
     "status": "failed"
    },
    "tags": []
   },
   "outputs": [
    {
     "ename": "SyntaxError",
     "evalue": "invalid character '🧠' (U+1F9E0) (717374902.py, line 43)",
     "output_type": "error",
     "traceback": [
      "\u001b[0;36m  File \u001b[0;32m\"/tmp/ipykernel_13/717374902.py\"\u001b[0;36m, line \u001b[0;32m43\u001b[0m\n\u001b[0;31m    🧠 Example Query:\u001b[0m\n\u001b[0m    ^\u001b[0m\n\u001b[0;31mSyntaxError\u001b[0m\u001b[0;31m:\u001b[0m invalid character '🧠' (U+1F9E0)\n"
     ]
    }
   ],
   "source": [
    "# AGS 068 – Knowledge Graph Completion using RotatE with FB15k-237\n",
    "\n",
    "!pip install openke -q  # or use PyTorch-BigGraph or DGL-KE for newer systems\n",
    "\n",
    "from openke.config import Trainer, Tester\n",
    "from openke.module.model import RotatE\n",
    "from openke.module.loss import SigmoidLoss\n",
    "from openke.module.strategy import NegativeSampling\n",
    "from openke.data import TrainDataLoader, TestDataLoader\n",
    "\n",
    "# 🔧 DataLoader for FB15k-237\n",
    "train_dataloader = TrainDataLoader(\n",
    "    in_path = \"./FB15k-237/\", \n",
    "    nbatches = 100,\n",
    "    threads = 8, \n",
    "    sampling_mode = \"normal\", \n",
    "    bern_flag = 1, \n",
    "    filter_flag = 1, \n",
    "    neg_ent = 25,\n",
    "    neg_rel = 0\n",
    ")\n",
    "\n",
    "# 🧠 Define the RotatE Model\n",
    "rotate = RotatE(\n",
    "    ent_tot = train_dataloader.get_ent_tot(),\n",
    "    rel_tot = train_dataloader.get_rel_tot(),\n",
    "    dim = 512,\n",
    "    margin = 6.0,\n",
    "    epsilon = 2.0\n",
    ")\n",
    "\n",
    "model = NegativeSampling(model = rotate, loss = SigmoidLoss(), batch_size = train_dataloader.get_batch_size())\n",
    "\n",
    "# 🚀 Train\n",
    "trainer = Trainer(model = model, data_loader = train_dataloader, train_times = 1000, alpha = 2e-5, use_gpu = True)\n",
    "trainer.run()\n",
    "\n",
    "# 🧪 Test\n",
    "test_dataloader = TestDataLoader(\"./FB15k-237/\", \"link\")\n",
    "tester = Tester(model = rotate, data_loader = test_dataloader, use_gpu = True)\n",
    "tester.run_link_prediction(type_constrain = False)\n",
    "\n",
    "🧠 Example Query:\n",
    "\n",
    "(Barack_Obama, ?, United_States) → Predict likely relations.\n",
    "\n",
    "(Google, founded_by, ?) → Predict missing entity."
   ]
  }
 ],
 "metadata": {
  "kaggle": {
   "accelerator": "none",
   "dataSources": [],
   "isGpuEnabled": false,
   "isInternetEnabled": true,
   "language": "python",
   "sourceType": "notebook"
  },
  "kernelspec": {
   "display_name": "Python 3",
   "language": "python",
   "name": "python3"
  },
  "language_info": {
   "codemirror_mode": {
    "name": "ipython",
    "version": 3
   },
   "file_extension": ".py",
   "mimetype": "text/x-python",
   "name": "python",
   "nbconvert_exporter": "python",
   "pygments_lexer": "ipython3",
   "version": "3.11.13"
  },
  "papermill": {
   "default_parameters": {},
   "duration": 7.022187,
   "end_time": "2025-07-27T04:14:22.253474",
   "environment_variables": {},
   "exception": true,
   "input_path": "__notebook__.ipynb",
   "output_path": "__notebook__.ipynb",
   "parameters": {},
   "start_time": "2025-07-27T04:14:15.231287",
   "version": "2.6.0"
  }
 },
 "nbformat": 4,
 "nbformat_minor": 5
}
