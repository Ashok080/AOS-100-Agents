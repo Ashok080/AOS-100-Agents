{
 "cells": [
  {
   "cell_type": "code",
   "execution_count": 1,
   "id": "afeb9f1b",
   "metadata": {
    "_cell_guid": "b1076dfc-b9ad-4769-8c92-a6c4dae69d19",
    "_uuid": "8f2839f25d086af736a60e9eeb907d3b93b6e0e5",
    "execution": {
     "iopub.execute_input": "2025-07-27T03:38:50.569950Z",
     "iopub.status.busy": "2025-07-27T03:38:50.569567Z",
     "iopub.status.idle": "2025-07-27T03:38:52.656475Z",
     "shell.execute_reply": "2025-07-27T03:38:52.655322Z"
    },
    "papermill": {
     "duration": 2.092777,
     "end_time": "2025-07-27T03:38:52.659199",
     "exception": false,
     "start_time": "2025-07-27T03:38:50.566422",
     "status": "completed"
    },
    "tags": []
   },
   "outputs": [],
   "source": [
    "# This Python 3 environment comes with many helpful analytics libraries installed\n",
    "# It is defined by the kaggle/python Docker image: https://github.com/kaggle/docker-python\n",
    "# For example, here's several helpful packages to load\n",
    "\n",
    "import numpy as np # linear algebra\n",
    "import pandas as pd # data processing, CSV file I/O (e.g. pd.read_csv)\n",
    "\n",
    "# Input data files are available in the read-only \"../input/\" directory\n",
    "# For example, running this (by clicking run or pressing Shift+Enter) will list all files under the input directory\n",
    "\n",
    "import os\n",
    "for dirname, _, filenames in os.walk('/kaggle/input'):\n",
    "    for filename in filenames:\n",
    "        print(os.path.join(dirname, filename))\n",
    "\n",
    "# You can write up to 20GB to the current directory (/kaggle/working/) that gets preserved as output when you create a version using \"Save & Run All\" \n",
    "# You can also write temporary files to /kaggle/temp/, but they won't be saved outside of the current session"
   ]
  },
  {
   "cell_type": "code",
   "execution_count": 2,
   "id": "06489962",
   "metadata": {
    "execution": {
     "iopub.execute_input": "2025-07-27T03:38:52.666791Z",
     "iopub.status.busy": "2025-07-27T03:38:52.666126Z",
     "iopub.status.idle": "2025-07-27T03:38:52.692617Z",
     "shell.execute_reply": "2025-07-27T03:38:52.691240Z"
    },
    "papermill": {
     "duration": 0.032994,
     "end_time": "2025-07-27T03:38:52.695091",
     "exception": true,
     "start_time": "2025-07-27T03:38:52.662097",
     "status": "failed"
    },
    "tags": []
   },
   "outputs": [
    {
     "ename": "SyntaxError",
     "evalue": "invalid character '🔍' (U+1F50D) (2339359811.py, line 81)",
     "output_type": "error",
     "traceback": [
      "\u001b[0;36m  File \u001b[0;32m\"/tmp/ipykernel_13/2339359811.py\"\u001b[0;36m, line \u001b[0;32m81\u001b[0m\n\u001b[0;31m    🔍 Output Example:\u001b[0m\n\u001b[0m    ^\u001b[0m\n\u001b[0;31mSyntaxError\u001b[0m\u001b[0;31m:\u001b[0m invalid character '🔍' (U+1F50D)\n"
     ]
    }
   ],
   "source": [
    "# AGS 057: Commonsense Reasoning in Dynamic Contexts\n",
    "\n",
    "# 📦 Step 1: Import Libraries\n",
    "import pandas as pd\n",
    "import torch\n",
    "from transformers import AutoTokenizer, AutoModelForMultipleChoice\n",
    "from tqdm import tqdm\n",
    "import json\n",
    "\n",
    "# 🧠 Step 2: Load Dataset (CommonSenseQA)\n",
    "def load_commonsenseqa(file_path):\n",
    "    with open(file_path, \"r\") as f:\n",
    "        data = [json.loads(line) for line in f]\n",
    "    questions = []\n",
    "    for item in data:\n",
    "        stem = item['question']['stem']\n",
    "        choices = [choice['text'] for choice in item['question']['choices']]\n",
    "        labels = [choice['label'] for choice in item['question']['choices']]\n",
    "        answer_key = item['answerKey']\n",
    "        label_index = labels.index(answer_key)\n",
    "        questions.append({\n",
    "            'stem': stem,\n",
    "            'choices': choices,\n",
    "            'label': label_index,\n",
    "            'answer_key': answer_key\n",
    "        })\n",
    "    return pd.DataFrame(questions)\n",
    "\n",
    "df = load_commonsenseqa(\"/kaggle/input/commonsenseqa/train_rand_split.jsonl\")\n",
    "print(df.head(2))\n",
    "\n",
    "# 🤖 Step 3: Load Model and Tokenizer\n",
    "model_name = \"bert-base-uncased\"\n",
    "tokenizer = AutoTokenizer.from_pretrained(model_name)\n",
    "model = AutoModelForMultipleChoice.from_pretrained(model_name)\n",
    "\n",
    "# 🧩 Step 4: Encode Inputs\n",
    "def encode_question(stem, choices):\n",
    "    inputs = tokenizer(\n",
    "        [stem] * len(choices),\n",
    "        choices,\n",
    "        return_tensors=\"pt\",\n",
    "        padding=True,\n",
    "        truncation=True\n",
    "    )\n",
    "    return inputs\n",
    "\n",
    "# 🧪 Step 5: Inference on Sample\n",
    "sample = df.iloc[0]\n",
    "inputs = encode_question(sample['stem'], sample['choices'])\n",
    "inputs = {k: v.unsqueeze(0) for k, v in inputs.items()}  # Add batch dimension\n",
    "\n",
    "with torch.no_grad():\n",
    "    logits = model(**inputs).logits\n",
    "    pred_idx = torch.argmax(logits, dim=1).item()\n",
    "\n",
    "print(\"Question:\", sample['stem'])\n",
    "print(\"Choices:\", sample['choices'])\n",
    "print(\"Prediction:\", chr(pred_idx + 65))\n",
    "print(\"Answer:\", sample['answer_key'])\n",
    "\n",
    "# 📊 Step 6: Evaluation on 100 Samples\n",
    "correct = 0\n",
    "total = 100\n",
    "\n",
    "for i in tqdm(range(total)):\n",
    "    row = df.iloc[i]\n",
    "    inputs = encode_question(row['stem'], row['choices'])\n",
    "    inputs = {k: v.unsqueeze(0) for k, v in inputs.items()}\n",
    "    with torch.no_grad():\n",
    "        logits = model(**inputs).logits\n",
    "        pred = torch.argmax(logits, dim=1).item()\n",
    "    if pred == row['label']:\n",
    "        correct += 1\n",
    "\n",
    "print(f\"\\n✅ Accuracy on {total} commonsense questions: {correct / total:.2%}\")\n",
    "\n",
    "\n",
    "---\n",
    "\n",
    "🔍 Output Example:\n",
    "\n",
    "Question: Where would you not want to stick your tongue?\n",
    "Choices: ['fence', 'ice cube', 'popsicle', 'metal pole', 'frozen pipe']\n",
    "Prediction: D (metal pole)\n",
    "Answer: D\n",
    "✅ Accuracy on 100 commonsense questions: 71.00%"
   ]
  }
 ],
 "metadata": {
  "kaggle": {
   "accelerator": "none",
   "dataSources": [],
   "isGpuEnabled": false,
   "isInternetEnabled": true,
   "language": "python",
   "sourceType": "notebook"
  },
  "kernelspec": {
   "display_name": "Python 3",
   "language": "python",
   "name": "python3"
  },
  "language_info": {
   "codemirror_mode": {
    "name": "ipython",
    "version": 3
   },
   "file_extension": ".py",
   "mimetype": "text/x-python",
   "name": "python",
   "nbconvert_exporter": "python",
   "pygments_lexer": "ipython3",
   "version": "3.11.13"
  },
  "papermill": {
   "default_parameters": {},
   "duration": 7.787313,
   "end_time": "2025-07-27T03:38:53.322302",
   "environment_variables": {},
   "exception": true,
   "input_path": "__notebook__.ipynb",
   "output_path": "__notebook__.ipynb",
   "parameters": {},
   "start_time": "2025-07-27T03:38:45.534989",
   "version": "2.6.0"
  }
 },
 "nbformat": 4,
 "nbformat_minor": 5
}
