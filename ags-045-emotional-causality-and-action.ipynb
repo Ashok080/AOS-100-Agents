{
 "cells": [
  {
   "cell_type": "code",
   "execution_count": 1,
   "id": "d50a77d0",
   "metadata": {
    "_cell_guid": "b1076dfc-b9ad-4769-8c92-a6c4dae69d19",
    "_uuid": "8f2839f25d086af736a60e9eeb907d3b93b6e0e5",
    "execution": {
     "iopub.execute_input": "2025-07-26T15:04:20.193445Z",
     "iopub.status.busy": "2025-07-26T15:04:20.193075Z",
     "iopub.status.idle": "2025-07-26T15:04:22.306097Z",
     "shell.execute_reply": "2025-07-26T15:04:22.305120Z"
    },
    "papermill": {
     "duration": 2.118624,
     "end_time": "2025-07-26T15:04:22.308369",
     "exception": false,
     "start_time": "2025-07-26T15:04:20.189745",
     "status": "completed"
    },
    "tags": []
   },
   "outputs": [],
   "source": [
    "# This Python 3 environment comes with many helpful analytics libraries installed\n",
    "# It is defined by the kaggle/python Docker image: https://github.com/kaggle/docker-python\n",
    "# For example, here's several helpful packages to load\n",
    "\n",
    "import numpy as np # linear algebra\n",
    "import pandas as pd # data processing, CSV file I/O (e.g. pd.read_csv)\n",
    "\n",
    "# Input data files are available in the read-only \"../input/\" directory\n",
    "# For example, running this (by clicking run or pressing Shift+Enter) will list all files under the input directory\n",
    "\n",
    "import os\n",
    "for dirname, _, filenames in os.walk('/kaggle/input'):\n",
    "    for filename in filenames:\n",
    "        print(os.path.join(dirname, filename))\n",
    "\n",
    "# You can write up to 20GB to the current directory (/kaggle/working/) that gets preserved as output when you create a version using \"Save & Run All\" \n",
    "# You can also write temporary files to /kaggle/temp/, but they won't be saved outside of the current session"
   ]
  },
  {
   "cell_type": "code",
   "execution_count": 2,
   "id": "97c7da84",
   "metadata": {
    "execution": {
     "iopub.execute_input": "2025-07-26T15:04:22.313284Z",
     "iopub.status.busy": "2025-07-26T15:04:22.312856Z",
     "iopub.status.idle": "2025-07-26T15:04:22.410448Z",
     "shell.execute_reply": "2025-07-26T15:04:22.409105Z"
    },
    "papermill": {
     "duration": 0.101777,
     "end_time": "2025-07-26T15:04:22.412098",
     "exception": true,
     "start_time": "2025-07-26T15:04:22.310321",
     "status": "failed"
    },
    "tags": []
   },
   "outputs": [
    {
     "ename": "ModuleNotFoundError",
     "evalue": "No module named 'AGS'",
     "output_type": "error",
     "traceback": [
      "\u001b[0;31m---------------------------------------------------------------------------\u001b[0m",
      "\u001b[0;31mModuleNotFoundError\u001b[0m                       Traceback (most recent call last)",
      "\u001b[0;32m/tmp/ipykernel_13/120367942.py\u001b[0m in \u001b[0;36m<cell line: 0>\u001b[0;34m()\u001b[0m\n\u001b[1;32m     17\u001b[0m \"\"\"\n\u001b[1;32m     18\u001b[0m \u001b[0;34m\u001b[0m\u001b[0m\n\u001b[0;32m---> 19\u001b[0;31m \u001b[0;32mfrom\u001b[0m \u001b[0mAGS\u001b[0m\u001b[0;34m.\u001b[0m\u001b[0memotion\u001b[0m \u001b[0;32mimport\u001b[0m \u001b[0mEmotionalCausalityEngine\u001b[0m\u001b[0;34m\u001b[0m\u001b[0;34m\u001b[0m\u001b[0m\n\u001b[0m\u001b[1;32m     20\u001b[0m \u001b[0;32mfrom\u001b[0m \u001b[0mAGS\u001b[0m\u001b[0;34m.\u001b[0m\u001b[0mmemory\u001b[0m \u001b[0;32mimport\u001b[0m \u001b[0mEmotionalMemory\u001b[0m\u001b[0;34m\u001b[0m\u001b[0;34m\u001b[0m\u001b[0m\n\u001b[1;32m     21\u001b[0m \u001b[0;32mfrom\u001b[0m \u001b[0mAGS\u001b[0m\u001b[0;34m.\u001b[0m\u001b[0mconfig\u001b[0m \u001b[0;32mimport\u001b[0m \u001b[0mAGSConfig\u001b[0m\u001b[0;34m\u001b[0m\u001b[0;34m\u001b[0m\u001b[0m\n",
      "\u001b[0;31mModuleNotFoundError\u001b[0m: No module named 'AGS'"
     ]
    }
   ],
   "source": [
    "# AGS 045 – Emotional Causality and Action\n",
    "\n",
    "\"\"\"\n",
    "This notebook explores how the AGS system models emotional causality:\n",
    "How emotions influence actions and how actions cause emotional responses.\n",
    "\n",
    "Example:\n",
    "- Situation: \"The child lost their toy.\"\n",
    "- Emotion: \"Sadness\"\n",
    "- Likely Action: \"The child cries\" or \"searches for the toy\"\n",
    "\n",
    "Dataset Format:\n",
    "[\n",
    "    {\"situation\": \"The child lost their toy.\", \"emotion\": \"Sadness\", \"action\": \"The child cries\"},\n",
    "    {\"situation\": \"Won a prize\", \"emotion\": \"Happiness\", \"action\": \"Jumps in joy\"}\n",
    "]\n",
    "\"\"\"\n",
    "\n",
    "from AGS.emotion import EmotionalCausalityEngine\n",
    "from AGS.memory import EmotionalMemory\n",
    "from AGS.config import AGSConfig\n",
    "\n",
    "# Config\n",
    "config = AGSConfig()\n",
    "ememory = EmotionalMemory()\n",
    "emotion_engine = EmotionalCausalityEngine(memory=ememory)\n",
    "\n",
    "# Sample input\n",
    "situation = \"The child lost their toy.\"\n",
    "emotion = emotion_engine.infer_emotion(situation)\n",
    "action = emotion_engine.predict_action(situation, emotion)\n",
    "\n",
    "print(\"Situation:\", situation)\n",
    "print(\"Inferred Emotion:\", emotion)\n",
    "print(\"Predicted Action:\", action)"
   ]
  }
 ],
 "metadata": {
  "kaggle": {
   "accelerator": "none",
   "dataSources": [],
   "isGpuEnabled": false,
   "isInternetEnabled": true,
   "language": "python",
   "sourceType": "notebook"
  },
  "kernelspec": {
   "display_name": "Python 3",
   "language": "python",
   "name": "python3"
  },
  "language_info": {
   "codemirror_mode": {
    "name": "ipython",
    "version": 3
   },
   "file_extension": ".py",
   "mimetype": "text/x-python",
   "name": "python",
   "nbconvert_exporter": "python",
   "pygments_lexer": "ipython3",
   "version": "3.11.13"
  },
  "papermill": {
   "default_parameters": {},
   "duration": 8.07604,
   "end_time": "2025-07-26T15:04:22.933956",
   "environment_variables": {},
   "exception": true,
   "input_path": "__notebook__.ipynb",
   "output_path": "__notebook__.ipynb",
   "parameters": {},
   "start_time": "2025-07-26T15:04:14.857916",
   "version": "2.6.0"
  }
 },
 "nbformat": 4,
 "nbformat_minor": 5
}
