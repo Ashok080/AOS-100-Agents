{
 "cells": [
  {
   "cell_type": "code",
   "execution_count": 1,
   "id": "a5b5c10c",
   "metadata": {
    "_cell_guid": "b1076dfc-b9ad-4769-8c92-a6c4dae69d19",
    "_uuid": "8f2839f25d086af736a60e9eeb907d3b93b6e0e5",
    "execution": {
     "iopub.execute_input": "2025-07-26T11:20:28.821425Z",
     "iopub.status.busy": "2025-07-26T11:20:28.821047Z",
     "iopub.status.idle": "2025-07-26T11:20:30.854040Z",
     "shell.execute_reply": "2025-07-26T11:20:30.853078Z"
    },
    "papermill": {
     "duration": 2.038622,
     "end_time": "2025-07-26T11:20:30.855985",
     "exception": false,
     "start_time": "2025-07-26T11:20:28.817363",
     "status": "completed"
    },
    "tags": []
   },
   "outputs": [],
   "source": [
    "# This Python 3 environment comes with many helpful analytics libraries installed\n",
    "# It is defined by the kaggle/python Docker image: https://github.com/kaggle/docker-python\n",
    "# For example, here's several helpful packages to load\n",
    "\n",
    "import numpy as np # linear algebra\n",
    "import pandas as pd # data processing, CSV file I/O (e.g. pd.read_csv)\n",
    "\n",
    "# Input data files are available in the read-only \"../input/\" directory\n",
    "# For example, running this (by clicking run or pressing Shift+Enter) will list all files under the input directory\n",
    "\n",
    "import os\n",
    "for dirname, _, filenames in os.walk('/kaggle/input'):\n",
    "    for filename in filenames:\n",
    "        print(os.path.join(dirname, filename))\n",
    "\n",
    "# You can write up to 20GB to the current directory (/kaggle/working/) that gets preserved as output when you create a version using \"Save & Run All\" \n",
    "# You can also write temporary files to /kaggle/temp/, but they won't be saved outside of the current session"
   ]
  },
  {
   "cell_type": "code",
   "execution_count": 2,
   "id": "82fa1335",
   "metadata": {
    "execution": {
     "iopub.execute_input": "2025-07-26T11:20:30.862260Z",
     "iopub.status.busy": "2025-07-26T11:20:30.861772Z",
     "iopub.status.idle": "2025-07-26T11:20:30.872675Z",
     "shell.execute_reply": "2025-07-26T11:20:30.871201Z"
    },
    "papermill": {
     "duration": 0.01551,
     "end_time": "2025-07-26T11:20:30.874433",
     "exception": true,
     "start_time": "2025-07-26T11:20:30.858923",
     "status": "failed"
    },
    "tags": []
   },
   "outputs": [
    {
     "ename": "SyntaxError",
     "evalue": "invalid character '📊' (U+1F4CA) (4105278061.py, line 24)",
     "output_type": "error",
     "traceback": [
      "\u001b[0;36m  File \u001b[0;32m\"/tmp/ipykernel_13/4105278061.py\"\u001b[0;36m, line \u001b[0;32m24\u001b[0m\n\u001b[0;31m    📊 Moral Dilemma Types\u001b[0m\n\u001b[0m    ^\u001b[0m\n\u001b[0;31mSyntaxError\u001b[0m\u001b[0;31m:\u001b[0m invalid character '📊' (U+1F4CA)\n"
     ]
    }
   ],
   "source": [
    "# AGS 005 – Moral & Ethical Reasoning Dataset\n",
    "\n",
    "# 🧠 Purpose: Train AGS agents to reason about moral dilemmas and ethical behavior.\n",
    "\n",
    "import pandas as pd\n",
    "import matplotlib.pyplot as plt\n",
    "import seaborn as sns\n",
    "from wordcloud import WordCloud\n",
    "import json\n",
    "\n",
    "# ✅ Load dataset from uploaded file (upload on Kaggle manually)\n",
    "with open('/kaggle/input/ags-005-moral-ethical-reasoning/ags_005_moral_ethical_reasoning.json', 'r') as f:\n",
    "    data = json.load(f)\n",
    "\n",
    "# Convert to DataFrame\n",
    "df = pd.DataFrame(data)\n",
    "\n",
    "# 🔍 Preview\n",
    "df.head()\n",
    "\n",
    "\n",
    "\n",
    "\n",
    "📊 Moral Dilemma Types\n",
    "\n",
    "plt.figure(figsize=(10, 5))\n",
    "sns.countplot(data=df, x='dilemma_type', order=df['dilemma_type'].value_counts().index, palette='Set3')\n",
    "plt.xticks(rotation=45)\n",
    "plt.title('Types of Moral Dilemmas')\n",
    "plt.tight_layout()\n",
    "plt.show()\n",
    "\n",
    "\n",
    "\n",
    "\n",
    "☁️ Word Cloud of Scenarios\n",
    "\n",
    "text = ' '.join(df['situation'])\n",
    "wordcloud = WordCloud(width=800, height=400, background_color='white').generate(text)\n",
    "\n",
    "plt.figure(figsize=(12, 6))\n",
    "plt.imshow(wordcloud, interpolation='bilinear')\n",
    "plt.axis('off')\n",
    "plt.title('Word Cloud of Moral Situations')\n",
    "plt.show()\n",
    "\n",
    "\n",
    "\n",
    "\n",
    "📌 Sample Moral Reasoning Prompt\n",
    "\n",
    "sample = df.sample(1).iloc[0]\n",
    "\n",
    "print(\"🧩 Situation:\", sample['situation'])\n",
    "print(\"❓ Question:\", sample['question'])\n",
    "print(\"✅ Ideal Response:\", sample['answer'])\n",
    "print(\"🧭 Dilemma Type:\", sample['dilemma_type'])\n",
    "\n",
    "\n",
    "\n",
    "\n",
    "✅ Summary\n",
    "\n",
    "This notebook is part of the AGS (Artificial General System) training modules.\n",
    "\n",
    "- Trains AGI/AGS on ethics and moral decision-making\n",
    "- Enables AGS agents to navigate complex social and ethical decisions\n",
    "- Part of human-aligned reasoning foundation\n",
    "\n",
    "🔗 Dataset path: `ags_005_moral_ethical_reasoning.json`"
   ]
  }
 ],
 "metadata": {
  "kaggle": {
   "accelerator": "none",
   "dataSources": [],
   "dockerImageVersionId": 31089,
   "isGpuEnabled": false,
   "isInternetEnabled": true,
   "language": "python",
   "sourceType": "notebook"
  },
  "kernelspec": {
   "display_name": "Python 3",
   "language": "python",
   "name": "python3"
  },
  "language_info": {
   "codemirror_mode": {
    "name": "ipython",
    "version": 3
   },
   "file_extension": ".py",
   "mimetype": "text/x-python",
   "name": "python",
   "nbconvert_exporter": "python",
   "pygments_lexer": "ipython3",
   "version": "3.11.13"
  },
  "papermill": {
   "default_parameters": {},
   "duration": 7.64676,
   "end_time": "2025-07-26T11:20:31.397938",
   "environment_variables": {},
   "exception": true,
   "input_path": "__notebook__.ipynb",
   "output_path": "__notebook__.ipynb",
   "parameters": {},
   "start_time": "2025-07-26T11:20:23.751178",
   "version": "2.6.0"
  }
 },
 "nbformat": 4,
 "nbformat_minor": 5
}
