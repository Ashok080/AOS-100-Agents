{
 "cells": [
  {
   "cell_type": "code",
   "execution_count": 1,
   "id": "f9842b3f",
   "metadata": {
    "_cell_guid": "b1076dfc-b9ad-4769-8c92-a6c4dae69d19",
    "_uuid": "8f2839f25d086af736a60e9eeb907d3b93b6e0e5",
    "execution": {
     "iopub.execute_input": "2025-07-26T12:46:39.403761Z",
     "iopub.status.busy": "2025-07-26T12:46:39.402689Z",
     "iopub.status.idle": "2025-07-26T12:46:41.142481Z",
     "shell.execute_reply": "2025-07-26T12:46:41.141694Z"
    },
    "papermill": {
     "duration": 1.744203,
     "end_time": "2025-07-26T12:46:41.144120",
     "exception": false,
     "start_time": "2025-07-26T12:46:39.399917",
     "status": "completed"
    },
    "tags": []
   },
   "outputs": [],
   "source": [
    "# This Python 3 environment comes with many helpful analytics libraries installed\n",
    "# It is defined by the kaggle/python Docker image: https://github.com/kaggle/docker-python\n",
    "# For example, here's several helpful packages to load\n",
    "\n",
    "import numpy as np # linear algebra\n",
    "import pandas as pd # data processing, CSV file I/O (e.g. pd.read_csv)\n",
    "\n",
    "# Input data files are available in the read-only \"../input/\" directory\n",
    "# For example, running this (by clicking run or pressing Shift+Enter) will list all files under the input directory\n",
    "\n",
    "import os\n",
    "for dirname, _, filenames in os.walk('/kaggle/input'):\n",
    "    for filename in filenames:\n",
    "        print(os.path.join(dirname, filename))\n",
    "\n",
    "# You can write up to 20GB to the current directory (/kaggle/working/) that gets preserved as output when you create a version using \"Save & Run All\" \n",
    "# You can also write temporary files to /kaggle/temp/, but they won't be saved outside of the current session"
   ]
  },
  {
   "cell_type": "code",
   "execution_count": 2,
   "id": "51de9870",
   "metadata": {
    "execution": {
     "iopub.execute_input": "2025-07-26T12:46:41.148235Z",
     "iopub.status.busy": "2025-07-26T12:46:41.147890Z",
     "iopub.status.idle": "2025-07-26T12:46:41.155951Z",
     "shell.execute_reply": "2025-07-26T12:46:41.155017Z"
    },
    "papermill": {
     "duration": 0.011537,
     "end_time": "2025-07-26T12:46:41.157304",
     "exception": true,
     "start_time": "2025-07-26T12:46:41.145767",
     "status": "failed"
    },
    "tags": []
   },
   "outputs": [
    {
     "ename": "SyntaxError",
     "evalue": "invalid character '🧭' (U+1F9ED) (1402286560.py, line 17)",
     "output_type": "error",
     "traceback": [
      "\u001b[0;36m  File \u001b[0;32m\"/tmp/ipykernel_13/1402286560.py\"\u001b[0;36m, line \u001b[0;32m17\u001b[0m\n\u001b[0;31m    🧭 Display a Random Moral Dilemma\u001b[0m\n\u001b[0m    ^\u001b[0m\n\u001b[0;31mSyntaxError\u001b[0m\u001b[0;31m:\u001b[0m invalid character '🧭' (U+1F9ED)\n"
     ]
    }
   ],
   "source": [
    "# AGS 026 – AGS Conscience Builder\n",
    "# 🧠 Goal: Help AGS simulate an inner voice for ethical decision-making\n",
    "\n",
    "import pandas as pd\n",
    "import json\n",
    "\n",
    "# ✅ Load conscience dataset (Upload as ags_026_conscience_builder.json)\n",
    "with open('/kaggle/input/ags-026-conscience-builder/ags_026_conscience_builder.json') as f:\n",
    "    data = json.load(f)\n",
    "\n",
    "df = pd.DataFrame(data)\n",
    "df.head()\n",
    "\n",
    "\n",
    "\n",
    "\n",
    "🧭 Display a Random Moral Dilemma\n",
    "\n",
    "sample = df.sample(1).iloc[0]\n",
    "\n",
    "print(\"📍 Situation:\", sample[\"situation\"])\n",
    "print(\"❓ Ethical Question:\", sample[\"question\"])\n",
    "print(\"✅ Conscience Says:\", sample[\"answer\"])\n",
    "print(\"🧠 Reasoning Type:\", sample[\"reasoning_type\"])\n",
    "\n",
    "\n",
    "\n",
    "\n",
    "📊 Ethical Reasoning Types Count\n",
    "\n",
    "import seaborn as sns\n",
    "import matplotlib.pyplot as plt\n",
    "\n",
    "plt.figure(figsize=(8, 5))\n",
    "sns.countplot(data=df, x='reasoning_type', palette='Set2')\n",
    "plt.title(\"Types of Ethical Reasoning Used by AGS\")\n",
    "plt.xlabel(\"Reasoning Type\")\n",
    "plt.ylabel(\"Frequency\")\n",
    "plt.xticks(rotation=45)\n",
    "plt.tight_layout()\n",
    "plt.show()\n",
    "\n",
    "\n",
    "\n",
    "\n",
    "📁 Sample JSON Format\n",
    "\n",
    "Save this as: ags_026_conscience_builder.json\n",
    "\n",
    "[\n",
    "  {\n",
    "    \"id\": \"con_001\",\n",
    "    \"situation\": \"You see a friend cheating on a test.\",\n",
    "    \"question\": \"Should you report it or stay silent?\",\n",
    "    \"answer\": \"Report it calmly to uphold fairness, even if it's uncomfortable.\",\n",
    "    \"reasoning_type\": \"moral integrity\"\n",
    "  },\n",
    "  {\n",
    "    \"id\": \"con_002\",\n",
    "    \"situation\": \"You find a wallet on the ground with cash and ID.\",\n",
    "    \"question\": \"What should you do?\",\n",
    "    \"answer\": \"Return it to the rightful owner using the ID information.\",\n",
    "    \"reasoning_type\": \"honesty\"\n",
    "  }\n",
    "]\n",
    "\n",
    "\n",
    "\n",
    "\n",
    "✅ Summary\n",
    "\n",
    "This notebook helps AGS:\n",
    "- Learn the role of conscience in decision-making\n",
    "- Simulate ethical reflection like a human inner voice\n",
    "- Identify patterns in moral reasoning"
   ]
  }
 ],
 "metadata": {
  "kaggle": {
   "accelerator": "none",
   "dataSources": [],
   "isGpuEnabled": false,
   "isInternetEnabled": true,
   "language": "python",
   "sourceType": "notebook"
  },
  "kernelspec": {
   "display_name": "Python 3",
   "language": "python",
   "name": "python3"
  },
  "language_info": {
   "codemirror_mode": {
    "name": "ipython",
    "version": 3
   },
   "file_extension": ".py",
   "mimetype": "text/x-python",
   "name": "python",
   "nbconvert_exporter": "python",
   "pygments_lexer": "ipython3",
   "version": "3.11.13"
  },
  "papermill": {
   "default_parameters": {},
   "duration": 6.810116,
   "end_time": "2025-07-26T12:46:41.577438",
   "environment_variables": {},
   "exception": true,
   "input_path": "__notebook__.ipynb",
   "output_path": "__notebook__.ipynb",
   "parameters": {},
   "start_time": "2025-07-26T12:46:34.767322",
   "version": "2.6.0"
  }
 },
 "nbformat": 4,
 "nbformat_minor": 5
}
