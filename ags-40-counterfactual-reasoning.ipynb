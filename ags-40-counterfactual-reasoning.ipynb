{
 "cells": [
  {
   "cell_type": "code",
   "execution_count": 1,
   "id": "3e47edb8",
   "metadata": {
    "_cell_guid": "b1076dfc-b9ad-4769-8c92-a6c4dae69d19",
    "_uuid": "8f2839f25d086af736a60e9eeb907d3b93b6e0e5",
    "execution": {
     "iopub.execute_input": "2025-07-26T14:46:12.672541Z",
     "iopub.status.busy": "2025-07-26T14:46:12.672240Z",
     "iopub.status.idle": "2025-07-26T14:46:14.514490Z",
     "shell.execute_reply": "2025-07-26T14:46:14.513696Z"
    },
    "papermill": {
     "duration": 1.847047,
     "end_time": "2025-07-26T14:46:14.516174",
     "exception": false,
     "start_time": "2025-07-26T14:46:12.669127",
     "status": "completed"
    },
    "tags": []
   },
   "outputs": [],
   "source": [
    "# This Python 3 environment comes with many helpful analytics libraries installed\n",
    "# It is defined by the kaggle/python Docker image: https://github.com/kaggle/docker-python\n",
    "# For example, here's several helpful packages to load\n",
    "\n",
    "import numpy as np # linear algebra\n",
    "import pandas as pd # data processing, CSV file I/O (e.g. pd.read_csv)\n",
    "\n",
    "# Input data files are available in the read-only \"../input/\" directory\n",
    "# For example, running this (by clicking run or pressing Shift+Enter) will list all files under the input directory\n",
    "\n",
    "import os\n",
    "for dirname, _, filenames in os.walk('/kaggle/input'):\n",
    "    for filename in filenames:\n",
    "        print(os.path.join(dirname, filename))\n",
    "\n",
    "# You can write up to 20GB to the current directory (/kaggle/working/) that gets preserved as output when you create a version using \"Save & Run All\" \n",
    "# You can also write temporary files to /kaggle/temp/, but they won't be saved outside of the current session"
   ]
  },
  {
   "cell_type": "code",
   "execution_count": 2,
   "id": "97c97bc4",
   "metadata": {
    "execution": {
     "iopub.execute_input": "2025-07-26T14:46:14.520900Z",
     "iopub.status.busy": "2025-07-26T14:46:14.520463Z",
     "iopub.status.idle": "2025-07-26T14:46:14.528279Z",
     "shell.execute_reply": "2025-07-26T14:46:14.527009Z"
    },
    "papermill": {
     "duration": 0.011834,
     "end_time": "2025-07-26T14:46:14.529874",
     "exception": false,
     "start_time": "2025-07-26T14:46:14.518040",
     "status": "completed"
    },
    "tags": []
   },
   "outputs": [
    {
     "name": "stdout",
     "output_type": "stream",
     "text": [
      "✅ AGS 040 dataset saved: ags_040_counterfactual_reasoning.json\n"
     ]
    }
   ],
   "source": [
    "# 📓 AGS 040 – Counterfactual Reasoning\n",
    "# Teaches AGS to simulate \"what if\" scenarios and reason about outcomes.\n",
    "\n",
    "import json\n",
    "\n",
    "counterfactual_examples = [\n",
    "    {\n",
    "        \"id\": \"ags_040_001\",\n",
    "        \"situation\": \"A student fails an exam.\",\n",
    "        \"counterfactual\": \"What if the student had studied more?\",\n",
    "        \"hypothesis\": \"They might have passed the exam.\",\n",
    "        \"reasoning\": \"Better preparation generally leads to improved performance.\"\n",
    "    },\n",
    "    {\n",
    "        \"id\": \"ags_040_002\",\n",
    "        \"situation\": \"It rains during a picnic.\",\n",
    "        \"counterfactual\": \"What if the picnic had been planned for the next day?\",\n",
    "        \"hypothesis\": \"It might have been sunny, allowing the event to proceed.\",\n",
    "        \"reasoning\": \"Weather forecasts showed clear skies the next day.\"\n",
    "    },\n",
    "    {\n",
    "        \"id\": \"ags_040_003\",\n",
    "        \"situation\": \"A person misses their train.\",\n",
    "        \"counterfactual\": \"What if they had left 10 minutes earlier?\",\n",
    "        \"hypothesis\": \"They would have caught the train.\",\n",
    "        \"reasoning\": \"They arrived at the station 5 minutes after departure.\"\n",
    "    }\n",
    "]\n",
    "\n",
    "# Save as JSON\n",
    "with open(\"ags_040_counterfactual_reasoning.json\", \"w\") as f:\n",
    "    json.dump(counterfactual_examples, f, indent=2)\n",
    "\n",
    "print(\"✅ AGS 040 dataset saved: ags_040_counterfactual_reasoning.json\")"
   ]
  }
 ],
 "metadata": {
  "kaggle": {
   "accelerator": "none",
   "dataSources": [],
   "isGpuEnabled": false,
   "isInternetEnabled": true,
   "language": "python",
   "sourceType": "notebook"
  },
  "kernelspec": {
   "display_name": "Python 3",
   "language": "python",
   "name": "python3"
  },
  "language_info": {
   "codemirror_mode": {
    "name": "ipython",
    "version": 3
   },
   "file_extension": ".py",
   "mimetype": "text/x-python",
   "name": "python",
   "nbconvert_exporter": "python",
   "pygments_lexer": "ipython3",
   "version": "3.11.13"
  },
  "papermill": {
   "default_parameters": {},
   "duration": 7.081077,
   "end_time": "2025-07-26T14:46:15.050268",
   "environment_variables": {},
   "exception": null,
   "input_path": "__notebook__.ipynb",
   "output_path": "__notebook__.ipynb",
   "parameters": {},
   "start_time": "2025-07-26T14:46:07.969191",
   "version": "2.6.0"
  }
 },
 "nbformat": 4,
 "nbformat_minor": 5
}
