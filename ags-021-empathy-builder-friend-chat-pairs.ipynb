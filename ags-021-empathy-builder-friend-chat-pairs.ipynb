{
 "cells": [
  {
   "cell_type": "code",
   "execution_count": 1,
   "id": "beec2979",
   "metadata": {
    "_cell_guid": "b1076dfc-b9ad-4769-8c92-a6c4dae69d19",
    "_uuid": "8f2839f25d086af736a60e9eeb907d3b93b6e0e5",
    "execution": {
     "iopub.execute_input": "2025-07-26T12:28:37.733951Z",
     "iopub.status.busy": "2025-07-26T12:28:37.733456Z",
     "iopub.status.idle": "2025-07-26T12:28:39.843976Z",
     "shell.execute_reply": "2025-07-26T12:28:39.842748Z"
    },
    "papermill": {
     "duration": 2.116738,
     "end_time": "2025-07-26T12:28:39.846186",
     "exception": false,
     "start_time": "2025-07-26T12:28:37.729448",
     "status": "completed"
    },
    "tags": []
   },
   "outputs": [],
   "source": [
    "# This Python 3 environment comes with many helpful analytics libraries installed\n",
    "# It is defined by the kaggle/python Docker image: https://github.com/kaggle/docker-python\n",
    "# For example, here's several helpful packages to load\n",
    "\n",
    "import numpy as np # linear algebra\n",
    "import pandas as pd # data processing, CSV file I/O (e.g. pd.read_csv)\n",
    "\n",
    "# Input data files are available in the read-only \"../input/\" directory\n",
    "# For example, running this (by clicking run or pressing Shift+Enter) will list all files under the input directory\n",
    "\n",
    "import os\n",
    "for dirname, _, filenames in os.walk('/kaggle/input'):\n",
    "    for filename in filenames:\n",
    "        print(os.path.join(dirname, filename))\n",
    "\n",
    "# You can write up to 20GB to the current directory (/kaggle/working/) that gets preserved as output when you create a version using \"Save & Run All\" \n",
    "# You can also write temporary files to /kaggle/temp/, but they won't be saved outside of the current session"
   ]
  },
  {
   "cell_type": "code",
   "execution_count": 2,
   "id": "d17eaf5a",
   "metadata": {
    "execution": {
     "iopub.execute_input": "2025-07-26T12:28:39.852680Z",
     "iopub.status.busy": "2025-07-26T12:28:39.852015Z",
     "iopub.status.idle": "2025-07-26T12:28:39.862867Z",
     "shell.execute_reply": "2025-07-26T12:28:39.861474Z"
    },
    "papermill": {
     "duration": 0.015896,
     "end_time": "2025-07-26T12:28:39.864632",
     "exception": true,
     "start_time": "2025-07-26T12:28:39.848736",
     "status": "failed"
    },
    "tags": []
   },
   "outputs": [
    {
     "ename": "SyntaxError",
     "evalue": "invalid character '💬' (U+1F4AC) (1064111174.py, line 17)",
     "output_type": "error",
     "traceback": [
      "\u001b[0;36m  File \u001b[0;32m\"/tmp/ipykernel_13/1064111174.py\"\u001b[0;36m, line \u001b[0;32m17\u001b[0m\n\u001b[0;31m    💬 Show a Sample Conversation\u001b[0m\n\u001b[0m    ^\u001b[0m\n\u001b[0;31mSyntaxError\u001b[0m\u001b[0;31m:\u001b[0m invalid character '💬' (U+1F4AC)\n"
     ]
    }
   ],
   "source": [
    "# AGS 021 – Empathy Builder (Friend Chat Pairs)\n",
    "# 🧠 Goal: Train AGS on how to respond empathetically in everyday situations\n",
    "\n",
    "import pandas as pd\n",
    "import json\n",
    "\n",
    "# ✅ Load dataset (Upload to Kaggle as ags_021_empathy_builder.json)\n",
    "with open('/kaggle/input/ags-021-empathy-builder/ags_021_empathy_builder.json') as f:\n",
    "    data = json.load(f)\n",
    "\n",
    "df = pd.DataFrame(data)\n",
    "df.head()\n",
    "\n",
    "\n",
    "\n",
    "\n",
    "💬 Show a Sample Conversation\n",
    "\n",
    "sample = df.sample(1).iloc[0]\n",
    "\n",
    "print(\"🧍 Person:\", sample[\"person\"])\n",
    "print(\"🗣️ Problem:\", sample[\"problem\"])\n",
    "print(\"🤖 AGS Reply:\", sample[\"ags_response\"])\n",
    "print(\"💡 Reasoning Type:\", sample[\"reasoning_type\"])\n",
    "\n",
    "\n",
    "\n",
    "\n",
    "📊 Empathy Reasoning Distribution\n",
    "\n",
    "df['reasoning_type'].value_counts().plot(kind='bar', color='salmon', figsize=(8,5))\n",
    "plt.title(\"Reasoning Types in Empathy Chats\")\n",
    "plt.xlabel(\"Reasoning Type\")\n",
    "plt.ylabel(\"Count\")\n",
    "plt.grid(axis='y')\n",
    "plt.show()\n",
    "\n",
    "\n",
    "\n",
    "\n",
    "📁 Sample JSON Data\n",
    "\n",
    "Save as: ags_021_empathy_builder.json\n",
    "\n",
    "[\n",
    "  {\n",
    "    \"id\": \"chat_001\",\n",
    "    \"person\": \"I failed my driving test again...\",\n",
    "    \"problem\": \"Sadness after failure\",\n",
    "    \"ags_response\": \"That must feel so frustrating. But each attempt gets you closer. I'm proud you're not giving up.\",\n",
    "    \"reasoning_type\": \"emotional reasoning\"\n",
    "  },\n",
    "  {\n",
    "    \"id\": \"chat_002\",\n",
    "    \"person\": \"I’m nervous about my job interview tomorrow.\",\n",
    "    \"problem\": \"Anxiety before a big event\",\n",
    "    \"ags_response\": \"It's totally normal to feel that way. Let’s review your strengths together if you want!\",\n",
    "    \"reasoning_type\": \"supportive encouragement\"\n",
    "  }\n",
    "]\n",
    "\n",
    "\n",
    "\n",
    "\n",
    "✅ Summary\n",
    "\n",
    "This dataset teaches AGS how to:\n",
    "- Understand emotional contexts\n",
    "- Respond like a caring friend\n",
    "- Use emotional + supportive reasoning\n",
    "\n",
    "\n"
   ]
  }
 ],
 "metadata": {
  "kaggle": {
   "accelerator": "none",
   "dataSources": [],
   "isGpuEnabled": false,
   "isInternetEnabled": true,
   "language": "python",
   "sourceType": "notebook"
  },
  "kernelspec": {
   "display_name": "Python 3",
   "language": "python",
   "name": "python3"
  },
  "language_info": {
   "codemirror_mode": {
    "name": "ipython",
    "version": 3
   },
   "file_extension": ".py",
   "mimetype": "text/x-python",
   "name": "python",
   "nbconvert_exporter": "python",
   "pygments_lexer": "ipython3",
   "version": "3.11.13"
  },
  "papermill": {
   "default_parameters": {},
   "duration": 9.277942,
   "end_time": "2025-07-26T12:28:40.689747",
   "environment_variables": {},
   "exception": true,
   "input_path": "__notebook__.ipynb",
   "output_path": "__notebook__.ipynb",
   "parameters": {},
   "start_time": "2025-07-26T12:28:31.411805",
   "version": "2.6.0"
  }
 },
 "nbformat": 4,
 "nbformat_minor": 5
}
