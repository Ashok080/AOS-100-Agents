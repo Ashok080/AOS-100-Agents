{
 "cells": [
  {
   "cell_type": "code",
   "execution_count": 1,
   "id": "9192f9b4",
   "metadata": {
    "_cell_guid": "b1076dfc-b9ad-4769-8c92-a6c4dae69d19",
    "_uuid": "8f2839f25d086af736a60e9eeb907d3b93b6e0e5",
    "execution": {
     "iopub.execute_input": "2025-07-26T15:12:16.576420Z",
     "iopub.status.busy": "2025-07-26T15:12:16.575470Z",
     "iopub.status.idle": "2025-07-26T15:12:18.494257Z",
     "shell.execute_reply": "2025-07-26T15:12:18.493330Z"
    },
    "papermill": {
     "duration": 1.923869,
     "end_time": "2025-07-26T15:12:18.496134",
     "exception": false,
     "start_time": "2025-07-26T15:12:16.572265",
     "status": "completed"
    },
    "tags": []
   },
   "outputs": [],
   "source": [
    "# This Python 3 environment comes with many helpful analytics libraries installed\n",
    "# It is defined by the kaggle/python Docker image: https://github.com/kaggle/docker-python\n",
    "# For example, here's several helpful packages to load\n",
    "\n",
    "import numpy as np # linear algebra\n",
    "import pandas as pd # data processing, CSV file I/O (e.g. pd.read_csv)\n",
    "\n",
    "# Input data files are available in the read-only \"../input/\" directory\n",
    "# For example, running this (by clicking run or pressing Shift+Enter) will list all files under the input directory\n",
    "\n",
    "import os\n",
    "for dirname, _, filenames in os.walk('/kaggle/input'):\n",
    "    for filename in filenames:\n",
    "        print(os.path.join(dirname, filename))\n",
    "\n",
    "# You can write up to 20GB to the current directory (/kaggle/working/) that gets preserved as output when you create a version using \"Save & Run All\" \n",
    "# You can also write temporary files to /kaggle/temp/, but they won't be saved outside of the current session"
   ]
  },
  {
   "cell_type": "code",
   "execution_count": 2,
   "id": "7d7dd9b8",
   "metadata": {
    "execution": {
     "iopub.execute_input": "2025-07-26T15:12:18.500674Z",
     "iopub.status.busy": "2025-07-26T15:12:18.500280Z",
     "iopub.status.idle": "2025-07-26T15:12:18.588150Z",
     "shell.execute_reply": "2025-07-26T15:12:18.586966Z"
    },
    "papermill": {
     "duration": 0.091554,
     "end_time": "2025-07-26T15:12:18.589561",
     "exception": true,
     "start_time": "2025-07-26T15:12:18.498007",
     "status": "failed"
    },
    "tags": []
   },
   "outputs": [
    {
     "ename": "ModuleNotFoundError",
     "evalue": "No module named 'AGS'",
     "output_type": "error",
     "traceback": [
      "\u001b[0;31m---------------------------------------------------------------------------\u001b[0m",
      "\u001b[0;31mModuleNotFoundError\u001b[0m                       Traceback (most recent call last)",
      "\u001b[0;32m/tmp/ipykernel_13/3982456064.py\u001b[0m in \u001b[0;36m<cell line: 0>\u001b[0;34m()\u001b[0m\n\u001b[1;32m      6\u001b[0m \"\"\"\n\u001b[1;32m      7\u001b[0m \u001b[0;34m\u001b[0m\u001b[0m\n\u001b[0;32m----> 8\u001b[0;31m \u001b[0;32mfrom\u001b[0m \u001b[0mAGS\u001b[0m\u001b[0;34m.\u001b[0m\u001b[0mreasoning\u001b[0m \u001b[0;32mimport\u001b[0m \u001b[0mPerspectiveReasoner\u001b[0m\u001b[0;34m\u001b[0m\u001b[0;34m\u001b[0m\u001b[0m\n\u001b[0m\u001b[1;32m      9\u001b[0m \u001b[0;32mfrom\u001b[0m \u001b[0mAGS\u001b[0m\u001b[0;34m.\u001b[0m\u001b[0mmemory\u001b[0m \u001b[0;32mimport\u001b[0m \u001b[0mAgentMemory\u001b[0m\u001b[0;34m\u001b[0m\u001b[0;34m\u001b[0m\u001b[0m\n\u001b[1;32m     10\u001b[0m \u001b[0;32mfrom\u001b[0m \u001b[0mAGS\u001b[0m\u001b[0;34m.\u001b[0m\u001b[0mconfig\u001b[0m \u001b[0;32mimport\u001b[0m \u001b[0mAGSConfig\u001b[0m\u001b[0;34m\u001b[0m\u001b[0;34m\u001b[0m\u001b[0m\n",
      "\u001b[0;31mModuleNotFoundError\u001b[0m: No module named 'AGS'"
     ]
    }
   ],
   "source": [
    "# AGS 048 – Theory of Mind and Perspective Reasoning\n",
    "\n",
    "\"\"\"\n",
    "This notebook enables AGS to reason about others' beliefs, desires, and intentions—\n",
    "a critical aspect of social intelligence known as Theory of Mind (ToM).\n",
    "\"\"\"\n",
    "\n",
    "from AGS.reasoning import PerspectiveReasoner\n",
    "from AGS.memory import AgentMemory\n",
    "from AGS.config import AGSConfig\n",
    "\n",
    "# Initialize memory and reasoning engine\n",
    "config = AGSConfig()\n",
    "agent_memory = AgentMemory()\n",
    "perspective_reasoner = PerspectiveReasoner(memory=agent_memory)\n",
    "\n",
    "# Define agents and their individual beliefs\n",
    "agent_memory.add_belief(\"Alice\", \"The box has a ball inside.\")\n",
    "agent_memory.add_belief(\"Bob\", \"The box is empty.\")\n",
    "\n",
    "# Query ToM reasoning\n",
    "query = \"What does Alice believe about the box?\"\n",
    "alice_belief = perspective_reasoner.reason(query)\n",
    "print(\"Answer:\", alice_belief)\n",
    "\n",
    "query = \"Does Bob know the ball is in the box?\"\n",
    "bob_knowledge = perspective_reasoner.reason(query)\n",
    "print(\"Answer:\", bob_knowledge)\n",
    "\n",
    "# Simulate false belief task (classic ToM scenario)\n",
    "agent_memory.update_belief(\"Alice\", \"The ball was moved to the drawer\", private=False)\n",
    "query = \"Where will Alice look for the ball?\"\n",
    "false_belief = perspective_reasoner.reason(query)\n",
    "print(\"Answer:\", false_belief)"
   ]
  }
 ],
 "metadata": {
  "kaggle": {
   "accelerator": "none",
   "dataSources": [],
   "isGpuEnabled": false,
   "isInternetEnabled": true,
   "language": "python",
   "sourceType": "notebook"
  },
  "kernelspec": {
   "display_name": "Python 3",
   "language": "python",
   "name": "python3"
  },
  "language_info": {
   "codemirror_mode": {
    "name": "ipython",
    "version": 3
   },
   "file_extension": ".py",
   "mimetype": "text/x-python",
   "name": "python",
   "nbconvert_exporter": "python",
   "pygments_lexer": "ipython3",
   "version": "3.11.13"
  },
  "papermill": {
   "default_parameters": {},
   "duration": 7.525023,
   "end_time": "2025-07-26T15:12:19.109865",
   "environment_variables": {},
   "exception": true,
   "input_path": "__notebook__.ipynb",
   "output_path": "__notebook__.ipynb",
   "parameters": {},
   "start_time": "2025-07-26T15:12:11.584842",
   "version": "2.6.0"
  }
 },
 "nbformat": 4,
 "nbformat_minor": 5
}
