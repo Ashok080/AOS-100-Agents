{
 "cells": [
  {
   "cell_type": "code",
   "execution_count": 1,
   "id": "89e49242",
   "metadata": {
    "_cell_guid": "b1076dfc-b9ad-4769-8c92-a6c4dae69d19",
    "_uuid": "8f2839f25d086af736a60e9eeb907d3b93b6e0e5",
    "execution": {
     "iopub.execute_input": "2025-07-26T12:53:58.806296Z",
     "iopub.status.busy": "2025-07-26T12:53:58.806007Z",
     "iopub.status.idle": "2025-07-26T12:54:00.749546Z",
     "shell.execute_reply": "2025-07-26T12:54:00.748601Z"
    },
    "papermill": {
     "duration": 1.9482,
     "end_time": "2025-07-26T12:54:00.751192",
     "exception": false,
     "start_time": "2025-07-26T12:53:58.802992",
     "status": "completed"
    },
    "tags": []
   },
   "outputs": [],
   "source": [
    "# This Python 3 environment comes with many helpful analytics libraries installed\n",
    "# It is defined by the kaggle/python Docker image: https://github.com/kaggle/docker-python\n",
    "# For example, here's several helpful packages to load\n",
    "\n",
    "import numpy as np # linear algebra\n",
    "import pandas as pd # data processing, CSV file I/O (e.g. pd.read_csv)\n",
    "\n",
    "# Input data files are available in the read-only \"../input/\" directory\n",
    "# For example, running this (by clicking run or pressing Shift+Enter) will list all files under the input directory\n",
    "\n",
    "import os\n",
    "for dirname, _, filenames in os.walk('/kaggle/input'):\n",
    "    for filename in filenames:\n",
    "        print(os.path.join(dirname, filename))\n",
    "\n",
    "# You can write up to 20GB to the current directory (/kaggle/working/) that gets preserved as output when you create a version using \"Save & Run All\" \n",
    "# You can also write temporary files to /kaggle/temp/, but they won't be saved outside of the current session"
   ]
  },
  {
   "cell_type": "code",
   "execution_count": 2,
   "id": "57ab6559",
   "metadata": {
    "execution": {
     "iopub.execute_input": "2025-07-26T12:54:00.755559Z",
     "iopub.status.busy": "2025-07-26T12:54:00.755156Z",
     "iopub.status.idle": "2025-07-26T12:54:00.763807Z",
     "shell.execute_reply": "2025-07-26T12:54:00.762769Z"
    },
    "papermill": {
     "duration": 0.012135,
     "end_time": "2025-07-26T12:54:00.765165",
     "exception": true,
     "start_time": "2025-07-26T12:54:00.753030",
     "status": "failed"
    },
    "tags": []
   },
   "outputs": [
    {
     "ename": "SyntaxError",
     "evalue": "invalid character '🔍' (U+1F50D) (4255394329.py, line 17)",
     "output_type": "error",
     "traceback": [
      "\u001b[0;36m  File \u001b[0;32m\"/tmp/ipykernel_13/4255394329.py\"\u001b[0;36m, line \u001b[0;32m17\u001b[0m\n\u001b[0;31m    🔍 Sample Self-Critique Display\u001b[0m\n\u001b[0m    ^\u001b[0m\n\u001b[0;31mSyntaxError\u001b[0m\u001b[0;31m:\u001b[0m invalid character '🔍' (U+1F50D)\n"
     ]
    }
   ],
   "source": [
    "# AGS 028 – Self-Critique Trainer\n",
    "# 🎯 Goal: Help AGS reflect on its answers and suggest improvements to its own reasoning\n",
    "\n",
    "import pandas as pd\n",
    "import json\n",
    "\n",
    "# ✅ Load self-critique dataset (Upload as ags_028_self_critique.json)\n",
    "with open('/kaggle/input/ags-028-self-critique/ags_028_self_critique.json') as f:\n",
    "    data = json.load(f)\n",
    "\n",
    "df = pd.DataFrame(data)\n",
    "df.head()\n",
    "\n",
    "\n",
    "---\n",
    "\n",
    "🔍 Sample Self-Critique Display\n",
    "\n",
    "sample = df.sample(1).iloc[0]\n",
    "\n",
    "print(\"❓ Original Question:\", sample[\"question\"])\n",
    "print(\"🤖 AGS's Initial Answer:\", sample[\"initial_answer\"])\n",
    "print(\"🔍 Self-Critique:\", sample[\"self_critique\"])\n",
    "print(\"✅ Improved Answer:\", sample[\"improved_answer\"])\n",
    "print(\"📌 Critique Type:\", sample[\"critique_type\"])\n",
    "\n",
    "\n",
    "---\n",
    "\n",
    "📊 Critique Type Distribution\n",
    "\n",
    "import seaborn as sns\n",
    "import matplotlib.pyplot as plt\n",
    "\n",
    "plt.figure(figsize=(8, 5))\n",
    "sns.countplot(data=df, x='critique_type', palette='muted')\n",
    "plt.title(\"Types of Self-Critique in AGS\")\n",
    "plt.xlabel(\"Critique Type\")\n",
    "plt.ylabel(\"Count\")\n",
    "plt.xticks(rotation=45)\n",
    "plt.tight_layout()\n",
    "plt.show()\n",
    "\n",
    "\n",
    "---\n",
    "\n",
    "📁 Sample JSON Format\n",
    "\n",
    "Save this as: ags_028_self_critique.json\n",
    "\n",
    "[\n",
    "  {\n",
    "    \"id\": \"sc_001\",\n",
    "    \"question\": \"What’s the capital of Australia?\",\n",
    "    \"initial_answer\": \"Sydney\",\n",
    "    \"self_critique\": \"Incorrect answer; Canberra is the actual capital.\",\n",
    "    \"improved_answer\": \"The capital of Australia is Canberra.\",\n",
    "    \"critique_type\": \"factual error\"\n",
    "  },\n",
    "  {\n",
    "    \"id\": \"sc_002\",\n",
    "    \"question\": \"Why do people exercise?\",\n",
    "    \"initial_answer\": \"To lose weight.\",\n",
    "    \"self_critique\": \"Answer is too narrow; doesn't include other benefits.\",\n",
    "    \"improved_answer\": \"People exercise to improve overall health, reduce stress, boost energy, and maintain weight.\",\n",
    "    \"critique_type\": \"incomplete reasoning\"\n",
    "  }\n",
    "]\n",
    "\n",
    "\n",
    "---\n",
    "\n",
    "✅ Summary\n",
    "\n",
    "This notebook trains AGS to:\n",
    "- Detect and label flaws in its own responses\n",
    "- Suggest improved versions\n",
    "- Reflect on factual, logical, and emotional issues"
   ]
  }
 ],
 "metadata": {
  "kaggle": {
   "accelerator": "none",
   "dataSources": [],
   "isGpuEnabled": false,
   "isInternetEnabled": true,
   "language": "python",
   "sourceType": "notebook"
  },
  "kernelspec": {
   "display_name": "Python 3",
   "language": "python",
   "name": "python3"
  },
  "language_info": {
   "codemirror_mode": {
    "name": "ipython",
    "version": 3
   },
   "file_extension": ".py",
   "mimetype": "text/x-python",
   "name": "python",
   "nbconvert_exporter": "python",
   "pygments_lexer": "ipython3",
   "version": "3.11.13"
  },
  "papermill": {
   "default_parameters": {},
   "duration": 7.488331,
   "end_time": "2025-07-26T12:54:01.284485",
   "environment_variables": {},
   "exception": true,
   "input_path": "__notebook__.ipynb",
   "output_path": "__notebook__.ipynb",
   "parameters": {},
   "start_time": "2025-07-26T12:53:53.796154",
   "version": "2.6.0"
  }
 },
 "nbformat": 4,
 "nbformat_minor": 5
}
