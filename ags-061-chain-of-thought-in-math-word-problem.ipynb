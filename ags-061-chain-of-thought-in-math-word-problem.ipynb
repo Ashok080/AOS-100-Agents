{
 "cells": [
  {
   "cell_type": "code",
   "execution_count": 1,
   "id": "db83a453",
   "metadata": {
    "_cell_guid": "b1076dfc-b9ad-4769-8c92-a6c4dae69d19",
    "_uuid": "8f2839f25d086af736a60e9eeb907d3b93b6e0e5",
    "execution": {
     "iopub.execute_input": "2025-07-27T03:52:45.508362Z",
     "iopub.status.busy": "2025-07-27T03:52:45.507946Z",
     "iopub.status.idle": "2025-07-27T03:52:47.298345Z",
     "shell.execute_reply": "2025-07-27T03:52:47.297454Z"
    },
    "papermill": {
     "duration": 1.795037,
     "end_time": "2025-07-27T03:52:47.300067",
     "exception": false,
     "start_time": "2025-07-27T03:52:45.505030",
     "status": "completed"
    },
    "tags": []
   },
   "outputs": [],
   "source": [
    "# This Python 3 environment comes with many helpful analytics libraries installed\n",
    "# It is defined by the kaggle/python Docker image: https://github.com/kaggle/docker-python\n",
    "# For example, here's several helpful packages to load\n",
    "\n",
    "import numpy as np # linear algebra\n",
    "import pandas as pd # data processing, CSV file I/O (e.g. pd.read_csv)\n",
    "\n",
    "# Input data files are available in the read-only \"../input/\" directory\n",
    "# For example, running this (by clicking run or pressing Shift+Enter) will list all files under the input directory\n",
    "\n",
    "import os\n",
    "for dirname, _, filenames in os.walk('/kaggle/input'):\n",
    "    for filename in filenames:\n",
    "        print(os.path.join(dirname, filename))\n",
    "\n",
    "# You can write up to 20GB to the current directory (/kaggle/working/) that gets preserved as output when you create a version using \"Save & Run All\" \n",
    "# You can also write temporary files to /kaggle/temp/, but they won't be saved outside of the current session"
   ]
  },
  {
   "cell_type": "code",
   "execution_count": 2,
   "id": "d46ee1e7",
   "metadata": {
    "execution": {
     "iopub.execute_input": "2025-07-27T03:52:47.305514Z",
     "iopub.status.busy": "2025-07-27T03:52:47.304576Z",
     "iopub.status.idle": "2025-07-27T03:52:47.318131Z",
     "shell.execute_reply": "2025-07-27T03:52:47.317038Z"
    },
    "papermill": {
     "duration": 0.018041,
     "end_time": "2025-07-27T03:52:47.319859",
     "exception": true,
     "start_time": "2025-07-27T03:52:47.301818",
     "status": "failed"
    },
    "tags": []
   },
   "outputs": [
    {
     "ename": "SyntaxError",
     "evalue": "invalid character '🔤' (U+1F524) (2371614564.py, line 1)",
     "output_type": "error",
     "traceback": [
      "\u001b[0;36m  File \u001b[0;32m\"/tmp/ipykernel_13/2371614564.py\"\u001b[0;36m, line \u001b[0;32m1\u001b[0m\n\u001b[0;31m    🔤 Example Word Problems\u001b[0m\n\u001b[0m    ^\u001b[0m\n\u001b[0;31mSyntaxError\u001b[0m\u001b[0;31m:\u001b[0m invalid character '🔤' (U+1F524)\n"
     ]
    }
   ],
   "source": [
    "🔤 Example Word Problems\n",
    "\n",
    "problem_1 = \"Tom has 3 apples. He buys 4 more. Then he gives 2 to his friend. How many apples does he have now?\"\n",
    "problem_2 = \"A pen costs $2. A notebook costs $5. If Emma buys 2 pens and 3 notebooks, how much does she spend?\"\n",
    "\n",
    "\n",
    "\n",
    "\n",
    "✅ Full Notebook Code\n",
    "\n",
    "# AGS 061: Chain-of-Thought Reasoning – Math Word Problems\n",
    "\n",
    "import openai\n",
    "openai.api_key = \"sk-...\"  # 🔒 Replace with your OpenAI API key\n",
    "\n",
    "# Step 1: Define CoT Prompt Template\n",
    "def solve_with_cot(problem):\n",
    "    prompt = f\"\"\"\n",
    "You are a helpful math tutor who solves word problems using step-by-step reasoning.\n",
    "\n",
    "Problem: {problem}\n",
    "\n",
    "Solve it using Chain of Thought:\n",
    "\"\"\"\n",
    "    response = openai.ChatCompletion.create(\n",
    "        model=\"gpt-4\",\n",
    "        messages=[{\"role\": \"user\", \"content\": prompt}],\n",
    "        temperature=0.3,\n",
    "        max_tokens=200\n",
    "    )\n",
    "    return response['choices'][0]['message']['content'].strip()\n",
    "\n",
    "# Step 2: Example Problems\n",
    "problems = [\n",
    "    \"Tom has 3 apples. He buys 4 more. Then he gives 2 to his friend. How many apples does he have now?\",\n",
    "    \"A pen costs $2. A notebook costs $5. If Emma buys 2 pens and 3 notebooks, how much does she spend?\"\n",
    "]\n",
    "\n",
    "# Step 3: Generate CoT Answers\n",
    "for i, p in enumerate(problems):\n",
    "    print(f\"\\n🧮 Problem {i+1}:\\n{p}\")\n",
    "    result = solve_with_cot(p)\n",
    "    print(\"🧠 Chain-of-Thought:\\n\", result)\n",
    "\n",
    "\n",
    "\n",
    "\n",
    "🧠 Output Sample\n",
    "\n",
    "🧮 Problem 1:\n",
    "Tom has 3 apples. He buys 4 more. Then he gives 2 to his friend. How many apples does he have now?\n",
    "\n",
    "🧠 Chain-of-Thought:\n",
    "Tom starts with 3 apples. He buys 4 more, so now he has 3 + 4 = 7 apples.  \n",
    "Then he gives 2 apples away, so 7 - 2 = 5 apples.  \n",
    "Answer: 5 apples.\n",
    "\n",
    "🧮 Problem 2:\n",
    "A pen costs $2. A notebook costs $5. If Emma buys 2 pens and 3 notebooks, how much does she spend?\n",
    "\n",
    "🧠 Chain-of-Thought:\n",
    "Each pen is $2. 2 pens cost 2 x 2 = $4.  \n",
    "Each notebook is $5. 3 notebooks cost 3 x 5 = $15.  \n",
    "Total cost is $4 + $15 = $19.  \n",
    "Answer: $19."
   ]
  }
 ],
 "metadata": {
  "kaggle": {
   "accelerator": "none",
   "dataSources": [],
   "isGpuEnabled": false,
   "isInternetEnabled": true,
   "language": "python",
   "sourceType": "notebook"
  },
  "kernelspec": {
   "display_name": "Python 3",
   "language": "python",
   "name": "python3"
  },
  "language_info": {
   "codemirror_mode": {
    "name": "ipython",
    "version": 3
   },
   "file_extension": ".py",
   "mimetype": "text/x-python",
   "name": "python",
   "nbconvert_exporter": "python",
   "pygments_lexer": "ipython3",
   "version": "3.11.13"
  },
  "papermill": {
   "default_parameters": {},
   "duration": 6.899854,
   "end_time": "2025-07-27T03:52:47.842197",
   "environment_variables": {},
   "exception": true,
   "input_path": "__notebook__.ipynb",
   "output_path": "__notebook__.ipynb",
   "parameters": {},
   "start_time": "2025-07-27T03:52:40.942343",
   "version": "2.6.0"
  }
 },
 "nbformat": 4,
 "nbformat_minor": 5
}
