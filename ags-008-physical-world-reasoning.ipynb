{
 "cells": [
  {
   "cell_type": "code",
   "execution_count": 1,
   "id": "9c6a6a43",
   "metadata": {
    "_cell_guid": "b1076dfc-b9ad-4769-8c92-a6c4dae69d19",
    "_uuid": "8f2839f25d086af736a60e9eeb907d3b93b6e0e5",
    "execution": {
     "iopub.execute_input": "2025-07-26T11:31:49.261948Z",
     "iopub.status.busy": "2025-07-26T11:31:49.261673Z",
     "iopub.status.idle": "2025-07-26T11:31:50.933115Z",
     "shell.execute_reply": "2025-07-26T11:31:50.932238Z"
    },
    "papermill": {
     "duration": 1.676425,
     "end_time": "2025-07-26T11:31:50.934693",
     "exception": false,
     "start_time": "2025-07-26T11:31:49.258268",
     "status": "completed"
    },
    "tags": []
   },
   "outputs": [],
   "source": [
    "# This Python 3 environment comes with many helpful analytics libraries installed\n",
    "# It is defined by the kaggle/python Docker image: https://github.com/kaggle/docker-python\n",
    "# For example, here's several helpful packages to load\n",
    "\n",
    "import numpy as np # linear algebra\n",
    "import pandas as pd # data processing, CSV file I/O (e.g. pd.read_csv)\n",
    "\n",
    "# Input data files are available in the read-only \"../input/\" directory\n",
    "# For example, running this (by clicking run or pressing Shift+Enter) will list all files under the input directory\n",
    "\n",
    "import os\n",
    "for dirname, _, filenames in os.walk('/kaggle/input'):\n",
    "    for filename in filenames:\n",
    "        print(os.path.join(dirname, filename))\n",
    "\n",
    "# You can write up to 20GB to the current directory (/kaggle/working/) that gets preserved as output when you create a version using \"Save & Run All\" \n",
    "# You can also write temporary files to /kaggle/temp/, but they won't be saved outside of the current session"
   ]
  },
  {
   "cell_type": "code",
   "execution_count": 2,
   "id": "82aaf567",
   "metadata": {
    "execution": {
     "iopub.execute_input": "2025-07-26T11:31:50.938272Z",
     "iopub.status.busy": "2025-07-26T11:31:50.937916Z",
     "iopub.status.idle": "2025-07-26T11:31:50.945576Z",
     "shell.execute_reply": "2025-07-26T11:31:50.944500Z"
    },
    "papermill": {
     "duration": 0.010624,
     "end_time": "2025-07-26T11:31:50.946865",
     "exception": true,
     "start_time": "2025-07-26T11:31:50.936241",
     "status": "failed"
    },
    "tags": []
   },
   "outputs": [
    {
     "ename": "SyntaxError",
     "evalue": "invalid character '📊' (U+1F4CA) (697135016.py, line 24)",
     "output_type": "error",
     "traceback": [
      "\u001b[0;36m  File \u001b[0;32m\"/tmp/ipykernel_13/697135016.py\"\u001b[0;36m, line \u001b[0;32m24\u001b[0m\n\u001b[0;31m    📊 Physical Cause/Effect Reasoning Types\u001b[0m\n\u001b[0m    ^\u001b[0m\n\u001b[0;31mSyntaxError\u001b[0m\u001b[0;31m:\u001b[0m invalid character '📊' (U+1F4CA)\n"
     ]
    }
   ],
   "source": [
    "# AGS 008 – Physical World Reasoning Dataset\n",
    "\n",
    "# 🌍 Purpose: Help AGS agents reason about cause/effect in the physical world\n",
    "\n",
    "import pandas as pd\n",
    "import matplotlib.pyplot as plt\n",
    "import seaborn as sns\n",
    "import json\n",
    "from wordcloud import WordCloud\n",
    "\n",
    "# ✅ Load dataset (upload this file to Kaggle: ags_008_physical_world_reasoning.json)\n",
    "with open('/kaggle/input/ags-008-physical-world-reasoning/ags_008_physical_world_reasoning.json', 'r') as f:\n",
    "    data = json.load(f)\n",
    "\n",
    "# Convert to DataFrame\n",
    "df = pd.DataFrame(data)\n",
    "\n",
    "# 🔍 Preview\n",
    "df.head()\n",
    "\n",
    "\n",
    "\n",
    "\n",
    "📊 Physical Cause/Effect Reasoning Types\n",
    "\n",
    "plt.figure(figsize=(8, 5))\n",
    "sns.countplot(data=df, x='reasoning_type', palette='magma')\n",
    "plt.title('Types of Physical World Reasoning')\n",
    "plt.xlabel('Reasoning Type')\n",
    "plt.ylabel('Count')\n",
    "plt.xticks(rotation=45)\n",
    "plt.show()\n",
    "\n",
    "\n",
    "\n",
    "\n",
    "☁️ Word Cloud of Physical Situations\n",
    "\n",
    "text = ' '.join(df['situation'])\n",
    "wordcloud = WordCloud(width=800, height=400, background_color='white').generate(text)\n",
    "\n",
    "plt.figure(figsize=(12, 6))\n",
    "plt.imshow(wordcloud, interpolation='bilinear')\n",
    "plt.axis('off')\n",
    "plt.title('Word Cloud of Physical Situations')\n",
    "plt.show()\n",
    "\n",
    "\n",
    "\n",
    "\n",
    "🔄 Sample Physical Reasoning Prompt\n",
    "\n",
    "sample = df.sample(1).iloc[0]\n",
    "\n",
    "print(\"📌 Situation:\", sample['situation'])\n",
    "print(\"❓ Question:\", sample['question'])\n",
    "print(\"✅ Answer:\", sample['answer'])\n",
    "print(\"🧠 Reasoning Type:\", sample['reasoning_type'])\n",
    "\n",
    "\n",
    "\n",
    "\n",
    "✅ Summary\n",
    "\n",
    "This notebook improves AGS agents’ real-world intelligence by simulating physical cause-effect reasoning.\n",
    "\n",
    "📘 Use Cases:\n",
    "- Robotics and home AI\n",
    "- Real-world planning agents\n",
    "- Safety-aware decision-making\n",
    "\n",
    "📁 Dataset File: ags_008_physical_world_reasoning.json\n",
    "\n",
    "\n",
    "\n",
    "\n",
    "📁 Example Dataset Format\n",
    "\n",
    "Save your data like this in JSON:\n",
    "\n",
    "Filename: ags_008_physical_world_reasoning.json\n",
    "\n",
    "[\n",
    "  {\n",
    "    \"id\": \"ph_001\",\n",
    "    \"situation\": \"You drop a glass on a hard floor.\",\n",
    "    \"question\": \"What is likely to happen?\",\n",
    "    \"answer\": \"The glass will break.\",\n",
    "    \"reasoning_type\": \"physical cause-effect\"\n",
    "  },\n",
    "  {\n",
    "    \"id\": \"ph_002\",\n",
    "    \"situation\": \"A person is standing in the rain without an umbrella.\",\n",
    "    \"question\": \"What happens to them?\",\n",
    "    \"answer\": \"They will get wet.\",\n",
    "    \"reasoning_type\": \"physical consequence\"\n",
    "  }\n",
    "]"
   ]
  }
 ],
 "metadata": {
  "kaggle": {
   "accelerator": "none",
   "dataSources": [],
   "isGpuEnabled": false,
   "isInternetEnabled": true,
   "language": "python",
   "sourceType": "notebook"
  },
  "kernelspec": {
   "display_name": "Python 3",
   "language": "python",
   "name": "python3"
  },
  "language_info": {
   "codemirror_mode": {
    "name": "ipython",
    "version": 3
   },
   "file_extension": ".py",
   "mimetype": "text/x-python",
   "name": "python",
   "nbconvert_exporter": "python",
   "pygments_lexer": "ipython3",
   "version": "3.11.13"
  },
  "papermill": {
   "default_parameters": {},
   "duration": 7.293018,
   "end_time": "2025-07-26T11:31:51.367789",
   "environment_variables": {},
   "exception": true,
   "input_path": "__notebook__.ipynb",
   "output_path": "__notebook__.ipynb",
   "parameters": {},
   "start_time": "2025-07-26T11:31:44.074771",
   "version": "2.6.0"
  }
 },
 "nbformat": 4,
 "nbformat_minor": 5
}
