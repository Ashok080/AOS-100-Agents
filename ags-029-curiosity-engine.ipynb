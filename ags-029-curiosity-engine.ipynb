{
 "cells": [
  {
   "cell_type": "code",
   "execution_count": 1,
   "id": "b4286929",
   "metadata": {
    "_cell_guid": "b1076dfc-b9ad-4769-8c92-a6c4dae69d19",
    "_uuid": "8f2839f25d086af736a60e9eeb907d3b93b6e0e5",
    "execution": {
     "iopub.execute_input": "2025-07-26T12:58:10.032812Z",
     "iopub.status.busy": "2025-07-26T12:58:10.032522Z",
     "iopub.status.idle": "2025-07-26T12:58:11.733267Z",
     "shell.execute_reply": "2025-07-26T12:58:11.732482Z"
    },
    "papermill": {
     "duration": 1.705629,
     "end_time": "2025-07-26T12:58:11.735011",
     "exception": false,
     "start_time": "2025-07-26T12:58:10.029382",
     "status": "completed"
    },
    "tags": []
   },
   "outputs": [],
   "source": [
    "# This Python 3 environment comes with many helpful analytics libraries installed\n",
    "# It is defined by the kaggle/python Docker image: https://github.com/kaggle/docker-python\n",
    "# For example, here's several helpful packages to load\n",
    "\n",
    "import numpy as np # linear algebra\n",
    "import pandas as pd # data processing, CSV file I/O (e.g. pd.read_csv)\n",
    "\n",
    "# Input data files are available in the read-only \"../input/\" directory\n",
    "# For example, running this (by clicking run or pressing Shift+Enter) will list all files under the input directory\n",
    "\n",
    "import os\n",
    "for dirname, _, filenames in os.walk('/kaggle/input'):\n",
    "    for filename in filenames:\n",
    "        print(os.path.join(dirname, filename))\n",
    "\n",
    "# You can write up to 20GB to the current directory (/kaggle/working/) that gets preserved as output when you create a version using \"Save & Run All\" \n",
    "# You can also write temporary files to /kaggle/temp/, but they won't be saved outside of the current session"
   ]
  },
  {
   "cell_type": "code",
   "execution_count": 2,
   "id": "ab731b2e",
   "metadata": {
    "execution": {
     "iopub.execute_input": "2025-07-26T12:58:11.739711Z",
     "iopub.status.busy": "2025-07-26T12:58:11.739277Z",
     "iopub.status.idle": "2025-07-26T12:58:11.747807Z",
     "shell.execute_reply": "2025-07-26T12:58:11.746723Z"
    },
    "papermill": {
     "duration": 0.012273,
     "end_time": "2025-07-26T12:58:11.749291",
     "exception": true,
     "start_time": "2025-07-26T12:58:11.737018",
     "status": "failed"
    },
    "tags": []
   },
   "outputs": [
    {
     "ename": "SyntaxError",
     "evalue": "invalid character '🔍' (U+1F50D) (76902921.py, line 18)",
     "output_type": "error",
     "traceback": [
      "\u001b[0;36m  File \u001b[0;32m\"/tmp/ipykernel_13/76902921.py\"\u001b[0;36m, line \u001b[0;32m18\u001b[0m\n\u001b[0;31m    🔍 Sample Curiosity Example\u001b[0m\n\u001b[0m    ^\u001b[0m\n\u001b[0;31mSyntaxError\u001b[0m\u001b[0;31m:\u001b[0m invalid character '🔍' (U+1F50D)\n"
     ]
    }
   ],
   "source": [
    "# AGS 029 – Curiosity Engine\n",
    "# 🎯 Goal: Generate follow-up questions based on a given situation or response\n",
    "# Helps AGS exhibit curiosity, learn more, and deepen conversation\n",
    "\n",
    "import pandas as pd\n",
    "import json\n",
    "\n",
    "# ✅ Load curiosity dataset (Upload as ags_029_curiosity_engine.json)\n",
    "with open('/kaggle/input/ags-029-curiosity-engine/ags_029_curiosity_engine.json') as f:\n",
    "    data = json.load(f)\n",
    "\n",
    "df = pd.DataFrame(data)\n",
    "df.head()\n",
    "\n",
    "\n",
    "\n",
    "\n",
    "🔍 Sample Curiosity Example\n",
    "\n",
    "sample = df.sample(1).iloc[0]\n",
    "\n",
    "print(\"📌 Situation:\", sample[\"situation\"])\n",
    "print(\"🤖 AGS's Question:\", sample[\"follow_up_question\"])\n",
    "print(\"🎯 Curiosity Type:\", sample[\"curiosity_type\"])\n",
    "\n",
    "\n",
    "\n",
    "\n",
    "📊 Curiosity Type Distribution\n",
    "\n",
    "import seaborn as sns\n",
    "import matplotlib.pyplot as plt\n",
    "\n",
    "plt.figure(figsize=(8, 5))\n",
    "sns.countplot(data=df, x='curiosity_type', palette='coolwarm')\n",
    "plt.title(\"Types of Curiosity Questions AGS Asks\")\n",
    "plt.xlabel(\"Curiosity Type\")\n",
    "plt.ylabel(\"Count\")\n",
    "plt.xticks(rotation=45)\n",
    "plt.tight_layout()\n",
    "plt.show()\n",
    "\n",
    "\n",
    "\n",
    "\n",
    "📁 Sample JSON Format\n",
    "\n",
    "Save this as: ags_029_curiosity_engine.json\n",
    "\n",
    "[\n",
    "  {\n",
    "    \"id\": \"cu_001\",\n",
    "    \"situation\": \"A child is playing with building blocks.\",\n",
    "    \"follow_up_question\": \"What is the child trying to build?\",\n",
    "    \"curiosity_type\": \"clarifying intent\"\n",
    "  },\n",
    "  {\n",
    "    \"id\": \"cu_002\",\n",
    "    \"situation\": \"A person mentions they’re moving to a new city.\",\n",
    "    \"follow_up_question\": \"What inspired the move?\",\n",
    "    \"curiosity_type\": \"seeking motivation\"\n",
    "  }\n",
    "]\n",
    "\n",
    "\n",
    "\n",
    "\n",
    "✅ Summary\n",
    "\n",
    "This notebook helps AGS:\n",
    "- Exhibit curiosity naturally\n",
    "- Generate questions to deepen dialogue\n",
    "- Understand context and motivation"
   ]
  }
 ],
 "metadata": {
  "kaggle": {
   "accelerator": "none",
   "dataSources": [],
   "isGpuEnabled": false,
   "isInternetEnabled": true,
   "language": "python",
   "sourceType": "notebook"
  },
  "kernelspec": {
   "display_name": "Python 3",
   "language": "python",
   "name": "python3"
  },
  "language_info": {
   "codemirror_mode": {
    "name": "ipython",
    "version": 3
   },
   "file_extension": ".py",
   "mimetype": "text/x-python",
   "name": "python",
   "nbconvert_exporter": "python",
   "pygments_lexer": "ipython3",
   "version": "3.11.13"
  },
  "papermill": {
   "default_parameters": {},
   "duration": 6.959407,
   "end_time": "2025-07-26T12:58:12.269621",
   "environment_variables": {},
   "exception": true,
   "input_path": "__notebook__.ipynb",
   "output_path": "__notebook__.ipynb",
   "parameters": {},
   "start_time": "2025-07-26T12:58:05.310214",
   "version": "2.6.0"
  }
 },
 "nbformat": 4,
 "nbformat_minor": 5
}
