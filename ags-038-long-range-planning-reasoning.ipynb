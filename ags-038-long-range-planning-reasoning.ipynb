{
 "cells": [
  {
   "cell_type": "code",
   "execution_count": 1,
   "id": "543fb5ed",
   "metadata": {
    "_cell_guid": "b1076dfc-b9ad-4769-8c92-a6c4dae69d19",
    "_uuid": "8f2839f25d086af736a60e9eeb907d3b93b6e0e5",
    "execution": {
     "iopub.execute_input": "2025-07-26T13:25:43.755859Z",
     "iopub.status.busy": "2025-07-26T13:25:43.754883Z",
     "iopub.status.idle": "2025-07-26T13:25:45.690533Z",
     "shell.execute_reply": "2025-07-26T13:25:45.689549Z"
    },
    "papermill": {
     "duration": 1.941414,
     "end_time": "2025-07-26T13:25:45.692585",
     "exception": false,
     "start_time": "2025-07-26T13:25:43.751171",
     "status": "completed"
    },
    "tags": []
   },
   "outputs": [],
   "source": [
    "# This Python 3 environment comes with many helpful analytics libraries installed\n",
    "# It is defined by the kaggle/python Docker image: https://github.com/kaggle/docker-python\n",
    "# For example, here's several helpful packages to load\n",
    "\n",
    "import numpy as np # linear algebra\n",
    "import pandas as pd # data processing, CSV file I/O (e.g. pd.read_csv)\n",
    "\n",
    "# Input data files are available in the read-only \"../input/\" directory\n",
    "# For example, running this (by clicking run or pressing Shift+Enter) will list all files under the input directory\n",
    "\n",
    "import os\n",
    "for dirname, _, filenames in os.walk('/kaggle/input'):\n",
    "    for filename in filenames:\n",
    "        print(os.path.join(dirname, filename))\n",
    "\n",
    "# You can write up to 20GB to the current directory (/kaggle/working/) that gets preserved as output when you create a version using \"Save & Run All\" \n",
    "# You can also write temporary files to /kaggle/temp/, but they won't be saved outside of the current session"
   ]
  },
  {
   "cell_type": "code",
   "execution_count": 2,
   "id": "1b36a08e",
   "metadata": {
    "execution": {
     "iopub.execute_input": "2025-07-26T13:25:45.699596Z",
     "iopub.status.busy": "2025-07-26T13:25:45.699067Z",
     "iopub.status.idle": "2025-07-26T13:25:45.709414Z",
     "shell.execute_reply": "2025-07-26T13:25:45.707700Z"
    },
    "papermill": {
     "duration": 0.015294,
     "end_time": "2025-07-26T13:25:45.711242",
     "exception": true,
     "start_time": "2025-07-26T13:25:45.695948",
     "status": "failed"
    },
    "tags": []
   },
   "outputs": [
    {
     "ename": "SyntaxError",
     "evalue": "invalid character '🧠' (U+1F9E0) (1325735688.py, line 17)",
     "output_type": "error",
     "traceback": [
      "\u001b[0;36m  File \u001b[0;32m\"/tmp/ipykernel_13/1325735688.py\"\u001b[0;36m, line \u001b[0;32m17\u001b[0m\n\u001b[0;31m    🧠 Example of Long-Range Planning Task\u001b[0m\n\u001b[0m    ^\u001b[0m\n\u001b[0;31mSyntaxError\u001b[0m\u001b[0;31m:\u001b[0m invalid character '🧠' (U+1F9E0)\n"
     ]
    }
   ],
   "source": [
    "# AGS 038 – Long-Range Planning Reasoning\n",
    "# 🎯 Goal: Evaluate the AI's ability to reason over long-term plans or multi-step strategies.\n",
    "\n",
    "import pandas as pd\n",
    "import json\n",
    "\n",
    "# ✅ Load dataset (Upload as ags_038_long_range_plans.json)\n",
    "with open('/kaggle/input/ags-038-long-range/ags_038_long_range_plans.json') as f:\n",
    "    data = json.load(f)\n",
    "\n",
    "df = pd.DataFrame(data)\n",
    "df.head()\n",
    "\n",
    "\n",
    "\n",
    "\n",
    "🧠 Example of Long-Range Planning Task\n",
    "\n",
    "sample = df.sample(1).iloc[0]\n",
    "print(\"🎯 Goal:\", sample[\"goal\"])\n",
    "print(\"📋 Plan:\", sample[\"plan\"])\n",
    "print(\"🧠 Reasoning:\", sample[\"reasoning\"])\n",
    "print(\"🔍 Reasoning Type:\", sample[\"reasoning_type\"])\n",
    "\n",
    "\n",
    "\n",
    "\n",
    "📊 Plan Length Distribution\n",
    "\n",
    "df['plan_len'] = df['plan'].apply(lambda x: len(x.split()))\n",
    "df['plan_len'].hist(bins=15, color='green')\n",
    "plt.title(\"📐 Plan Word Length Distribution\")\n",
    "plt.xlabel(\"Words in Plan\")\n",
    "plt.ylabel(\"Count\")\n",
    "plt.show()\n",
    "\n",
    "\n",
    "\n",
    "\n",
    "💾 Sample JSON Format\n",
    "\n",
    "Save as ags_038_long_range_plans.json:\n",
    "\n",
    "[\n",
    "  {\n",
    "    \"id\": \"lr_001\",\n",
    "    \"goal\": \"Build a self-sustaining Martian colony\",\n",
    "    \"plan\": \"1. Transport materials and robotics.\\n2. Set up energy and water systems.\\n3. Construct habitats.\\n4. Establish agriculture.\\n5. Train human arrivals for survival.\",\n",
    "    \"reasoning\": \"Each step ensures sustainability and reduces reliance on Earth.\",\n",
    "    \"reasoning_type\": \"long-range planning\"\n",
    "  },\n",
    "  {\n",
    "    \"id\": \"lr_002\",\n",
    "    \"goal\": \"Achieve global renewable energy by 2050\",\n",
    "    \"plan\": \"1. Subsidize solar/wind now.\\n2. Phase out fossil incentives.\\n3. Expand battery storage.\\n4. International cooperation on grids.\\n5. Educate and retrain fossil-fuel workers.\",\n",
    "    \"reasoning\": \"Transition requires phased political, economic, and tech steps.\",\n",
    "    \"reasoning_type\": \"long-range planning\"\n",
    "  }\n",
    "]"
   ]
  }
 ],
 "metadata": {
  "kaggle": {
   "accelerator": "none",
   "dataSources": [],
   "isGpuEnabled": false,
   "isInternetEnabled": true,
   "language": "python",
   "sourceType": "notebook"
  },
  "kernelspec": {
   "display_name": "Python 3",
   "language": "python",
   "name": "python3"
  },
  "language_info": {
   "codemirror_mode": {
    "name": "ipython",
    "version": 3
   },
   "file_extension": ".py",
   "mimetype": "text/x-python",
   "name": "python",
   "nbconvert_exporter": "python",
   "pygments_lexer": "ipython3",
   "version": "3.11.13"
  },
  "papermill": {
   "default_parameters": {},
   "duration": 7.653373,
   "end_time": "2025-07-26T13:25:46.436863",
   "environment_variables": {},
   "exception": true,
   "input_path": "__notebook__.ipynb",
   "output_path": "__notebook__.ipynb",
   "parameters": {},
   "start_time": "2025-07-26T13:25:38.783490",
   "version": "2.6.0"
  }
 },
 "nbformat": 4,
 "nbformat_minor": 5
}
