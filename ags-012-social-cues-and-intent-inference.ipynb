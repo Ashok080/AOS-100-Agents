{
 "cells": [
  {
   "cell_type": "code",
   "execution_count": 1,
   "id": "2e9f657b",
   "metadata": {
    "_cell_guid": "b1076dfc-b9ad-4769-8c92-a6c4dae69d19",
    "_uuid": "8f2839f25d086af736a60e9eeb907d3b93b6e0e5",
    "execution": {
     "iopub.execute_input": "2025-07-26T11:43:59.590788Z",
     "iopub.status.busy": "2025-07-26T11:43:59.590446Z",
     "iopub.status.idle": "2025-07-26T11:44:01.448605Z",
     "shell.execute_reply": "2025-07-26T11:44:01.447830Z"
    },
    "papermill": {
     "duration": 1.863221,
     "end_time": "2025-07-26T11:44:01.450313",
     "exception": false,
     "start_time": "2025-07-26T11:43:59.587092",
     "status": "completed"
    },
    "tags": []
   },
   "outputs": [],
   "source": [
    "# This Python 3 environment comes with many helpful analytics libraries installed\n",
    "# It is defined by the kaggle/python Docker image: https://github.com/kaggle/docker-python\n",
    "# For example, here's several helpful packages to load\n",
    "\n",
    "import numpy as np # linear algebra\n",
    "import pandas as pd # data processing, CSV file I/O (e.g. pd.read_csv)\n",
    "\n",
    "# Input data files are available in the read-only \"../input/\" directory\n",
    "# For example, running this (by clicking run or pressing Shift+Enter) will list all files under the input directory\n",
    "\n",
    "import os\n",
    "for dirname, _, filenames in os.walk('/kaggle/input'):\n",
    "    for filename in filenames:\n",
    "        print(os.path.join(dirname, filename))\n",
    "\n",
    "# You can write up to 20GB to the current directory (/kaggle/working/) that gets preserved as output when you create a version using \"Save & Run All\" \n",
    "# You can also write temporary files to /kaggle/temp/, but they won't be saved outside of the current session"
   ]
  },
  {
   "cell_type": "code",
   "execution_count": 2,
   "id": "ff20c3e8",
   "metadata": {
    "execution": {
     "iopub.execute_input": "2025-07-26T11:44:01.455299Z",
     "iopub.status.busy": "2025-07-26T11:44:01.454559Z",
     "iopub.status.idle": "2025-07-26T11:44:01.464448Z",
     "shell.execute_reply": "2025-07-26T11:44:01.463196Z"
    },
    "papermill": {
     "duration": 0.013659,
     "end_time": "2025-07-26T11:44:01.465884",
     "exception": true,
     "start_time": "2025-07-26T11:44:01.452225",
     "status": "failed"
    },
    "tags": []
   },
   "outputs": [
    {
     "ename": "SyntaxError",
     "evalue": "invalid character '📊' (U+1F4CA) (2747319928.py, line 21)",
     "output_type": "error",
     "traceback": [
      "\u001b[0;36m  File \u001b[0;32m\"/tmp/ipykernel_13/2747319928.py\"\u001b[0;36m, line \u001b[0;32m21\u001b[0m\n\u001b[0;31m    📊 Social Cue Reasoning Types\u001b[0m\n\u001b[0m    ^\u001b[0m\n\u001b[0;31mSyntaxError\u001b[0m\u001b[0;31m:\u001b[0m invalid character '📊' (U+1F4CA)\n"
     ]
    }
   ],
   "source": [
    "Inference\n",
    "\n",
    "# 🎯 Goal: Teach AGS to infer people's intentions based on subtle social cues like facial expressions, posture, and indirect speech.\n",
    "\n",
    "import pandas as pd\n",
    "import seaborn as sns\n",
    "import matplotlib.pyplot as plt\n",
    "import json\n",
    "from wordcloud import WordCloud\n",
    "\n",
    "# ✅ Load dataset (upload to Kaggle as ags_012_social_intent.json)\n",
    "with open('/kaggle/input/ags-012-social-intent/ags_012_social_intent.json', 'r') as f:\n",
    "    data = json.load(f)\n",
    "\n",
    "df = pd.DataFrame(data)\n",
    "df.head()\n",
    "\n",
    "\n",
    "\n",
    "\n",
    "📊 Social Cue Reasoning Types\n",
    "\n",
    "plt.figure(figsize=(8,5))\n",
    "sns.countplot(data=df, x='reasoning_type', palette='Set2')\n",
    "plt.title('Types of Social Cue Reasoning')\n",
    "plt.xticks(rotation=30)\n",
    "plt.xlabel(\"Reasoning Type\")\n",
    "plt.ylabel(\"Count\")\n",
    "plt.tight_layout()\n",
    "plt.show()\n",
    "\n",
    "\n",
    "\n",
    "\n",
    "☁️ Word Cloud from Situations\n",
    "\n",
    "text = ' '.join(df['situation'])\n",
    "wordcloud = WordCloud(width=800, height=400, background_color='white').generate(text)\n",
    "\n",
    "plt.figure(figsize=(10, 5))\n",
    "plt.imshow(wordcloud, interpolation='bilinear')\n",
    "plt.axis('off')\n",
    "plt.title('Social Situations Word Cloud')\n",
    "plt.show()\n",
    "\n",
    "\n",
    "\n",
    "\n",
    "🔍 Sample Entry\n",
    "\n",
    "sample = df.sample(1).iloc[0]\n",
    "\n",
    "print(\"👥 Situation:\", sample['situation'])\n",
    "print(\"❓ Question:\", sample['question'])\n",
    "print(\"✅ Answer:\", sample['answer'])\n",
    "print(\"🧠 Reasoning Type:\", sample['reasoning_type'])\n",
    "\n",
    "\n",
    "\n",
    "\n",
    "✅ Summary\n",
    "\n",
    "Use case:\n",
    "- Build social-intelligent AI agents\n",
    "- Model empathy and interpersonal understanding\n",
    "- Support learning in therapeutic, educational, and emotional contexts\n",
    "\n",
    "\n",
    "\n",
    "\n",
    "📁 Sample JSON Data\n",
    "\n",
    "Save as: ags_012_social_intent.json\n",
    "\n",
    "[\n",
    "  {\n",
    "    \"id\": \"soc_001\",\n",
    "    \"situation\": \"Alex glances repeatedly at his watch during the meeting.\",\n",
    "    \"question\": \"What might Alex be feeling?\",\n",
    "    \"answer\": \"He may be anxious or in a hurry, possibly worried about time.\",\n",
    "    \"reasoning_type\": \"intent inference\"\n",
    "  },\n",
    "  {\n",
    "    \"id\": \"soc_002\",\n",
    "    \"situation\": \"Jamie gives a half-smile and avoids eye contact after being praised.\",\n",
    "    \"question\": \"What does Jamie’s reaction suggest?\",\n",
    "    \"answer\": \"Jamie may feel shy or uncomfortable with praise.\",\n",
    "    \"reasoning_type\": \"nonverbal social cue\"\n",
    "  }\n",
    "]"
   ]
  }
 ],
 "metadata": {
  "kaggle": {
   "accelerator": "none",
   "dataSources": [],
   "isGpuEnabled": false,
   "isInternetEnabled": true,
   "language": "python",
   "sourceType": "notebook"
  },
  "kernelspec": {
   "display_name": "Python 3",
   "language": "python",
   "name": "python3"
  },
  "language_info": {
   "codemirror_mode": {
    "name": "ipython",
    "version": 3
   },
   "file_extension": ".py",
   "mimetype": "text/x-python",
   "name": "python",
   "nbconvert_exporter": "python",
   "pygments_lexer": "ipython3",
   "version": "3.11.13"
  },
  "papermill": {
   "default_parameters": {},
   "duration": 7.297325,
   "end_time": "2025-07-26T11:44:01.987993",
   "environment_variables": {},
   "exception": true,
   "input_path": "__notebook__.ipynb",
   "output_path": "__notebook__.ipynb",
   "parameters": {},
   "start_time": "2025-07-26T11:43:54.690668",
   "version": "2.6.0"
  }
 },
 "nbformat": 4,
 "nbformat_minor": 5
}
