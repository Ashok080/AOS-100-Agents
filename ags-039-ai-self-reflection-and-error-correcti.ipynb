{
 "cells": [
  {
   "cell_type": "code",
   "execution_count": 1,
   "id": "a126ef54",
   "metadata": {
    "_cell_guid": "b1076dfc-b9ad-4769-8c92-a6c4dae69d19",
    "_uuid": "8f2839f25d086af736a60e9eeb907d3b93b6e0e5",
    "execution": {
     "iopub.execute_input": "2025-07-26T14:37:40.180809Z",
     "iopub.status.busy": "2025-07-26T14:37:40.180431Z",
     "iopub.status.idle": "2025-07-26T14:37:42.275947Z",
     "shell.execute_reply": "2025-07-26T14:37:42.274624Z"
    },
    "papermill": {
     "duration": 2.101203,
     "end_time": "2025-07-26T14:37:42.278011",
     "exception": false,
     "start_time": "2025-07-26T14:37:40.176808",
     "status": "completed"
    },
    "tags": []
   },
   "outputs": [],
   "source": [
    "# This Python 3 environment comes with many helpful analytics libraries installed\n",
    "# It is defined by the kaggle/python Docker image: https://github.com/kaggle/docker-python\n",
    "# For example, here's several helpful packages to load\n",
    "\n",
    "import numpy as np # linear algebra\n",
    "import pandas as pd # data processing, CSV file I/O (e.g. pd.read_csv)\n",
    "\n",
    "# Input data files are available in the read-only \"../input/\" directory\n",
    "# For example, running this (by clicking run or pressing Shift+Enter) will list all files under the input directory\n",
    "\n",
    "import os\n",
    "for dirname, _, filenames in os.walk('/kaggle/input'):\n",
    "    for filename in filenames:\n",
    "        print(os.path.join(dirname, filename))\n",
    "\n",
    "# You can write up to 20GB to the current directory (/kaggle/working/) that gets preserved as output when you create a version using \"Save & Run All\" \n",
    "# You can also write temporary files to /kaggle/temp/, but they won't be saved outside of the current session"
   ]
  },
  {
   "cell_type": "code",
   "execution_count": 2,
   "id": "4bc4d445",
   "metadata": {
    "execution": {
     "iopub.execute_input": "2025-07-26T14:37:42.283630Z",
     "iopub.status.busy": "2025-07-26T14:37:42.283142Z",
     "iopub.status.idle": "2025-07-26T14:37:42.292286Z",
     "shell.execute_reply": "2025-07-26T14:37:42.291152Z"
    },
    "papermill": {
     "duration": 0.013687,
     "end_time": "2025-07-26T14:37:42.293929",
     "exception": false,
     "start_time": "2025-07-26T14:37:42.280242",
     "status": "completed"
    },
    "tags": []
   },
   "outputs": [
    {
     "name": "stdout",
     "output_type": "stream",
     "text": [
      "✅ AGS 039 reflection dataset saved: ags_039_self_reflection.json\n"
     ]
    }
   ],
   "source": [
    "# 📓 AGS 039 – AI Self-Reflection and Error Correction\n",
    "# This notebook teaches AGS models to reflect on mistakes and improve their reasoning.\n",
    "\n",
    "import json\n",
    "\n",
    "reflection_examples = [\n",
    "    {\n",
    "        \"id\": \"ags_039_001\",\n",
    "        \"task\": \"The AI gave a wrong answer to a math word problem.\",\n",
    "        \"error\": \"It missed converting minutes into hours.\",\n",
    "        \"reflection\": \"I should double-check unit conversions before solving.\",\n",
    "        \"correction\": \"Fix the units before recalculating the time.\"\n",
    "    },\n",
    "    {\n",
    "        \"id\": \"ags_039_002\",\n",
    "        \"task\": \"The AI generated a confusing response to an emotional support query.\",\n",
    "        \"error\": \"The tone was too robotic.\",\n",
    "        \"reflection\": \"I should match the user’s emotional tone and show empathy.\",\n",
    "        \"correction\": \"Add a friendly sentence like 'I'm here for you.'\"\n",
    "    },\n",
    "    {\n",
    "        \"id\": \"ags_039_003\",\n",
    "        \"task\": \"The AI made a factual mistake about World War II.\",\n",
    "        \"error\": \"It said the war ended in 1944.\",\n",
    "        \"reflection\": \"Verify historical facts from reliable sources.\",\n",
    "        \"correction\": \"Correct end year to 1945.\"\n",
    "    }\n",
    "]\n",
    "\n",
    "# Save as JSON\n",
    "with open(\"ags_039_self_reflection.json\", \"w\") as f:\n",
    "    json.dump(reflection_examples, f, indent=2)\n",
    "\n",
    "print(\"✅ AGS 039 reflection dataset saved: ags_039_self_reflection.json\")"
   ]
  }
 ],
 "metadata": {
  "kaggle": {
   "accelerator": "none",
   "dataSources": [],
   "isGpuEnabled": false,
   "isInternetEnabled": true,
   "language": "python",
   "sourceType": "notebook"
  },
  "kernelspec": {
   "display_name": "Python 3",
   "language": "python",
   "name": "python3"
  },
  "language_info": {
   "codemirror_mode": {
    "name": "ipython",
    "version": 3
   },
   "file_extension": ".py",
   "mimetype": "text/x-python",
   "name": "python",
   "nbconvert_exporter": "python",
   "pygments_lexer": "ipython3",
   "version": "3.11.13"
  },
  "papermill": {
   "default_parameters": {},
   "duration": 8.359489,
   "end_time": "2025-07-26T14:37:43.018068",
   "environment_variables": {},
   "exception": null,
   "input_path": "__notebook__.ipynb",
   "output_path": "__notebook__.ipynb",
   "parameters": {},
   "start_time": "2025-07-26T14:37:34.658579",
   "version": "2.6.0"
  }
 },
 "nbformat": 4,
 "nbformat_minor": 5
}
