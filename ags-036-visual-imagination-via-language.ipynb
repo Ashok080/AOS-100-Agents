{
 "cells": [
  {
   "cell_type": "code",
   "execution_count": 1,
   "id": "aeb85b60",
   "metadata": {
    "_cell_guid": "b1076dfc-b9ad-4769-8c92-a6c4dae69d19",
    "_uuid": "8f2839f25d086af736a60e9eeb907d3b93b6e0e5",
    "execution": {
     "iopub.execute_input": "2025-07-26T13:19:06.895774Z",
     "iopub.status.busy": "2025-07-26T13:19:06.895448Z",
     "iopub.status.idle": "2025-07-26T13:19:08.743322Z",
     "shell.execute_reply": "2025-07-26T13:19:08.742408Z"
    },
    "papermill": {
     "duration": 1.852808,
     "end_time": "2025-07-26T13:19:08.744946",
     "exception": false,
     "start_time": "2025-07-26T13:19:06.892138",
     "status": "completed"
    },
    "tags": []
   },
   "outputs": [],
   "source": [
    "# This Python 3 environment comes with many helpful analytics libraries installed\n",
    "# It is defined by the kaggle/python Docker image: https://github.com/kaggle/docker-python\n",
    "# For example, here's several helpful packages to load\n",
    "\n",
    "import numpy as np # linear algebra\n",
    "import pandas as pd # data processing, CSV file I/O (e.g. pd.read_csv)\n",
    "\n",
    "# Input data files are available in the read-only \"../input/\" directory\n",
    "# For example, running this (by clicking run or pressing Shift+Enter) will list all files under the input directory\n",
    "\n",
    "import os\n",
    "for dirname, _, filenames in os.walk('/kaggle/input'):\n",
    "    for filename in filenames:\n",
    "        print(os.path.join(dirname, filename))\n",
    "\n",
    "# You can write up to 20GB to the current directory (/kaggle/working/) that gets preserved as output when you create a version using \"Save & Run All\" \n",
    "# You can also write temporary files to /kaggle/temp/, but they won't be saved outside of the current session"
   ]
  },
  {
   "cell_type": "code",
   "execution_count": 2,
   "id": "ee91bd80",
   "metadata": {
    "execution": {
     "iopub.execute_input": "2025-07-26T13:19:08.749748Z",
     "iopub.status.busy": "2025-07-26T13:19:08.749293Z",
     "iopub.status.idle": "2025-07-26T13:19:08.758078Z",
     "shell.execute_reply": "2025-07-26T13:19:08.756981Z"
    },
    "papermill": {
     "duration": 0.012679,
     "end_time": "2025-07-26T13:19:08.759515",
     "exception": true,
     "start_time": "2025-07-26T13:19:08.746836",
     "status": "failed"
    },
    "tags": []
   },
   "outputs": [
    {
     "ename": "SyntaxError",
     "evalue": "invalid character '🖼' (U+1F5BC) (2979974472.py, line 17)",
     "output_type": "error",
     "traceback": [
      "\u001b[0;36m  File \u001b[0;32m\"/tmp/ipykernel_13/2979974472.py\"\u001b[0;36m, line \u001b[0;32m17\u001b[0m\n\u001b[0;31m    🖼️ Show One Visual Imagination Task\u001b[0m\n\u001b[0m    ^\u001b[0m\n\u001b[0;31mSyntaxError\u001b[0m\u001b[0;31m:\u001b[0m invalid character '🖼' (U+1F5BC)\n"
     ]
    }
   ],
   "source": [
    "# AGS 036 – Visual Imagination via Language\n",
    "# 🎯 Goal: Evaluate the AI’s ability to imagine a visual scene described only in text.\n",
    "\n",
    "import pandas as pd\n",
    "import json\n",
    "\n",
    "# ✅ Load dataset (Upload as ags_036_visual_imagination.json)\n",
    "with open('/kaggle/input/ags-036-visual-imagination/ags_036_visual_imagination.json') as f:\n",
    "    data = json.load(f)\n",
    "\n",
    "df = pd.DataFrame(data)\n",
    "df.head()\n",
    "\n",
    "\n",
    "\n",
    "\n",
    "🖼️ Show One Visual Imagination Task\n",
    "\n",
    "sample = df.sample(1).iloc[0]\n",
    "print(\"📝 Description:\", sample[\"description\"])\n",
    "print(\"🧠 Visual Features:\", sample[\"visual_features\"])\n",
    "print(\"🔍 Reasoning Type:\", sample[\"reasoning_type\"])\n",
    "\n",
    "\n",
    "\n",
    "\n",
    "📊 Count Visual Feature Words\n",
    "\n",
    "df['feature_word_count'] = df['visual_features'].apply(lambda x: len(x.split()))\n",
    "df['feature_word_count'].hist(bins=20, color='mediumpurple')\n",
    "plt.title(\"🖼️ Visual Feature Description Length\")\n",
    "plt.xlabel(\"Number of Words\")\n",
    "plt.ylabel(\"Count\")\n",
    "plt.show()\n",
    "\n",
    "\n",
    "\n",
    "\n",
    "💾 Sample JSON Format\n",
    "\n",
    "Save as ags_036_visual_imagination.json:\n",
    "\n",
    "[\n",
    "  {\n",
    "    \"id\": \"vi_001\",\n",
    "    \"description\": \"A child stands in front of a massive waterfall holding a red balloon.\",\n",
    "    \"visual_features\": \"Tall waterfall, mist in the air, wet rocks, child in yellow raincoat, red balloon floating upwards\",\n",
    "    \"reasoning_type\": \"visual imagination\"\n",
    "  },\n",
    "  {\n",
    "    \"id\": \"vi_002\",\n",
    "    \"description\": \"An old library filled with ancient books and a glowing orb on a pedestal.\",\n",
    "    \"visual_features\": \"Dusty bookshelves, dim lighting, wooden floor, glowing blue orb, magical atmosphere\",\n",
    "    \"reasoning_type\": \"visual imagination\"\n",
    "  }\n",
    "]"
   ]
  }
 ],
 "metadata": {
  "kaggle": {
   "accelerator": "none",
   "dataSources": [],
   "isGpuEnabled": false,
   "isInternetEnabled": true,
   "language": "python",
   "sourceType": "notebook"
  },
  "kernelspec": {
   "display_name": "Python 3",
   "language": "python",
   "name": "python3"
  },
  "language_info": {
   "codemirror_mode": {
    "name": "ipython",
    "version": 3
   },
   "file_extension": ".py",
   "mimetype": "text/x-python",
   "name": "python",
   "nbconvert_exporter": "python",
   "pygments_lexer": "ipython3",
   "version": "3.11.13"
  },
  "papermill": {
   "default_parameters": {},
   "duration": 7.390601,
   "end_time": "2025-07-26T13:19:09.281062",
   "environment_variables": {},
   "exception": true,
   "input_path": "__notebook__.ipynb",
   "output_path": "__notebook__.ipynb",
   "parameters": {},
   "start_time": "2025-07-26T13:19:01.890461",
   "version": "2.6.0"
  }
 },
 "nbformat": 4,
 "nbformat_minor": 5
}
