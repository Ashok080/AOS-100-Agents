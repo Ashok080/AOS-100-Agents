{
 "cells": [
  {
   "cell_type": "code",
   "execution_count": 1,
   "id": "d6196d01",
   "metadata": {
    "_cell_guid": "b1076dfc-b9ad-4769-8c92-a6c4dae69d19",
    "_uuid": "8f2839f25d086af736a60e9eeb907d3b93b6e0e5",
    "execution": {
     "iopub.execute_input": "2025-07-26T15:22:59.344605Z",
     "iopub.status.busy": "2025-07-26T15:22:59.344296Z",
     "iopub.status.idle": "2025-07-26T15:23:01.253201Z",
     "shell.execute_reply": "2025-07-26T15:23:01.252083Z"
    },
    "papermill": {
     "duration": 1.914099,
     "end_time": "2025-07-26T15:23:01.255340",
     "exception": false,
     "start_time": "2025-07-26T15:22:59.341241",
     "status": "completed"
    },
    "tags": []
   },
   "outputs": [],
   "source": [
    "# This Python 3 environment comes with many helpful analytics libraries installed\n",
    "# It is defined by the kaggle/python Docker image: https://github.com/kaggle/docker-python\n",
    "# For example, here's several helpful packages to load\n",
    "\n",
    "import numpy as np # linear algebra\n",
    "import pandas as pd # data processing, CSV file I/O (e.g. pd.read_csv)\n",
    "\n",
    "# Input data files are available in the read-only \"../input/\" directory\n",
    "# For example, running this (by clicking run or pressing Shift+Enter) will list all files under the input directory\n",
    "\n",
    "import os\n",
    "for dirname, _, filenames in os.walk('/kaggle/input'):\n",
    "    for filename in filenames:\n",
    "        print(os.path.join(dirname, filename))\n",
    "\n",
    "# You can write up to 20GB to the current directory (/kaggle/working/) that gets preserved as output when you create a version using \"Save & Run All\" \n",
    "# You can also write temporary files to /kaggle/temp/, but they won't be saved outside of the current session"
   ]
  },
  {
   "cell_type": "code",
   "execution_count": 2,
   "id": "7317c408",
   "metadata": {
    "execution": {
     "iopub.execute_input": "2025-07-26T15:23:01.260965Z",
     "iopub.status.busy": "2025-07-26T15:23:01.260392Z",
     "iopub.status.idle": "2025-07-26T15:23:01.353959Z",
     "shell.execute_reply": "2025-07-26T15:23:01.352770Z"
    },
    "papermill": {
     "duration": 0.097795,
     "end_time": "2025-07-26T15:23:01.355373",
     "exception": true,
     "start_time": "2025-07-26T15:23:01.257578",
     "status": "failed"
    },
    "tags": []
   },
   "outputs": [
    {
     "ename": "ModuleNotFoundError",
     "evalue": "No module named 'AGS'",
     "output_type": "error",
     "traceback": [
      "\u001b[0;31m---------------------------------------------------------------------------\u001b[0m",
      "\u001b[0;31mModuleNotFoundError\u001b[0m                       Traceback (most recent call last)",
      "\u001b[0;32m/tmp/ipykernel_13/3113074940.py\u001b[0m in \u001b[0;36m<cell line: 0>\u001b[0;34m()\u001b[0m\n\u001b[1;32m      5\u001b[0m \"\"\"\n\u001b[1;32m      6\u001b[0m \u001b[0;34m\u001b[0m\u001b[0m\n\u001b[0;32m----> 7\u001b[0;31m \u001b[0;32mfrom\u001b[0m \u001b[0mAGS\u001b[0m\u001b[0;34m.\u001b[0m\u001b[0mreasoning\u001b[0m \u001b[0;32mimport\u001b[0m \u001b[0mEthicalReasoner\u001b[0m\u001b[0;34m\u001b[0m\u001b[0;34m\u001b[0m\u001b[0m\n\u001b[0m\u001b[1;32m      8\u001b[0m \u001b[0;32mfrom\u001b[0m \u001b[0mAGS\u001b[0m\u001b[0;34m.\u001b[0m\u001b[0mmemory\u001b[0m \u001b[0;32mimport\u001b[0m \u001b[0mAgentMemory\u001b[0m\u001b[0;34m\u001b[0m\u001b[0;34m\u001b[0m\u001b[0m\n\u001b[1;32m      9\u001b[0m \u001b[0;34m\u001b[0m\u001b[0m\n",
      "\u001b[0;31mModuleNotFoundError\u001b[0m: No module named 'AGS'"
     ]
    }
   ],
   "source": [
    "# AGS 052 – Ethical Reasoning with Moral Dilemmas\n",
    "\n",
    "\"\"\"\n",
    "This notebook explores AGS's ability to reason through moral dilemmas using utilitarian and deontological frameworks.\n",
    "\"\"\"\n",
    "\n",
    "from AGS.reasoning import EthicalReasoner\n",
    "from AGS.memory import AgentMemory\n",
    "\n",
    "# Initialize modules\n",
    "ethics = EthicalReasoner()\n",
    "memory = AgentMemory()\n",
    "\n",
    "# Dilemma 1: Trolley Problem\n",
    "scenario_1 = {\n",
    "    \"description\": \"A runaway trolley is heading toward 5 people on the track. You can pull a lever to switch the trolley to another track where 1 person is standing.\",\n",
    "    \"options\": [\n",
    "        {\"action\": \"Pull the lever\", \"outcome\": \"1 dies, 5 survive\"},\n",
    "        {\"action\": \"Do nothing\", \"outcome\": \"5 die, 1 survives\"}\n",
    "    ]\n",
    "}\n",
    "\n",
    "# Apply ethical reasoning (utilitarianism)\n",
    "result_1 = ethics.analyze(scenario_1, method=\"utilitarianism\")\n",
    "\n",
    "# Store result\n",
    "memory.store(\"Ethical Dilemma\", scenario_1[\"description\"], reasoning=result_1[\"reasoning\"])\n",
    "\n",
    "print(\"Scenario:\", scenario_1[\"description\"])\n",
    "print(\"Utilitarian Decision:\", result_1[\"decision\"])\n",
    "print(\"Reasoning:\", result_1[\"reasoning\"])\n",
    "\n",
    "# Dilemma 2: Lying to Protect\n",
    "scenario_2 = {\n",
    "    \"description\": \"You are hiding a person in your home. An authority figure asks if they are inside. Lying saves them.\",\n",
    "    \"options\": [\n",
    "        {\"action\": \"Tell the truth\", \"outcome\": \"Person is found and harmed\"},\n",
    "        {\"action\": \"Lie\", \"outcome\": \"Person remains safe\"}\n",
    "    ]\n",
    "}\n",
    "\n",
    "# Apply ethical reasoning (deontology)\n",
    "result_2 = ethics.analyze(scenario_2, method=\"deontology\")\n",
    "\n",
    "# Store result\n",
    "memory.store(\"Ethical Dilemma\", scenario_2[\"description\"], reasoning=result_2[\"reasoning\"])\n",
    "\n",
    "print(\"\\nScenario:\", scenario_2[\"description\"])\n",
    "print(\"Deontological Decision:\", result_2[\"decision\"])\n",
    "print(\"Reasoning:\", result_2[\"reasoning\"])"
   ]
  }
 ],
 "metadata": {
  "kaggle": {
   "accelerator": "none",
   "dataSources": [],
   "isGpuEnabled": false,
   "isInternetEnabled": true,
   "language": "python",
   "sourceType": "notebook"
  },
  "kernelspec": {
   "display_name": "Python 3",
   "language": "python",
   "name": "python3"
  },
  "language_info": {
   "codemirror_mode": {
    "name": "ipython",
    "version": 3
   },
   "file_extension": ".py",
   "mimetype": "text/x-python",
   "name": "python",
   "nbconvert_exporter": "python",
   "pygments_lexer": "ipython3",
   "version": "3.11.13"
  },
  "papermill": {
   "default_parameters": {},
   "duration": 7.441584,
   "end_time": "2025-07-26T15:23:01.876209",
   "environment_variables": {},
   "exception": true,
   "input_path": "__notebook__.ipynb",
   "output_path": "__notebook__.ipynb",
   "parameters": {},
   "start_time": "2025-07-26T15:22:54.434625",
   "version": "2.6.0"
  }
 },
 "nbformat": 4,
 "nbformat_minor": 5
}
